{
 "cells": [
  {
   "cell_type": "markdown",
   "metadata": {},
   "source": [
    "# Day 09. Exercise 00\n",
    "# Regularization"
   ]
  },
  {
   "cell_type": "markdown",
   "metadata": {},
   "source": [
    "## 0. Imports"
   ]
  },
  {
   "cell_type": "code",
   "execution_count": 1,
   "metadata": {},
   "outputs": [],
   "source": [
    "import pandas as pd\n",
    "import numpy as np\n",
    "import matplotlib.pyplot as plt\n",
    "import seaborn as sns\n",
    "\n",
    "import warnings\n",
    "from sklearn.exceptions import ConvergenceWarning\n",
    "\n",
    "from sklearn.model_selection import train_test_split \n",
    "from sklearn.model_selection import StratifiedKFold\n",
    "from sklearn.metrics import accuracy_score\n",
    "\n",
    "from sklearn.linear_model import LogisticRegression\n",
    "from sklearn.svm import SVC\n",
    "from sklearn.tree import DecisionTreeClassifier\n",
    "from sklearn.ensemble import RandomForestClassifier\n",
    "\n",
    "import joblib "
   ]
  },
  {
   "cell_type": "markdown",
   "metadata": {},
   "source": [
    "## 1. Preprocessing"
   ]
  },
  {
   "cell_type": "markdown",
   "metadata": {},
   "source": [
    "1. Read the file `dayofweek.csv` that you used in the previous day to a dataframe.\n",
    "2. Using `train_test_split` with parameters `test_size=0.2`, `random_state=21` get `X_train`, `y_train`, `X_test`, `y_test`. Use the additional parameter `stratify`."
   ]
  },
  {
   "cell_type": "code",
   "execution_count": 2,
   "metadata": {},
   "outputs": [
    {
     "data": {
      "text/plain": [
       "(1686, 44)"
      ]
     },
     "execution_count": 2,
     "metadata": {},
     "output_type": "execute_result"
    }
   ],
   "source": [
    "df = pd.read_csv('../data/dayofweek.csv')\n",
    "df.shape"
   ]
  },
  {
   "cell_type": "code",
   "execution_count": 3,
   "metadata": {},
   "outputs": [],
   "source": [
    "X_train, X_test, y_train, y_test = train_test_split(df.drop('dayofweek', axis=1), df['dayofweek'], test_size=0.2, random_state=21, stratify=df['dayofweek'])"
   ]
  },
  {
   "cell_type": "code",
   "execution_count": 4,
   "metadata": {},
   "outputs": [
    {
     "data": {
      "text/plain": [
       "((1348, 43), (338, 43))"
      ]
     },
     "execution_count": 4,
     "metadata": {},
     "output_type": "execute_result"
    }
   ],
   "source": [
    "X_train.shape, X_test.shape"
   ]
  },
  {
   "cell_type": "code",
   "execution_count": 5,
   "metadata": {},
   "outputs": [
    {
     "data": {
      "text/plain": [
       "((1348,), (338,))"
      ]
     },
     "execution_count": 5,
     "metadata": {},
     "output_type": "execute_result"
    }
   ],
   "source": [
    "y_train.shape, y_test.shape"
   ]
  },
  {
   "cell_type": "code",
   "execution_count": 6,
   "metadata": {},
   "outputs": [],
   "source": [
    "X = df.drop('dayofweek', axis=1)\n",
    "y = df['dayofweek']"
   ]
  },
  {
   "cell_type": "markdown",
   "metadata": {},
   "source": [
    "## 2. Logreg regularization"
   ]
  },
  {
   "cell_type": "markdown",
   "metadata": {},
   "source": [
    "### a. Default regularization"
   ]
  },
  {
   "cell_type": "markdown",
   "metadata": {},
   "source": [
    "1. Train a baseline model with the only parameters `random_state=21`, `fit_intercept=False`.\n",
    "2. Use stratified K-fold cross-validation with `10` splits to evaluate the accuracy of the model\n",
    "\n",
    "\n",
    "The result of the code where you trained and evaluated the baseline model should be exactly like this (use `%%time` to get the info about how long it took to run the cell):\n",
    "\n",
    "```\n",
    "train -  0.62902   |   valid -  0.59259\n",
    "train -  0.64633   |   valid -  0.62963\n",
    "train -  0.63479   |   valid -  0.56296\n",
    "train -  0.65622   |   valid -  0.61481\n",
    "train -  0.63397   |   valid -  0.57778\n",
    "train -  0.64056   |   valid -  0.59259\n",
    "train -  0.64138   |   valid -  0.65926\n",
    "train -  0.65952   |   valid -  0.56296\n",
    "train -  0.64333   |   valid -  0.59701\n",
    "train -  0.63674   |   valid -  0.62687\n",
    "Average accuracy on crossval is 0.60165\n",
    "Std is 0.02943\n",
    "```"
   ]
  },
  {
   "cell_type": "code",
   "execution_count": 7,
   "metadata": {},
   "outputs": [
    {
     "name": "stdout",
     "output_type": "stream",
     "text": [
      "train - 0.63546 | valid - 0.65089\n",
      "train - 0.65326 | valid - 0.60947\n",
      "train - 0.63942 | valid - 0.63905\n",
      "train - 0.63283 | valid - 0.57988\n",
      "train - 0.65590 | valid - 0.57988\n",
      "train - 0.64469 | valid - 0.61538\n",
      "train - 0.63702 | valid - 0.60714\n",
      "train - 0.63636 | valid - 0.59524\n",
      "train - 0.64295 | valid - 0.68452\n",
      "train - 0.63834 | valid - 0.56548\n",
      "Average accuracy on crossval is 0.61269\n",
      "Std is 0.03471\n",
      "\n",
      "CPU times: user 3.43 s, sys: 13.3 s, total: 16.8 s\n",
      "Wall time: 2.46 s\n"
     ]
    }
   ],
   "source": [
    "%%time\n",
    "logreg = LogisticRegression(random_state=21, fit_intercept=False)\n",
    "kf = StratifiedKFold(n_splits=10, random_state=21, shuffle=True)\n",
    "valid_scores = []\n",
    "for train_index, test_index in kf.split(X, y):\n",
    "    X_train_new, X_test_new = X.iloc[train_index], X.iloc[test_index]\n",
    "    y_train_new, y_test_new = y.iloc[train_index], y.iloc[test_index]\n",
    "\n",
    "    logreg.fit(X_train_new, y_train_new)\n",
    "\n",
    "    y_train_pred = logreg.predict(X_train_new)\n",
    "    y_test_pred = logreg.predict(X_test_new)\n",
    "\n",
    "    #valid_score = logreg.score(X_test, y_test)\n",
    "    train_score = accuracy_score(y_train_new, y_train_pred)\n",
    "    valid_score = accuracy_score(y_test_new, y_test_pred)\n",
    "\n",
    "    valid_scores.append(valid_score)\n",
    "    print(f\"train - {train_score:.5f} | valid - {valid_score:.5f}\")\n",
    "    \n",
    "avg_score = np.mean(valid_scores)\n",
    "std_test = np.std(valid_scores)\n",
    "print(f'Average accuracy on crossval is {avg_score:.5f}')\n",
    "print(f'Std is {std_test:.5f}\\n')"
   ]
  },
  {
   "cell_type": "markdown",
   "metadata": {},
   "source": [
    "### b. Optimizing regularization parameters"
   ]
  },
  {
   "cell_type": "markdown",
   "metadata": {},
   "source": [
    "1. In the cells below try different values of penalty: `none`, `l1`, `l2` – you can change the values of solver too."
   ]
  },
  {
   "cell_type": "code",
   "execution_count": 8,
   "metadata": {},
   "outputs": [],
   "source": [
    "def opt_reg_params(model, X, y, **kwargs) -> tuple:\n",
    "    if kwargs:\n",
    "        model.set_params(**kwargs)\n",
    "    kf = StratifiedKFold(n_splits=10, random_state=21, shuffle=True)\n",
    "    valid_scores = []\n",
    "    for train_index, test_index in kf.split(X, y):\n",
    "        X_train, X_test = X.iloc[train_index], X.iloc[test_index]\n",
    "        y_train, y_test = y.iloc[train_index], y.iloc[test_index]\n",
    "\n",
    "        model.fit(X_train, y_train)\n",
    "\n",
    "        train_score = model.score(X_train, y_train)\n",
    "        valid_score = model.score(X_test, y_test)\n",
    "\n",
    "        valid_scores.append(valid_score)\n",
    "        print(f\"train - {train_score:.5f} | valid - {valid_score:.5f}\")\n",
    "    \n",
    "    avg_score = np.mean(valid_scores)\n",
    "    std_test = np.std(valid_scores)\n",
    "    print(f'Average accuracy on crossval is {avg_score:.5f}')\n",
    "    print(f'Std is {std_test:.5f}\\n')\n",
    "    return round(avg_score, 5), round(std_test, 5)"
   ]
  },
  {
   "cell_type": "markdown",
   "metadata": {},
   "source": [
    "## Compatibility:\n",
    "- 'none'/None \t'lbfgs', 'newton-cg', 'sag', 'saga'\tNo regularization\n",
    "- 'l1'\t        'liblinear', 'saga'\t'liblinear' is better for small datasets\n",
    "- 'l2'\t         All except 'newton-cholesky'\tDefault solver: 'lbfgs'\n",
    "- 'elasticnet'\t'saga' only\tRequires l1_ratio parameter"
   ]
  },
  {
   "cell_type": "code",
   "execution_count": null,
   "metadata": {},
   "outputs": [
    {
     "name": "stdout",
     "output_type": "stream",
     "text": [
      "Result for NEWTON-CG solver.\n",
      "train - 0.66777 | valid - 0.68639\n",
      "train - 0.66051 | valid - 0.65089\n",
      "train - 0.66183 | valid - 0.68639\n",
      "train - 0.67106 | valid - 0.59763\n",
      "train - 0.67436 | valid - 0.59172\n",
      "train - 0.66117 | valid - 0.63314\n",
      "train - 0.67062 | valid - 0.61905\n",
      "train - 0.65547 | valid - 0.61310\n",
      "train - 0.65744 | valid - 0.67857\n",
      "train - 0.66469 | valid - 0.58929\n",
      "Average accuracy on crossval is 0.63462\n",
      "Std is 0.03678\n",
      "\n",
      "Result for SAG solver.\n",
      "train - 0.66645 | valid - 0.68639\n",
      "train - 0.66051 | valid - 0.65089\n",
      "train - 0.66117 | valid - 0.68639\n",
      "train - 0.67040 | valid - 0.59763\n",
      "train - 0.67304 | valid - 0.57988\n",
      "train - 0.66051 | valid - 0.63314\n",
      "train - 0.67062 | valid - 0.61905\n",
      "train - 0.65481 | valid - 0.61310\n",
      "train - 0.65744 | valid - 0.67857\n",
      "train - 0.66469 | valid - 0.58333\n",
      "Average accuracy on crossval is 0.63284\n",
      "Std is 0.03902\n",
      "\n",
      "Result for SAGA solver.\n",
      "train - 0.66513 | valid - 0.68639\n",
      "train - 0.66249 | valid - 0.64497\n",
      "train - 0.66051 | valid - 0.68639\n",
      "train - 0.67040 | valid - 0.59763\n",
      "train - 0.67172 | valid - 0.57396\n",
      "train - 0.66051 | valid - 0.63314\n",
      "train - 0.66996 | valid - 0.61905\n",
      "train - 0.65152 | valid - 0.61310\n",
      "train - 0.65942 | valid - 0.67857\n",
      "train - 0.66403 | valid - 0.58333\n",
      "Average accuracy on crossval is 0.63165\n",
      "Std is 0.03962\n",
      "\n",
      "Result for LBFGS solver.\n",
      "Solver lbfgs failed: 'str' object has no attribute 'decode'\n"
     ]
    }
   ],
   "source": [
    "try:\n",
    "    warnings.filterwarnings(\"ignore\", category=ConvergenceWarning)\n",
    "    for solver in ['newton-cg', 'sag', 'saga','lbfgs']:\n",
    "        print(f'Result for {solver.upper()} solver.')\n",
    "        opt_reg_params(LogisticRegression(), X, y, random_state=21, fit_intercept=False, penalty='none', solver=solver)\n",
    "except Exception as e:\n",
    "    print(f'Solver {solver} failed: {str(e)}') \n",
    "finally:\n",
    "    warnings.filterwarnings(\"default\", category=ConvergenceWarning) "
   ]
  },
  {
   "cell_type": "code",
   "execution_count": 15,
   "metadata": {},
   "outputs": [
    {
     "name": "stdout",
     "output_type": "stream",
     "text": [
      "Result for SAGA solver.\n",
      "train - 0.64206 | valid - 0.63905\n",
      "train - 0.64535 | valid - 0.63314\n",
      "train - 0.63876 | valid - 0.65089\n",
      "train - 0.63678 | valid - 0.57988\n",
      "train - 0.65458 | valid - 0.56805\n",
      "train - 0.64140 | valid - 0.61538\n",
      "train - 0.64888 | valid - 0.60714\n",
      "train - 0.62978 | valid - 0.57738\n",
      "train - 0.62846 | valid - 0.67262\n",
      "train - 0.64559 | valid - 0.55952\n",
      "Average accuracy on crossval is 0.61031\n",
      "Std is 0.03645\n",
      "\n"
     ]
    }
   ],
   "source": [
    "try:\n",
    "    warnings.filterwarnings(\"ignore\", category=ConvergenceWarning)\n",
    "    for solver in ['saga']:\n",
    "        print(f'Result for {solver.upper()} solver.')\n",
    "        opt_reg_params(LogisticRegression(), X, y, random_state=21, fit_intercept=False, penalty='l1', solver=solver)\n",
    "except Exception as e:\n",
    "    print(f'Solver {solver} failed: {str(e)}') \n",
    "finally:\n",
    "    warnings.filterwarnings(\"default\", category=ConvergenceWarning) "
   ]
  },
  {
   "cell_type": "code",
   "execution_count": 16,
   "metadata": {},
   "outputs": [
    {
     "name": "stdout",
     "output_type": "stream",
     "text": [
      "Result for NEWTON-CG solver.\n",
      "train - 0.63546 | valid - 0.65089\n",
      "train - 0.65326 | valid - 0.60947\n",
      "train - 0.63942 | valid - 0.63905\n",
      "train - 0.63283 | valid - 0.57988\n",
      "train - 0.65590 | valid - 0.57988\n",
      "train - 0.64469 | valid - 0.61538\n",
      "train - 0.63702 | valid - 0.60714\n",
      "train - 0.63636 | valid - 0.59524\n",
      "train - 0.64295 | valid - 0.68452\n",
      "train - 0.63900 | valid - 0.56548\n",
      "Average accuracy on crossval is 0.61269\n",
      "Std is 0.03471\n",
      "\n",
      "Result for SAG solver.\n",
      "train - 0.63546 | valid - 0.65089\n",
      "train - 0.65326 | valid - 0.60947\n",
      "train - 0.63942 | valid - 0.63905\n",
      "train - 0.63283 | valid - 0.57988\n",
      "train - 0.65590 | valid - 0.57988\n",
      "train - 0.64469 | valid - 0.61538\n",
      "train - 0.63702 | valid - 0.60714\n",
      "train - 0.63636 | valid - 0.59524\n",
      "train - 0.64295 | valid - 0.68452\n",
      "train - 0.63900 | valid - 0.56548\n",
      "Average accuracy on crossval is 0.61269\n",
      "Std is 0.03471\n",
      "\n",
      "Result for SAGA solver.\n",
      "train - 0.63546 | valid - 0.65089\n",
      "train - 0.65326 | valid - 0.60947\n",
      "train - 0.63942 | valid - 0.63905\n",
      "train - 0.63283 | valid - 0.57988\n",
      "train - 0.65590 | valid - 0.57988\n",
      "train - 0.64469 | valid - 0.61538\n",
      "train - 0.63702 | valid - 0.60714\n",
      "train - 0.63636 | valid - 0.59524\n",
      "train - 0.64295 | valid - 0.68452\n",
      "train - 0.63900 | valid - 0.56548\n",
      "Average accuracy on crossval is 0.61269\n",
      "Std is 0.03471\n",
      "\n",
      "Result for LBFGS solver.\n",
      "train - 0.63546 | valid - 0.65089\n",
      "train - 0.65326 | valid - 0.60947\n",
      "train - 0.63942 | valid - 0.63905\n",
      "train - 0.63283 | valid - 0.57988\n",
      "train - 0.65590 | valid - 0.57988\n",
      "train - 0.64469 | valid - 0.61538\n",
      "train - 0.63702 | valid - 0.60714\n",
      "train - 0.63636 | valid - 0.59524\n",
      "train - 0.64295 | valid - 0.68452\n",
      "train - 0.63834 | valid - 0.56548\n",
      "Average accuracy on crossval is 0.61269\n",
      "Std is 0.03471\n",
      "\n"
     ]
    }
   ],
   "source": [
    "for solver in ['newton-cg', 'sag', 'saga','lbfgs']:\n",
    "   print(f'Result for {solver.upper()} solver.')\n",
    "   opt_reg_params(LogisticRegression(), X, y, random_state=21, fit_intercept=False, penalty='l2', solver=solver)"
   ]
  },
  {
   "cell_type": "markdown",
   "metadata": {},
   "source": [
    "## 3. SVM regularization"
   ]
  },
  {
   "cell_type": "markdown",
   "metadata": {},
   "source": [
    "### a. Default regularization"
   ]
  },
  {
   "cell_type": "markdown",
   "metadata": {},
   "source": [
    "1. Train a baseline model with the only parameters `probability=True`, `kernel='linear'`, `random_state=21`.\n",
    "2. Use stratified K-fold cross-validation with `10` splits to evaluate the accuracy of the model.\n",
    "3. The format of the result of the code where you trained and evaluated the baseline model should be similar to what you have got for the logreg."
   ]
  },
  {
   "cell_type": "code",
   "execution_count": 17,
   "metadata": {},
   "outputs": [
    {
     "name": "stdout",
     "output_type": "stream",
     "text": [
      "train - 0.70138 | valid - 0.71598\n",
      "train - 0.69677 | valid - 0.68639\n",
      "train - 0.70402 | valid - 0.71006\n",
      "train - 0.69941 | valid - 0.63905\n",
      "train - 0.71127 | valid - 0.62130\n",
      "train - 0.70336 | valid - 0.69822\n",
      "train - 0.69038 | valid - 0.67857\n",
      "train - 0.70487 | valid - 0.69048\n",
      "train - 0.69895 | valid - 0.71429\n",
      "train - 0.70026 | valid - 0.61905\n",
      "Average accuracy on crossval is 0.67734\n",
      "Std is 0.03553\n",
      "\n",
      "CPU times: user 5.38 s, sys: 314 µs, total: 5.38 s\n",
      "Wall time: 5.38 s\n"
     ]
    },
    {
     "data": {
      "text/plain": [
       "(0.67734, 0.03553)"
      ]
     },
     "execution_count": 17,
     "metadata": {},
     "output_type": "execute_result"
    }
   ],
   "source": [
    "%%time\n",
    "opt_reg_params(SVC(), X, y, random_state=21, kernel='linear', probability=True)\n",
    "#нужен ли OvR?"
   ]
  },
  {
   "cell_type": "markdown",
   "metadata": {},
   "source": [
    "### b. Optimizing regularization parameters"
   ]
  },
  {
   "cell_type": "markdown",
   "metadata": {},
   "source": [
    "1. In the cells below try different values of the parameter `C`."
   ]
  },
  {
   "cell_type": "markdown",
   "metadata": {},
   "source": [
    "- C - параметр функции потерь, определяющий силу L2 регуляризации (чем он меньше, тем шире граница и тем больше ошибок допускает модель, выше генерализация. и наоборот) \n",
    "- ОБРАТНО пропорционален лямбде в лоссе для СВМ"
   ]
  },
  {
   "cell_type": "code",
   "execution_count": 18,
   "metadata": {},
   "outputs": [
    {
     "name": "stdout",
     "output_type": "stream",
     "text": [
      "Result for C = 0.001\n",
      "train - 0.23467 | valid - 0.23669\n",
      "train - 0.23467 | valid - 0.23669\n",
      "train - 0.23467 | valid - 0.23669\n",
      "train - 0.23467 | valid - 0.23669\n",
      "train - 0.23467 | valid - 0.23669\n",
      "train - 0.23467 | valid - 0.23669\n",
      "train - 0.23518 | valid - 0.23214\n",
      "train - 0.23518 | valid - 0.23214\n",
      "train - 0.23518 | valid - 0.23214\n",
      "train - 0.23518 | valid - 0.23214\n",
      "Average accuracy on crossval is 0.23487\n",
      "Std is 0.00223\n",
      "\n",
      "Result for C = 0.01\n",
      "train - 0.40804 | valid - 0.41420\n",
      "train - 0.41859 | valid - 0.38462\n",
      "train - 0.43771 | valid - 0.41420\n",
      "train - 0.44034 | valid - 0.44970\n",
      "train - 0.39684 | valid - 0.36095\n",
      "train - 0.43705 | valid - 0.48521\n",
      "train - 0.44137 | valid - 0.43452\n",
      "train - 0.39789 | valid - 0.40476\n",
      "train - 0.44137 | valid - 0.42857\n",
      "train - 0.43412 | valid - 0.45238\n",
      "Average accuracy on crossval is 0.42291\n",
      "Std is 0.03380\n",
      "\n",
      "Result for C = 0.1\n",
      "train - 0.58075 | valid - 0.59763\n",
      "train - 0.57877 | valid - 0.54438\n",
      "train - 0.57284 | valid - 0.57396\n",
      "train - 0.58603 | valid - 0.61538\n",
      "train - 0.59328 | valid - 0.50296\n",
      "train - 0.56823 | valid - 0.57396\n",
      "train - 0.57115 | valid - 0.54762\n",
      "train - 0.57971 | valid - 0.58929\n",
      "train - 0.58696 | valid - 0.58929\n",
      "train - 0.59289 | valid - 0.54762\n",
      "Average accuracy on crossval is 0.56821\n",
      "Std is 0.03118\n",
      "\n",
      "Result for C = 1\n",
      "train - 0.70138 | valid - 0.71598\n",
      "train - 0.69677 | valid - 0.68639\n",
      "train - 0.70402 | valid - 0.71006\n",
      "train - 0.69941 | valid - 0.63905\n",
      "train - 0.71127 | valid - 0.62130\n",
      "train - 0.70336 | valid - 0.69822\n",
      "train - 0.69038 | valid - 0.67857\n",
      "train - 0.70487 | valid - 0.69048\n",
      "train - 0.69895 | valid - 0.71429\n",
      "train - 0.70026 | valid - 0.61905\n",
      "Average accuracy on crossval is 0.67734\n",
      "Std is 0.03553\n",
      "\n",
      "Result for C = 10\n",
      "train - 0.77521 | valid - 0.75740\n",
      "train - 0.77587 | valid - 0.73964\n",
      "train - 0.77983 | valid - 0.75740\n",
      "train - 0.78049 | valid - 0.75148\n",
      "train - 0.78510 | valid - 0.69822\n",
      "train - 0.76664 | valid - 0.75740\n",
      "train - 0.78195 | valid - 0.77381\n",
      "train - 0.78195 | valid - 0.75595\n",
      "train - 0.77800 | valid - 0.78571\n",
      "train - 0.76680 | valid - 0.71429\n",
      "Average accuracy on crossval is 0.74913\n",
      "Std is 0.02470\n",
      "\n",
      "Result for C = 100\n",
      "train - 0.78840 | valid - 0.75740\n",
      "train - 0.79038 | valid - 0.75740\n",
      "train - 0.79895 | valid - 0.76923\n",
      "train - 0.79301 | valid - 0.76331\n",
      "train - 0.81081 | valid - 0.71598\n",
      "train - 0.78642 | valid - 0.77515\n",
      "train - 0.79051 | valid - 0.77381\n",
      "train - 0.80237 | valid - 0.77976\n",
      "train - 0.79974 | valid - 0.76786\n",
      "train - 0.80896 | valid - 0.73214\n",
      "Average accuracy on crossval is 0.75920\n",
      "Std is 0.01921\n",
      "\n",
      "Best accuracy on crossval is 0.75920 with C=100\n"
     ]
    }
   ],
   "source": [
    "best_acc = 0\n",
    "best_c = 0\n",
    "for C in [0.001, 0.01, 0.1, 1, 10, 100]:\n",
    "   print(f'Result for C = {C}')\n",
    "   avg_score, std_test = opt_reg_params(SVC(), X, y, random_state=21, kernel='linear', probability=True, C=C)\n",
    "   if avg_score > best_acc:\n",
    "       best_acc = avg_score\n",
    "       best_c = C\n",
    "print (f'Best accuracy on crossval is {best_acc:.5f} with C={best_c}')"
   ]
  },
  {
   "cell_type": "markdown",
   "metadata": {},
   "source": [
    "## 4. Tree"
   ]
  },
  {
   "cell_type": "markdown",
   "metadata": {},
   "source": [
    "### a. Default regularization"
   ]
  },
  {
   "cell_type": "markdown",
   "metadata": {},
   "source": [
    "1. Train a baseline model with the only parameter `max_depth=10` and `random_state=21`.\n",
    "2. Use stratified K-fold cross-validation with `10` splits to evaluate the accuracy of the model.\n",
    "3. The format of the result of the code where you trained and evaluated the baseline model should be similar to what you have got for the logreg."
   ]
  },
  {
   "cell_type": "code",
   "execution_count": 19,
   "metadata": {},
   "outputs": [
    {
     "name": "stdout",
     "output_type": "stream",
     "text": [
      "train - 0.82004 | valid - 0.79290\n",
      "train - 0.82663 | valid - 0.69231\n",
      "train - 0.82927 | valid - 0.76923\n",
      "train - 0.81806 | valid - 0.71598\n",
      "train - 0.82268 | valid - 0.74556\n",
      "train - 0.80554 | valid - 0.77515\n",
      "train - 0.83465 | valid - 0.75595\n",
      "train - 0.81555 | valid - 0.76786\n",
      "train - 0.81225 | valid - 0.76190\n",
      "train - 0.81752 | valid - 0.67262\n",
      "Average accuracy on crossval is 0.74495\n",
      "Std is 0.03685\n",
      "\n",
      "CPU times: user 103 ms, sys: 0 ns, total: 103 ms\n",
      "Wall time: 102 ms\n"
     ]
    },
    {
     "data": {
      "text/plain": [
       "(0.74495, 0.03685)"
      ]
     },
     "execution_count": 19,
     "metadata": {},
     "output_type": "execute_result"
    }
   ],
   "source": [
    "%%time\n",
    "opt_reg_params(DecisionTreeClassifier(), X, y, random_state=21, max_depth=10)"
   ]
  },
  {
   "cell_type": "markdown",
   "metadata": {},
   "source": [
    "### b. Optimizing regularization parameters"
   ]
  },
  {
   "cell_type": "markdown",
   "metadata": {},
   "source": [
    "1. In the cells below try different values of the parameter `max_depth`.\n",
    "2. As a bonus, play with other regularization parameters trying to find the best combination."
   ]
  },
  {
   "cell_type": "code",
   "execution_count": 16,
   "metadata": {},
   "outputs": [
    {
     "name": "stdout",
     "output_type": "stream",
     "text": [
      "Result for max_depth= 1\n",
      "train - 0.35662 | valid - 0.36686\n",
      "train - 0.35992 | valid - 0.33728\n",
      "train - 0.35860 | valid - 0.34911\n",
      "train - 0.35662 | valid - 0.36686\n",
      "train - 0.36058 | valid - 0.33136\n",
      "train - 0.35333 | valid - 0.39645\n",
      "train - 0.35837 | valid - 0.35119\n",
      "train - 0.35837 | valid - 0.35119\n",
      "train - 0.35705 | valid - 0.36310\n",
      "train - 0.35705 | valid - 0.36310\n",
      "Average accuracy on crossval is 0.35765\n",
      "Std is 0.01731\n",
      "\n",
      "Result for max_depth= 2\n",
      "train - 0.43968 | valid - 0.43195\n",
      "train - 0.44034 | valid - 0.42604\n",
      "train - 0.44298 | valid - 0.40237\n",
      "train - 0.43902 | valid - 0.43787\n",
      "train - 0.44166 | valid - 0.41420\n",
      "train - 0.43507 | valid - 0.47337\n",
      "train - 0.44137 | valid - 0.41667\n",
      "train - 0.43347 | valid - 0.48810\n",
      "train - 0.43939 | valid - 0.43452\n",
      "train - 0.43610 | valid - 0.46429\n",
      "Average accuracy on crossval is 0.43894\n",
      "Std is 0.02632\n",
      "\n",
      "Result for max_depth= 3\n",
      "train - 0.49901 | valid - 0.48521\n",
      "train - 0.49506 | valid - 0.42604\n",
      "train - 0.49835 | valid - 0.49112\n",
      "train - 0.49110 | valid - 0.47929\n",
      "train - 0.49440 | valid - 0.44970\n",
      "train - 0.48649 | valid - 0.52071\n",
      "train - 0.49078 | valid - 0.48214\n",
      "train - 0.48880 | valid - 0.50000\n",
      "train - 0.48880 | valid - 0.50000\n",
      "train - 0.48682 | valid - 0.49405\n",
      "Average accuracy on crossval is 0.48283\n",
      "Std is 0.02561\n",
      "\n",
      "Result for max_depth= 4\n",
      "train - 0.54977 | valid - 0.55621\n",
      "train - 0.56361 | valid - 0.52663\n",
      "train - 0.55175 | valid - 0.53254\n",
      "train - 0.54911 | valid - 0.55621\n",
      "train - 0.55702 | valid - 0.50296\n",
      "train - 0.55372 | valid - 0.52071\n",
      "train - 0.54743 | valid - 0.58929\n",
      "train - 0.55072 | valid - 0.54762\n",
      "train - 0.54743 | valid - 0.58929\n",
      "train - 0.55665 | valid - 0.51786\n",
      "Average accuracy on crossval is 0.54393\n",
      "Std is 0.02785\n",
      "\n",
      "Result for max_depth= 5\n",
      "train - 0.62096 | valid - 0.62130\n",
      "train - 0.61042 | valid - 0.55030\n",
      "train - 0.62426 | valid - 0.59763\n",
      "train - 0.60976 | valid - 0.59172\n",
      "train - 0.61305 | valid - 0.53846\n",
      "train - 0.60382 | valid - 0.56213\n",
      "train - 0.61199 | valid - 0.61905\n",
      "train - 0.61199 | valid - 0.59524\n",
      "train - 0.60738 | valid - 0.64286\n",
      "train - 0.62187 | valid - 0.55952\n",
      "Average accuracy on crossval is 0.58782\n",
      "Std is 0.03255\n",
      "\n",
      "Result for max_depth= 6\n",
      "train - 0.67699 | valid - 0.68639\n",
      "train - 0.67897 | valid - 0.58580\n",
      "train - 0.66842 | valid - 0.63905\n",
      "train - 0.67897 | valid - 0.63314\n",
      "train - 0.68161 | valid - 0.61538\n",
      "train - 0.64865 | valid - 0.60947\n",
      "train - 0.66206 | valid - 0.65476\n",
      "train - 0.66271 | valid - 0.67262\n",
      "train - 0.66074 | valid - 0.69643\n",
      "train - 0.67787 | valid - 0.58333\n",
      "Average accuracy on crossval is 0.63764\n",
      "Std is 0.03781\n",
      "\n",
      "Result for max_depth= 7\n",
      "train - 0.71786 | valid - 0.71598\n",
      "train - 0.72116 | valid - 0.62130\n",
      "train - 0.71457 | valid - 0.67456\n",
      "train - 0.72182 | valid - 0.67456\n",
      "train - 0.72314 | valid - 0.62722\n",
      "train - 0.69084 | valid - 0.66272\n",
      "train - 0.70092 | valid - 0.67262\n",
      "train - 0.70619 | valid - 0.70833\n",
      "train - 0.70158 | valid - 0.72619\n",
      "train - 0.72069 | valid - 0.60119\n",
      "Average accuracy on crossval is 0.66847\n",
      "Std is 0.03969\n",
      "\n",
      "Result for max_depth= 8\n",
      "train - 0.75742 | valid - 0.75740\n",
      "train - 0.75478 | valid - 0.63905\n",
      "train - 0.75412 | valid - 0.71598\n",
      "train - 0.74687 | valid - 0.70414\n",
      "train - 0.75412 | valid - 0.66864\n",
      "train - 0.73632 | valid - 0.71006\n",
      "train - 0.74901 | valid - 0.70833\n",
      "train - 0.76416 | valid - 0.77381\n",
      "train - 0.73781 | valid - 0.73810\n",
      "train - 0.76021 | valid - 0.64881\n",
      "Average accuracy on crossval is 0.70643\n",
      "Std is 0.04188\n",
      "\n",
      "Result for max_depth= 9\n",
      "train - 0.78906 | valid - 0.75740\n",
      "train - 0.79499 | valid - 0.66272\n",
      "train - 0.78115 | valid - 0.72781\n",
      "train - 0.77587 | valid - 0.69231\n",
      "train - 0.78906 | valid - 0.68047\n",
      "train - 0.77060 | valid - 0.75148\n",
      "train - 0.78788 | valid - 0.72024\n",
      "train - 0.79447 | valid - 0.76190\n",
      "train - 0.77075 | valid - 0.75000\n",
      "train - 0.79578 | valid - 0.69643\n",
      "Average accuracy on crossval is 0.72008\n",
      "Std is 0.03357\n",
      "\n",
      "Result for max_depth= 10\n",
      "train - 0.82004 | valid - 0.79290\n",
      "train - 0.82663 | valid - 0.69231\n",
      "train - 0.82927 | valid - 0.76923\n",
      "train - 0.81806 | valid - 0.71598\n",
      "train - 0.82268 | valid - 0.74556\n",
      "train - 0.80554 | valid - 0.77515\n",
      "train - 0.83465 | valid - 0.75595\n",
      "train - 0.81555 | valid - 0.76786\n",
      "train - 0.81225 | valid - 0.76190\n",
      "train - 0.81752 | valid - 0.67262\n",
      "Average accuracy on crossval is 0.74495\n",
      "Std is 0.03685\n",
      "\n",
      "Result for max_depth= 11\n",
      "train - 0.85102 | valid - 0.79290\n",
      "train - 0.85695 | valid - 0.72189\n",
      "train - 0.85893 | valid - 0.81657\n",
      "train - 0.87146 | valid - 0.79882\n",
      "train - 0.86025 | valid - 0.76923\n",
      "train - 0.84047 | valid - 0.78698\n",
      "train - 0.86034 | valid - 0.79762\n",
      "train - 0.85705 | valid - 0.78571\n",
      "train - 0.86232 | valid - 0.82738\n",
      "train - 0.85507 | valid - 0.74405\n",
      "Average accuracy on crossval is 0.78412\n",
      "Std is 0.03018\n",
      "\n",
      "Result for max_depth= 12\n",
      "train - 0.88728 | valid - 0.85207\n",
      "train - 0.89057 | valid - 0.75148\n",
      "train - 0.89651 | valid - 0.83432\n",
      "train - 0.89585 | valid - 0.80473\n",
      "train - 0.89255 | valid - 0.81065\n",
      "train - 0.86421 | valid - 0.80473\n",
      "train - 0.89460 | valid - 0.84524\n",
      "train - 0.89987 | valid - 0.83929\n",
      "train - 0.88933 | valid - 0.85119\n",
      "train - 0.90250 | valid - 0.82738\n",
      "Average accuracy on crossval is 0.82211\n",
      "Std is 0.02911\n",
      "\n",
      "Result for max_depth= 13\n",
      "train - 0.91299 | valid - 0.87574\n",
      "train - 0.91694 | valid - 0.81065\n",
      "train - 0.91958 | valid - 0.84024\n",
      "train - 0.91760 | valid - 0.82840\n",
      "train - 0.91760 | valid - 0.83432\n",
      "train - 0.89123 | valid - 0.83432\n",
      "train - 0.92424 | valid - 0.85714\n",
      "train - 0.93478 | valid - 0.85714\n",
      "train - 0.91238 | valid - 0.84524\n",
      "train - 0.93083 | valid - 0.83333\n",
      "Average accuracy on crossval is 0.84165\n",
      "Std is 0.01723\n",
      "\n",
      "Result for max_depth= 14\n",
      "train - 0.93606 | valid - 0.88757\n",
      "train - 0.93804 | valid - 0.82249\n",
      "train - 0.94858 | valid - 0.87574\n",
      "train - 0.93144 | valid - 0.85799\n",
      "train - 0.93606 | valid - 0.85799\n",
      "train - 0.91694 | valid - 0.86391\n",
      "train - 0.94335 | valid - 0.88095\n",
      "train - 0.95059 | valid - 0.87500\n",
      "train - 0.93347 | valid - 0.88095\n",
      "train - 0.94335 | valid - 0.86310\n",
      "Average accuracy on crossval is 0.86657\n",
      "Std is 0.01766\n",
      "\n",
      "Result for max_depth= 15\n",
      "train - 0.95122 | valid - 0.88757\n",
      "train - 0.94924 | valid - 0.84024\n",
      "train - 0.96506 | valid - 0.89349\n",
      "train - 0.95188 | valid - 0.86391\n",
      "train - 0.94463 | valid - 0.87574\n",
      "train - 0.93408 | valid - 0.88166\n",
      "train - 0.95520 | valid - 0.88095\n",
      "train - 0.95850 | valid - 0.88095\n",
      "train - 0.94532 | valid - 0.89286\n",
      "train - 0.95784 | valid - 0.86905\n",
      "Average accuracy on crossval is 0.87664\n",
      "Std is 0.01508\n",
      "\n",
      "Result for max_depth= 16\n",
      "train - 0.95979 | valid - 0.88757\n",
      "train - 0.95979 | valid - 0.82840\n",
      "train - 0.97891 | valid - 0.92899\n",
      "train - 0.96902 | valid - 0.86982\n",
      "train - 0.95583 | valid - 0.86982\n",
      "train - 0.95254 | valid - 0.86982\n",
      "train - 0.96047 | valid - 0.87500\n",
      "train - 0.96838 | valid - 0.88095\n",
      "train - 0.95982 | valid - 0.90476\n",
      "train - 0.96311 | valid - 0.85714\n",
      "Average accuracy on crossval is 0.87723\n",
      "Std is 0.02553\n",
      "\n",
      "Result for max_depth= 17\n",
      "train - 0.97100 | valid - 0.88757\n",
      "train - 0.96968 | valid - 0.84024\n",
      "train - 0.98550 | valid - 0.93491\n",
      "train - 0.98088 | valid - 0.88166\n",
      "train - 0.96902 | valid - 0.88166\n",
      "train - 0.96111 | valid - 0.91124\n",
      "train - 0.96904 | valid - 0.88690\n",
      "train - 0.97826 | valid - 0.89286\n",
      "train - 0.97167 | valid - 0.89881\n",
      "train - 0.97101 | valid - 0.86310\n",
      "Average accuracy on crossval is 0.88789\n",
      "Std is 0.02422\n",
      "\n",
      "Result for max_depth= 18\n",
      "train - 0.97956 | valid - 0.88757\n",
      "train - 0.97956 | valid - 0.85799\n",
      "train - 0.99011 | valid - 0.93491\n",
      "train - 0.98748 | valid - 0.89349\n",
      "train - 0.97693 | valid - 0.88757\n",
      "train - 0.96902 | valid - 0.89941\n",
      "train - 0.97694 | valid - 0.89881\n",
      "train - 0.98682 | valid - 0.89286\n",
      "train - 0.97826 | valid - 0.91667\n",
      "train - 0.98090 | valid - 0.88690\n",
      "Average accuracy on crossval is 0.89562\n",
      "Std is 0.01909\n",
      "\n",
      "Result for max_depth= 19\n",
      "train - 0.98418 | valid - 0.89941\n",
      "train - 0.98352 | valid - 0.86391\n",
      "train - 0.99275 | valid - 0.94083\n",
      "train - 0.99077 | valid - 0.89941\n",
      "train - 0.98220 | valid - 0.90533\n",
      "train - 0.97627 | valid - 0.92899\n",
      "train - 0.98353 | valid - 0.89881\n",
      "train - 0.99209 | valid - 0.90476\n",
      "train - 0.98221 | valid - 0.90476\n",
      "train - 0.98617 | valid - 0.87500\n",
      "Average accuracy on crossval is 0.90212\n",
      "Std is 0.02113\n",
      "\n",
      "Best accuracy on crossval is 0.90212 with max_depth=19\n"
     ]
    }
   ],
   "source": [
    "best_acc = 0\n",
    "best_max_depth = 0\n",
    "for max_depth in range (1, 20):\n",
    "   print(f'Result for max_depth= {max_depth}')\n",
    "   avg_score, std_test = opt_reg_params(DecisionTreeClassifier(), X, y, random_state=21, max_depth=max_depth)\n",
    "   if avg_score > best_acc:\n",
    "       best_acc = avg_score\n",
    "       best_max_depth = max_depth\n",
    "print (f'Best accuracy on crossval is {best_acc:.5f} with max_depth={best_max_depth}')\n",
    "# чем больше max_depth, тем больше accuracy"
   ]
  },
  {
   "cell_type": "code",
   "execution_count": 20,
   "metadata": {},
   "outputs": [],
   "source": [
    "from sklearn.model_selection import RandomizedSearchCV\n",
    "\n",
    "def rand_search(model, param_dist, X_train, y_train, X_test, y_test, **kwargs) -> None:\n",
    "    if kwargs:\n",
    "        model.set_params(**kwargs)\n",
    "        \n",
    "    search = RandomizedSearchCV(model, param_dist, n_iter=50, cv=5, scoring='accuracy', random_state=21, n_jobs=-1)\n",
    "    search.fit(X_train, y_train)\n",
    "\n",
    "    print(\"Best parameters:\")\n",
    "    for param, value in search.best_params_.items():\n",
    "        print(f\"{param}: {value}\")\n",
    "\n",
    "    print(f\"\\nBest cross-validation accuracy: {search.best_score_:.4f}\")\n",
    "\n",
    "    best_model = search.best_estimator_\n",
    "    test_score = best_model.score(X_test, y_test)\n",
    "    print(f\"Test set accuracy: {test_score:.4f}\")"
   ]
  },
  {
   "cell_type": "code",
   "execution_count": 21,
   "metadata": {},
   "outputs": [
    {
     "name": "stdout",
     "output_type": "stream",
     "text": [
      "Best parameters:\n",
      "min_samples_split: 5\n",
      "min_samples_leaf: 2\n",
      "max_features: None\n",
      "max_depth: 25\n",
      "criterion: entropy\n",
      "ccp_alpha: 0\n",
      "\n",
      "Best cross-validation accuracy: 0.8271\n",
      "Test set accuracy: 0.8491\n"
     ]
    }
   ],
   "source": [
    "param_dist = {\n",
    "    'max_depth': [None, 3, 5, 7, 10, 15, 20, 25],\n",
    "    'min_samples_split': [2, 5, 10],\n",
    "    'min_samples_leaf': [1, 2, 4],\n",
    "    'max_features': ['sqrt', 'log2', None],\n",
    "    'criterion': ['gini', 'entropy'],\n",
    "    'ccp_alpha': [0, 0.01, 0.1]\n",
    "}\n",
    "rand_search(DecisionTreeClassifier(), param_dist, X_train, y_train, X_test, y_test, random_state=21)"
   ]
  },
  {
   "cell_type": "code",
   "execution_count": 22,
   "metadata": {},
   "outputs": [],
   "source": [
    "from sklearn.model_selection import GridSearchCV\n",
    "\n",
    "def grid_search(model, param_grid, X_train, y_train, X_test, y_test, **kwargs) -> None:\n",
    "    if kwargs:\n",
    "        model.set_params(**kwargs)\n",
    "\n",
    "    grid_search = GridSearchCV(model, param_grid, cv=5, n_jobs=-1)\n",
    "    grid_search.fit(X_train, y_train)\n",
    "\n",
    "    print(\"Best parameters:\")\n",
    "    for param, value in grid_search.best_params_.items():\n",
    "        print(f\"{param}: {value}\")\n",
    "\n",
    "    print(f\"\\nBest cross-validation accuracy: {grid_search.best_score_:.4f}\")\n",
    "\n",
    "    best_model = grid_search.best_estimator_\n",
    "    test_score = best_model.score(X_test, y_test)\n",
    "    print(f\"Test set accuracy: {test_score:.4f}\")"
   ]
  },
  {
   "cell_type": "code",
   "execution_count": 23,
   "metadata": {},
   "outputs": [
    {
     "name": "stdout",
     "output_type": "stream",
     "text": [
      "Best parameters:\n",
      "ccp_alpha: 0\n",
      "criterion: gini\n",
      "max_depth: None\n",
      "max_features: None\n",
      "min_samples_leaf: 1\n",
      "min_samples_split: 2\n",
      "\n",
      "Best cross-validation accuracy: 0.8694\n",
      "Test set accuracy: 0.8728\n"
     ]
    }
   ],
   "source": [
    "param_grid = {\n",
    "    'max_depth': [None, 3, 5, 7, 10, 15, 20, 25],\n",
    "    'min_samples_split': [2, 5, 10],\n",
    "    'min_samples_leaf': [1, 2, 4],\n",
    "    'max_features': ['sqrt', 'log2', None],\n",
    "    'criterion': ['gini', 'entropy'],\n",
    "    'ccp_alpha': [0, 0.01, 0.1]\n",
    "}\n",
    "grid_search(DecisionTreeClassifier(), param_grid, X_train, y_train, X_test, y_test, random_state=21)"
   ]
  },
  {
   "cell_type": "markdown",
   "metadata": {},
   "source": [
    "## 5. Random forest"
   ]
  },
  {
   "cell_type": "markdown",
   "metadata": {},
   "source": [
    "### a. Default regularization"
   ]
  },
  {
   "cell_type": "markdown",
   "metadata": {},
   "source": [
    "1. Train a baseline model with the only parameters `n_estimators=50`, `max_depth=14`, `random_state=21`.\n",
    "2. Use stratified K-fold cross-validation with `10` splits to evaluate the accuracy of the model.\n",
    "3. The format of the result of the code where you trained and evaluated the baseline model should be similar to what you have got for the logreg."
   ]
  },
  {
   "cell_type": "code",
   "execution_count": 24,
   "metadata": {},
   "outputs": [
    {
     "name": "stdout",
     "output_type": "stream",
     "text": [
      "train - 0.95979 | valid - 0.89349\n",
      "train - 0.97231 | valid - 0.88757\n",
      "train - 0.96638 | valid - 0.90533\n",
      "train - 0.96902 | valid - 0.90533\n",
      "train - 0.96374 | valid - 0.87574\n",
      "train - 0.96638 | valid - 0.91124\n",
      "train - 0.96377 | valid - 0.92262\n",
      "train - 0.97299 | valid - 0.91071\n",
      "train - 0.96245 | valid - 0.88690\n",
      "train - 0.97101 | valid - 0.89286\n",
      "Average accuracy on crossval is 0.89918\n",
      "Std is 0.01346\n",
      "\n"
     ]
    },
    {
     "data": {
      "text/plain": [
       "(0.89918, 0.01346)"
      ]
     },
     "execution_count": 24,
     "metadata": {},
     "output_type": "execute_result"
    }
   ],
   "source": [
    "opt_reg_params(RandomForestClassifier(), X, y, random_state=21, max_depth=14, n_estimators=50)"
   ]
  },
  {
   "cell_type": "markdown",
   "metadata": {},
   "source": [
    "### b. Optimizing regularization parameters"
   ]
  },
  {
   "cell_type": "markdown",
   "metadata": {},
   "source": [
    "1. In the new cells try different values of the parameters `max_depth` and `n_estimators`.\n",
    "2. As a bonus, play with other regularization parameters trying to find the best combination."
   ]
  },
  {
   "cell_type": "code",
   "execution_count": 25,
   "metadata": {},
   "outputs": [
    {
     "name": "stdout",
     "output_type": "stream",
     "text": [
      "Result for max_depth= 1\n",
      "train - 0.42386 | valid - 0.42012\n",
      "train - 0.38497 | valid - 0.36095\n",
      "train - 0.42189 | valid - 0.42012\n",
      "train - 0.38695 | valid - 0.39645\n",
      "train - 0.39354 | valid - 0.35503\n",
      "train - 0.41595 | valid - 0.47337\n",
      "train - 0.38669 | valid - 0.39881\n",
      "train - 0.38669 | valid - 0.39286\n",
      "train - 0.39460 | valid - 0.38095\n",
      "train - 0.38801 | valid - 0.38690\n",
      "Average accuracy on crossval is 0.39856\n",
      "Std is 0.03212\n",
      "\n",
      "Result for max_depth= 2\n",
      "train - 0.45880 | valid - 0.45562\n",
      "train - 0.46078 | valid - 0.43195\n",
      "train - 0.45353 | valid - 0.44970\n",
      "train - 0.45880 | valid - 0.45562\n",
      "train - 0.46210 | valid - 0.42012\n",
      "train - 0.45353 | valid - 0.50296\n",
      "train - 0.47628 | valid - 0.45833\n",
      "train - 0.44203 | valid - 0.42857\n",
      "train - 0.44928 | valid - 0.42857\n",
      "train - 0.45718 | valid - 0.47619\n",
      "Average accuracy on crossval is 0.45076\n",
      "Std is 0.02399\n",
      "\n",
      "Result for max_depth= 3\n",
      "train - 0.47594 | valid - 0.45562\n",
      "train - 0.46671 | valid - 0.43787\n",
      "train - 0.46935 | valid - 0.44379\n",
      "train - 0.47132 | valid - 0.46154\n",
      "train - 0.47396 | valid - 0.43195\n",
      "train - 0.47528 | valid - 0.51479\n",
      "train - 0.47233 | valid - 0.47619\n",
      "train - 0.48024 | valid - 0.52381\n",
      "train - 0.46772 | valid - 0.46429\n",
      "train - 0.47563 | valid - 0.48810\n",
      "Average accuracy on crossval is 0.46979\n",
      "Std is 0.02957\n",
      "\n",
      "Result for max_depth= 4\n",
      "train - 0.52802 | valid - 0.49704\n",
      "train - 0.55438 | valid - 0.52663\n",
      "train - 0.52472 | valid - 0.48521\n",
      "train - 0.53593 | valid - 0.50888\n",
      "train - 0.56361 | valid - 0.48521\n",
      "train - 0.58339 | valid - 0.57988\n",
      "train - 0.52964 | valid - 0.52381\n",
      "train - 0.55007 | valid - 0.57738\n",
      "train - 0.54018 | valid - 0.52381\n",
      "train - 0.57312 | valid - 0.54167\n",
      "Average accuracy on crossval is 0.52495\n",
      "Std is 0.03201\n",
      "\n",
      "Result for max_depth= 5\n",
      "train - 0.59855 | valid - 0.59763\n",
      "train - 0.58866 | valid - 0.55621\n",
      "train - 0.59525 | valid - 0.57988\n",
      "train - 0.60844 | valid - 0.58580\n",
      "train - 0.62228 | valid - 0.53846\n",
      "train - 0.61833 | valid - 0.60355\n",
      "train - 0.60672 | valid - 0.60714\n",
      "train - 0.58959 | valid - 0.59524\n",
      "train - 0.60408 | valid - 0.60714\n",
      "train - 0.60079 | valid - 0.54762\n",
      "Average accuracy on crossval is 0.58187\n",
      "Std is 0.02431\n",
      "\n",
      "Result for max_depth= 6\n",
      "train - 0.70402 | valid - 0.68047\n",
      "train - 0.66381 | valid - 0.63905\n",
      "train - 0.66777 | valid - 0.65680\n",
      "train - 0.67502 | valid - 0.62130\n",
      "train - 0.69809 | valid - 0.58580\n",
      "train - 0.68556 | valid - 0.63905\n",
      "train - 0.69236 | valid - 0.67857\n",
      "train - 0.65679 | valid - 0.61905\n",
      "train - 0.66140 | valid - 0.64881\n",
      "train - 0.66601 | valid - 0.59524\n",
      "Average accuracy on crossval is 0.63642\n",
      "Std is 0.03015\n",
      "\n",
      "Result for max_depth= 7\n",
      "train - 0.74753 | valid - 0.73964\n",
      "train - 0.74885 | valid - 0.68047\n",
      "train - 0.71589 | valid - 0.68047\n",
      "train - 0.75148 | valid - 0.72189\n",
      "train - 0.74951 | valid - 0.64497\n",
      "train - 0.75676 | valid - 0.71006\n",
      "train - 0.74374 | valid - 0.71429\n",
      "train - 0.73518 | valid - 0.70238\n",
      "train - 0.76153 | valid - 0.72024\n",
      "train - 0.73188 | valid - 0.64881\n",
      "Average accuracy on crossval is 0.69632\n",
      "Std is 0.03008\n",
      "\n",
      "Result for max_depth= 8\n",
      "train - 0.81213 | valid - 0.75740\n",
      "train - 0.81147 | valid - 0.75148\n",
      "train - 0.78576 | valid - 0.72781\n",
      "train - 0.81345 | valid - 0.73373\n",
      "train - 0.80883 | valid - 0.69231\n",
      "train - 0.79169 | valid - 0.75740\n",
      "train - 0.79974 | valid - 0.77381\n",
      "train - 0.77734 | valid - 0.77976\n",
      "train - 0.78524 | valid - 0.75595\n",
      "train - 0.79644 | valid - 0.70238\n",
      "Average accuracy on crossval is 0.74320\n",
      "Std is 0.02737\n",
      "\n",
      "Result for max_depth= 9\n",
      "train - 0.83388 | valid - 0.82249\n",
      "train - 0.84509 | valid - 0.75740\n",
      "train - 0.82004 | valid - 0.78107\n",
      "train - 0.83982 | valid - 0.76331\n",
      "train - 0.82729 | valid - 0.69231\n",
      "train - 0.82465 | valid - 0.79882\n",
      "train - 0.85375 | valid - 0.82143\n",
      "train - 0.82806 | valid - 0.80357\n",
      "train - 0.83202 | valid - 0.80952\n",
      "train - 0.83531 | valid - 0.75595\n",
      "Average accuracy on crossval is 0.78059\n",
      "Std is 0.03789\n",
      "\n",
      "Result for max_depth= 10\n",
      "train - 0.87212 | valid - 0.84024\n",
      "train - 0.88794 | valid - 0.82840\n",
      "train - 0.86684 | valid - 0.81657\n",
      "train - 0.89057 | valid - 0.82249\n",
      "train - 0.87146 | valid - 0.78107\n",
      "train - 0.88069 | valid - 0.85207\n",
      "train - 0.87681 | valid - 0.84524\n",
      "train - 0.86693 | valid - 0.82738\n",
      "train - 0.86034 | valid - 0.83333\n",
      "train - 0.88867 | valid - 0.78571\n",
      "Average accuracy on crossval is 0.82325\n",
      "Std is 0.02232\n",
      "\n",
      "Result for max_depth= 11\n",
      "train - 0.91562 | valid - 0.89349\n",
      "train - 0.90705 | valid - 0.82840\n",
      "train - 0.92024 | valid - 0.85799\n",
      "train - 0.91365 | valid - 0.84024\n",
      "train - 0.90508 | valid - 0.81065\n",
      "train - 0.90376 | valid - 0.85799\n",
      "train - 0.89987 | valid - 0.88095\n",
      "train - 0.92161 | valid - 0.88690\n",
      "train - 0.91370 | valid - 0.86310\n",
      "train - 0.91436 | valid - 0.82738\n",
      "Average accuracy on crossval is 0.85471\n",
      "Std is 0.02629\n",
      "\n",
      "Result for max_depth= 12\n",
      "train - 0.93935 | valid - 0.88757\n",
      "train - 0.93935 | valid - 0.86391\n",
      "train - 0.92947 | valid - 0.86982\n",
      "train - 0.94265 | valid - 0.87574\n",
      "train - 0.94199 | valid - 0.85207\n",
      "train - 0.93078 | valid - 0.88757\n",
      "train - 0.93676 | valid - 0.89286\n",
      "train - 0.93347 | valid - 0.88690\n",
      "train - 0.92754 | valid - 0.87500\n",
      "train - 0.92490 | valid - 0.85119\n",
      "Average accuracy on crossval is 0.87426\n",
      "Std is 0.01419\n",
      "\n",
      "Result for max_depth= 13\n",
      "train - 0.95781 | valid - 0.91716\n",
      "train - 0.94397 | valid - 0.87574\n",
      "train - 0.96045 | valid - 0.89349\n",
      "train - 0.95320 | valid - 0.89349\n",
      "train - 0.95715 | valid - 0.86982\n",
      "train - 0.94726 | valid - 0.89941\n",
      "train - 0.95389 | valid - 0.90476\n",
      "train - 0.94928 | valid - 0.89286\n",
      "train - 0.95125 | valid - 0.88690\n",
      "train - 0.94796 | valid - 0.85714\n",
      "Average accuracy on crossval is 0.88908\n",
      "Std is 0.01664\n",
      "\n",
      "Result for max_depth= 14\n",
      "train - 0.95979 | valid - 0.89349\n",
      "train - 0.97231 | valid - 0.88757\n",
      "train - 0.96638 | valid - 0.90533\n",
      "train - 0.96902 | valid - 0.90533\n",
      "train - 0.96374 | valid - 0.87574\n",
      "train - 0.96638 | valid - 0.91124\n",
      "train - 0.96377 | valid - 0.92262\n",
      "train - 0.97299 | valid - 0.91071\n",
      "train - 0.96245 | valid - 0.88690\n",
      "train - 0.97101 | valid - 0.89286\n",
      "Average accuracy on crossval is 0.89918\n",
      "Std is 0.01346\n",
      "\n",
      "Result for max_depth= 15\n",
      "train - 0.97693 | valid - 0.89349\n",
      "train - 0.97825 | valid - 0.88757\n",
      "train - 0.97956 | valid - 0.92308\n",
      "train - 0.97429 | valid - 0.90533\n",
      "train - 0.97100 | valid - 0.88166\n",
      "train - 0.97759 | valid - 0.94083\n",
      "train - 0.97760 | valid - 0.91667\n",
      "train - 0.98155 | valid - 0.92262\n",
      "train - 0.97958 | valid - 0.89881\n",
      "train - 0.97760 | valid - 0.88095\n",
      "Average accuracy on crossval is 0.90510\n",
      "Std is 0.01912\n",
      "\n",
      "Result for max_depth= 16\n",
      "train - 0.98418 | valid - 0.91716\n",
      "train - 0.98088 | valid - 0.89349\n",
      "train - 0.98088 | valid - 0.92308\n",
      "train - 0.98088 | valid - 0.89349\n",
      "train - 0.98286 | valid - 0.88757\n",
      "train - 0.98352 | valid - 0.92308\n",
      "train - 0.98617 | valid - 0.91667\n",
      "train - 0.98551 | valid - 0.91071\n",
      "train - 0.97958 | valid - 0.90476\n",
      "train - 0.98682 | valid - 0.89881\n",
      "Average accuracy on crossval is 0.90688\n",
      "Std is 0.01242\n",
      "\n",
      "Result for max_depth= 17\n",
      "train - 0.99143 | valid - 0.92899\n",
      "train - 0.99011 | valid - 0.90533\n",
      "train - 0.98813 | valid - 0.92899\n",
      "train - 0.99407 | valid - 0.92899\n",
      "train - 0.98682 | valid - 0.90533\n",
      "train - 0.99143 | valid - 0.94675\n",
      "train - 0.99209 | valid - 0.92262\n",
      "train - 0.99078 | valid - 0.91071\n",
      "train - 0.98946 | valid - 0.92857\n",
      "train - 0.98946 | valid - 0.88095\n",
      "Average accuracy on crossval is 0.91872\n",
      "Std is 0.01750\n",
      "\n",
      "Result for max_depth= 18\n",
      "train - 0.99604 | valid - 0.91716\n",
      "train - 0.99407 | valid - 0.91124\n",
      "train - 0.99143 | valid - 0.94083\n",
      "train - 0.99539 | valid - 0.91124\n",
      "train - 0.99209 | valid - 0.90533\n",
      "train - 0.99341 | valid - 0.92899\n",
      "train - 0.99341 | valid - 0.92857\n",
      "train - 0.99407 | valid - 0.91071\n",
      "train - 0.99209 | valid - 0.92857\n",
      "train - 0.99407 | valid - 0.91667\n",
      "Average accuracy on crossval is 0.91993\n",
      "Std is 0.01066\n",
      "\n",
      "Result for max_depth= 19\n",
      "train - 0.99802 | valid - 0.92308\n",
      "train - 0.99539 | valid - 0.91716\n",
      "train - 0.99802 | valid - 0.93491\n",
      "train - 0.99736 | valid - 0.92899\n",
      "train - 0.99473 | valid - 0.91124\n",
      "train - 0.99539 | valid - 0.94675\n",
      "train - 0.99275 | valid - 0.92262\n",
      "train - 0.99473 | valid - 0.91071\n",
      "train - 0.99275 | valid - 0.92262\n",
      "train - 0.99341 | valid - 0.90476\n",
      "Average accuracy on crossval is 0.92228\n",
      "Std is 0.01180\n",
      "\n",
      "Best accuracy on crossval is 0.92228 with max_depth=19\n"
     ]
    }
   ],
   "source": [
    "best_acc = 0\n",
    "best_max_depth = 0\n",
    "for max_depth in range (1, 20):\n",
    "   print(f'Result for max_depth= {max_depth}')\n",
    "   avg_score, std_test = opt_reg_params(RandomForestClassifier(), X, y, random_state=21, max_depth=max_depth, n_estimators=50)\n",
    "   if avg_score > best_acc:\n",
    "       best_acc = avg_score\n",
    "       best_max_depth = max_depth\n",
    "print (f'Best accuracy on crossval is {best_acc:.5f} with max_depth={best_max_depth}')\n",
    "# чем больше max_depth, тем больше accuracy + переобучение"
   ]
  },
  {
   "cell_type": "code",
   "execution_count": 26,
   "metadata": {},
   "outputs": [
    {
     "name": "stdout",
     "output_type": "stream",
     "text": [
      "Result for n_estimators= 200\n",
      "train - 0.97165 | valid - 0.89941\n",
      "train - 0.96836 | valid - 0.89349\n",
      "train - 0.97363 | valid - 0.91716\n",
      "train - 0.96770 | valid - 0.90533\n",
      "train - 0.96770 | valid - 0.88166\n",
      "train - 0.97495 | valid - 0.92308\n",
      "train - 0.97299 | valid - 0.92857\n",
      "train - 0.97628 | valid - 0.91071\n",
      "train - 0.96970 | valid - 0.90476\n",
      "train - 0.96970 | valid - 0.88095\n",
      "Average accuracy on crossval is 0.90451\n",
      "Std is 0.01532\n",
      "\n",
      "Result for n_estimators= 210\n",
      "train - 0.97363 | valid - 0.90533\n",
      "train - 0.96836 | valid - 0.89941\n",
      "train - 0.97363 | valid - 0.91124\n",
      "train - 0.96638 | valid - 0.90533\n",
      "train - 0.96836 | valid - 0.88757\n",
      "train - 0.97495 | valid - 0.92308\n",
      "train - 0.97167 | valid - 0.92262\n",
      "train - 0.97826 | valid - 0.91071\n",
      "train - 0.96904 | valid - 0.91071\n",
      "train - 0.97101 | valid - 0.88690\n",
      "Average accuracy on crossval is 0.90629\n",
      "Std is 0.01178\n",
      "\n",
      "Result for n_estimators= 220\n",
      "train - 0.97231 | valid - 0.91124\n",
      "train - 0.96836 | valid - 0.89941\n",
      "train - 0.97165 | valid - 0.91124\n",
      "train - 0.96704 | valid - 0.90533\n",
      "train - 0.96902 | valid - 0.88166\n",
      "train - 0.97495 | valid - 0.92308\n",
      "train - 0.97233 | valid - 0.92262\n",
      "train - 0.97826 | valid - 0.91071\n",
      "train - 0.96970 | valid - 0.91071\n",
      "train - 0.97167 | valid - 0.88690\n",
      "Average accuracy on crossval is 0.90629\n",
      "Std is 0.01291\n",
      "\n",
      "Result for n_estimators= 230\n",
      "train - 0.97165 | valid - 0.91124\n",
      "train - 0.96836 | valid - 0.89941\n",
      "train - 0.97363 | valid - 0.91124\n",
      "train - 0.96572 | valid - 0.90533\n",
      "train - 0.96902 | valid - 0.88166\n",
      "train - 0.97429 | valid - 0.92308\n",
      "train - 0.97101 | valid - 0.92857\n",
      "train - 0.97892 | valid - 0.91071\n",
      "train - 0.96970 | valid - 0.91071\n",
      "train - 0.97036 | valid - 0.89286\n",
      "Average accuracy on crossval is 0.90748\n",
      "Std is 0.01299\n",
      "\n",
      "Result for n_estimators= 240\n",
      "train - 0.97363 | valid - 0.91716\n",
      "train - 0.96836 | valid - 0.89941\n",
      "train - 0.97363 | valid - 0.90533\n",
      "train - 0.96572 | valid - 0.90533\n",
      "train - 0.96836 | valid - 0.88166\n",
      "train - 0.97627 | valid - 0.92899\n",
      "train - 0.97233 | valid - 0.92262\n",
      "train - 0.97694 | valid - 0.91071\n",
      "train - 0.96904 | valid - 0.90476\n",
      "train - 0.97233 | valid - 0.89286\n",
      "Average accuracy on crossval is 0.90688\n",
      "Std is 0.01325\n",
      "\n",
      "Result for n_estimators= 250\n",
      "train - 0.97231 | valid - 0.91716\n",
      "train - 0.96902 | valid - 0.89941\n",
      "train - 0.97297 | valid - 0.91716\n",
      "train - 0.96572 | valid - 0.90533\n",
      "train - 0.96968 | valid - 0.88166\n",
      "train - 0.97561 | valid - 0.92899\n",
      "train - 0.97299 | valid - 0.92262\n",
      "train - 0.97563 | valid - 0.91071\n",
      "train - 0.96838 | valid - 0.91071\n",
      "train - 0.97299 | valid - 0.89286\n",
      "Average accuracy on crossval is 0.90866\n",
      "Std is 0.01355\n",
      "\n",
      "Result for n_estimators= 260\n",
      "train - 0.97363 | valid - 0.91716\n",
      "train - 0.96770 | valid - 0.89349\n",
      "train - 0.97231 | valid - 0.91716\n",
      "train - 0.96572 | valid - 0.90533\n",
      "train - 0.96902 | valid - 0.88166\n",
      "train - 0.97297 | valid - 0.92308\n",
      "train - 0.97036 | valid - 0.92262\n",
      "train - 0.97760 | valid - 0.91071\n",
      "train - 0.96904 | valid - 0.90476\n",
      "train - 0.97299 | valid - 0.89286\n",
      "Average accuracy on crossval is 0.90688\n",
      "Std is 0.01325\n",
      "\n",
      "Result for n_estimators= 270\n",
      "train - 0.97363 | valid - 0.91716\n",
      "train - 0.96770 | valid - 0.89941\n",
      "train - 0.97165 | valid - 0.91716\n",
      "train - 0.96638 | valid - 0.90533\n",
      "train - 0.96902 | valid - 0.87574\n",
      "train - 0.97429 | valid - 0.92308\n",
      "train - 0.97036 | valid - 0.92262\n",
      "train - 0.97760 | valid - 0.91071\n",
      "train - 0.96772 | valid - 0.89881\n",
      "train - 0.97233 | valid - 0.89286\n",
      "Average accuracy on crossval is 0.90629\n",
      "Std is 0.01422\n",
      "\n",
      "Result for n_estimators= 280\n",
      "train - 0.97034 | valid - 0.91716\n",
      "train - 0.96968 | valid - 0.89349\n",
      "train - 0.97231 | valid - 0.91716\n",
      "train - 0.96638 | valid - 0.90533\n",
      "train - 0.96902 | valid - 0.87574\n",
      "train - 0.97297 | valid - 0.92308\n",
      "train - 0.97167 | valid - 0.92262\n",
      "train - 0.97760 | valid - 0.91071\n",
      "train - 0.96970 | valid - 0.89881\n",
      "train - 0.97299 | valid - 0.89286\n",
      "Average accuracy on crossval is 0.90570\n",
      "Std is 0.01461\n",
      "\n",
      "Result for n_estimators= 290\n",
      "train - 0.97034 | valid - 0.91716\n",
      "train - 0.96902 | valid - 0.89349\n",
      "train - 0.97165 | valid - 0.91716\n",
      "train - 0.96704 | valid - 0.90533\n",
      "train - 0.96836 | valid - 0.87574\n",
      "train - 0.97231 | valid - 0.92308\n",
      "train - 0.97167 | valid - 0.92262\n",
      "train - 0.97628 | valid - 0.91071\n",
      "train - 0.96838 | valid - 0.89881\n",
      "train - 0.97299 | valid - 0.89286\n",
      "Average accuracy on crossval is 0.90570\n",
      "Std is 0.01461\n",
      "\n",
      "Result for n_estimators= 300\n",
      "train - 0.97165 | valid - 0.92308\n",
      "train - 0.96968 | valid - 0.89349\n",
      "train - 0.97165 | valid - 0.91716\n",
      "train - 0.96770 | valid - 0.90533\n",
      "train - 0.96902 | valid - 0.87574\n",
      "train - 0.97297 | valid - 0.92899\n",
      "train - 0.97036 | valid - 0.92262\n",
      "train - 0.97628 | valid - 0.91071\n",
      "train - 0.96970 | valid - 0.89881\n",
      "train - 0.97299 | valid - 0.88095\n",
      "Average accuracy on crossval is 0.90569\n",
      "Std is 0.01730\n",
      "\n",
      "Best accuracy on crossval is 0.90866 with n_estimators=250\n"
     ]
    }
   ],
   "source": [
    "best_acc = 0\n",
    "best_est = 0\n",
    "for n_estimators in range (200, 310, 10):\n",
    "   print(f'Result for n_estimators= {n_estimators}')\n",
    "   avg_score, std_test = opt_reg_params(RandomForestClassifier(), X, y, random_state=21, max_depth=14, n_estimators=n_estimators)\n",
    "   if avg_score > best_acc:\n",
    "       best_acc = avg_score\n",
    "       best_est = n_estimators\n",
    "print (f'Best accuracy on crossval is {best_acc:.5f} with n_estimators={best_est}')\n",
    "# чем больше n_est, тем больше accuracy, но есть пик"
   ]
  },
  {
   "cell_type": "code",
   "execution_count": 27,
   "metadata": {},
   "outputs": [],
   "source": [
    "param_grid = {\n",
    "    'n_estimators': [50, 100, 200, 300],  \n",
    "    'max_depth': [None, 5, 10, 20, 30], \n",
    "    'min_samples_split': [2, 5, 10],  \n",
    "    'min_samples_leaf': [1, 2, 4], \n",
    "    'max_features': ['sqrt', 'log2', None],  \n",
    "    'bootstrap': [True, False], \n",
    "    'class_weight': [None, 'balanced'] \n",
    "}"
   ]
  },
  {
   "cell_type": "code",
   "execution_count": 28,
   "metadata": {},
   "outputs": [
    {
     "ename": "KeyboardInterrupt",
     "evalue": "",
     "output_type": "error",
     "traceback": [
      "\u001b[0;31m---------------------------------------------------------------------------\u001b[0m",
      "\u001b[0;31mKeyboardInterrupt\u001b[0m                         Traceback (most recent call last)",
      "\u001b[0;32m/tmp/ipykernel_67997/2014357827.py\u001b[0m in \u001b[0;36m<module>\u001b[0;34m\u001b[0m\n\u001b[0;32m----> 1\u001b[0;31m \u001b[0mgrid_search\u001b[0m\u001b[0;34m(\u001b[0m\u001b[0mRandomForestClassifier\u001b[0m\u001b[0;34m(\u001b[0m\u001b[0;34m)\u001b[0m\u001b[0;34m,\u001b[0m \u001b[0mparam_grid\u001b[0m\u001b[0;34m,\u001b[0m \u001b[0mX_train\u001b[0m\u001b[0;34m,\u001b[0m \u001b[0my_train\u001b[0m\u001b[0;34m,\u001b[0m \u001b[0mX_test\u001b[0m\u001b[0;34m,\u001b[0m \u001b[0my_test\u001b[0m\u001b[0;34m,\u001b[0m \u001b[0mrandom_state\u001b[0m\u001b[0;34m=\u001b[0m\u001b[0;36m21\u001b[0m\u001b[0;34m)\u001b[0m\u001b[0;34m\u001b[0m\u001b[0;34m\u001b[0m\u001b[0m\n\u001b[0m",
      "\u001b[0;32m/tmp/ipykernel_67997/3346548954.py\u001b[0m in \u001b[0;36mgrid_search\u001b[0;34m(model, param_grid, X_train, y_train, X_test, y_test, **kwargs)\u001b[0m\n\u001b[1;32m      6\u001b[0m \u001b[0;34m\u001b[0m\u001b[0m\n\u001b[1;32m      7\u001b[0m     \u001b[0mgrid_search\u001b[0m \u001b[0;34m=\u001b[0m \u001b[0mGridSearchCV\u001b[0m\u001b[0;34m(\u001b[0m\u001b[0mmodel\u001b[0m\u001b[0;34m,\u001b[0m \u001b[0mparam_grid\u001b[0m\u001b[0;34m,\u001b[0m \u001b[0mcv\u001b[0m\u001b[0;34m=\u001b[0m\u001b[0;36m5\u001b[0m\u001b[0;34m,\u001b[0m \u001b[0mn_jobs\u001b[0m\u001b[0;34m=\u001b[0m\u001b[0;34m-\u001b[0m\u001b[0;36m1\u001b[0m\u001b[0;34m)\u001b[0m\u001b[0;34m\u001b[0m\u001b[0;34m\u001b[0m\u001b[0m\n\u001b[0;32m----> 8\u001b[0;31m     \u001b[0mgrid_search\u001b[0m\u001b[0;34m.\u001b[0m\u001b[0mfit\u001b[0m\u001b[0;34m(\u001b[0m\u001b[0mX_train\u001b[0m\u001b[0;34m,\u001b[0m \u001b[0my_train\u001b[0m\u001b[0;34m)\u001b[0m\u001b[0;34m\u001b[0m\u001b[0;34m\u001b[0m\u001b[0m\n\u001b[0m\u001b[1;32m      9\u001b[0m \u001b[0;34m\u001b[0m\u001b[0m\n\u001b[1;32m     10\u001b[0m     \u001b[0mprint\u001b[0m\u001b[0;34m(\u001b[0m\u001b[0;34m\"Best parameters:\"\u001b[0m\u001b[0;34m)\u001b[0m\u001b[0;34m\u001b[0m\u001b[0;34m\u001b[0m\u001b[0m\n",
      "\u001b[0;32m~/Desktop/School21/DS_Bootcamp.Day09.ID_886524-2/src/shylaisa/lib/python3.7/site-packages/sklearn/utils/validation.py\u001b[0m in \u001b[0;36minner_f\u001b[0;34m(*args, **kwargs)\u001b[0m\n\u001b[1;32m     71\u001b[0m                           FutureWarning)\n\u001b[1;32m     72\u001b[0m         \u001b[0mkwargs\u001b[0m\u001b[0;34m.\u001b[0m\u001b[0mupdate\u001b[0m\u001b[0;34m(\u001b[0m\u001b[0;34m{\u001b[0m\u001b[0mk\u001b[0m\u001b[0;34m:\u001b[0m \u001b[0marg\u001b[0m \u001b[0;32mfor\u001b[0m \u001b[0mk\u001b[0m\u001b[0;34m,\u001b[0m \u001b[0marg\u001b[0m \u001b[0;32min\u001b[0m \u001b[0mzip\u001b[0m\u001b[0;34m(\u001b[0m\u001b[0msig\u001b[0m\u001b[0;34m.\u001b[0m\u001b[0mparameters\u001b[0m\u001b[0;34m,\u001b[0m \u001b[0margs\u001b[0m\u001b[0;34m)\u001b[0m\u001b[0;34m}\u001b[0m\u001b[0;34m)\u001b[0m\u001b[0;34m\u001b[0m\u001b[0;34m\u001b[0m\u001b[0m\n\u001b[0;32m---> 73\u001b[0;31m         \u001b[0;32mreturn\u001b[0m \u001b[0mf\u001b[0m\u001b[0;34m(\u001b[0m\u001b[0;34m**\u001b[0m\u001b[0mkwargs\u001b[0m\u001b[0;34m)\u001b[0m\u001b[0;34m\u001b[0m\u001b[0;34m\u001b[0m\u001b[0m\n\u001b[0m\u001b[1;32m     74\u001b[0m     \u001b[0;32mreturn\u001b[0m \u001b[0minner_f\u001b[0m\u001b[0;34m\u001b[0m\u001b[0;34m\u001b[0m\u001b[0m\n\u001b[1;32m     75\u001b[0m \u001b[0;34m\u001b[0m\u001b[0m\n",
      "\u001b[0;32m~/Desktop/School21/DS_Bootcamp.Day09.ID_886524-2/src/shylaisa/lib/python3.7/site-packages/sklearn/model_selection/_search.py\u001b[0m in \u001b[0;36mfit\u001b[0;34m(self, X, y, groups, **fit_params)\u001b[0m\n\u001b[1;32m    734\u001b[0m                 \u001b[0;32mreturn\u001b[0m \u001b[0mresults\u001b[0m\u001b[0;34m\u001b[0m\u001b[0;34m\u001b[0m\u001b[0m\n\u001b[1;32m    735\u001b[0m \u001b[0;34m\u001b[0m\u001b[0m\n\u001b[0;32m--> 736\u001b[0;31m             \u001b[0mself\u001b[0m\u001b[0;34m.\u001b[0m\u001b[0m_run_search\u001b[0m\u001b[0;34m(\u001b[0m\u001b[0mevaluate_candidates\u001b[0m\u001b[0;34m)\u001b[0m\u001b[0;34m\u001b[0m\u001b[0;34m\u001b[0m\u001b[0m\n\u001b[0m\u001b[1;32m    737\u001b[0m \u001b[0;34m\u001b[0m\u001b[0m\n\u001b[1;32m    738\u001b[0m         \u001b[0;31m# For multi-metric evaluation, store the best_index_, best_params_ and\u001b[0m\u001b[0;34m\u001b[0m\u001b[0;34m\u001b[0m\u001b[0;34m\u001b[0m\u001b[0m\n",
      "\u001b[0;32m~/Desktop/School21/DS_Bootcamp.Day09.ID_886524-2/src/shylaisa/lib/python3.7/site-packages/sklearn/model_selection/_search.py\u001b[0m in \u001b[0;36m_run_search\u001b[0;34m(self, evaluate_candidates)\u001b[0m\n\u001b[1;32m   1186\u001b[0m     \u001b[0;32mdef\u001b[0m \u001b[0m_run_search\u001b[0m\u001b[0;34m(\u001b[0m\u001b[0mself\u001b[0m\u001b[0;34m,\u001b[0m \u001b[0mevaluate_candidates\u001b[0m\u001b[0;34m)\u001b[0m\u001b[0;34m:\u001b[0m\u001b[0;34m\u001b[0m\u001b[0;34m\u001b[0m\u001b[0m\n\u001b[1;32m   1187\u001b[0m         \u001b[0;34m\"\"\"Search all candidates in param_grid\"\"\"\u001b[0m\u001b[0;34m\u001b[0m\u001b[0;34m\u001b[0m\u001b[0m\n\u001b[0;32m-> 1188\u001b[0;31m         \u001b[0mevaluate_candidates\u001b[0m\u001b[0;34m(\u001b[0m\u001b[0mParameterGrid\u001b[0m\u001b[0;34m(\u001b[0m\u001b[0mself\u001b[0m\u001b[0;34m.\u001b[0m\u001b[0mparam_grid\u001b[0m\u001b[0;34m)\u001b[0m\u001b[0;34m)\u001b[0m\u001b[0;34m\u001b[0m\u001b[0;34m\u001b[0m\u001b[0m\n\u001b[0m\u001b[1;32m   1189\u001b[0m \u001b[0;34m\u001b[0m\u001b[0m\n\u001b[1;32m   1190\u001b[0m \u001b[0;34m\u001b[0m\u001b[0m\n",
      "\u001b[0;32m~/Desktop/School21/DS_Bootcamp.Day09.ID_886524-2/src/shylaisa/lib/python3.7/site-packages/sklearn/model_selection/_search.py\u001b[0m in \u001b[0;36mevaluate_candidates\u001b[0;34m(candidate_params)\u001b[0m\n\u001b[1;32m    713\u001b[0m                                \u001b[0;32mfor\u001b[0m \u001b[0mparameters\u001b[0m\u001b[0;34m,\u001b[0m \u001b[0;34m(\u001b[0m\u001b[0mtrain\u001b[0m\u001b[0;34m,\u001b[0m \u001b[0mtest\u001b[0m\u001b[0;34m)\u001b[0m\u001b[0;34m\u001b[0m\u001b[0;34m\u001b[0m\u001b[0m\n\u001b[1;32m    714\u001b[0m                                in product(candidate_params,\n\u001b[0;32m--> 715\u001b[0;31m                                           cv.split(X, y, groups)))\n\u001b[0m\u001b[1;32m    716\u001b[0m \u001b[0;34m\u001b[0m\u001b[0m\n\u001b[1;32m    717\u001b[0m                 \u001b[0;32mif\u001b[0m \u001b[0mlen\u001b[0m\u001b[0;34m(\u001b[0m\u001b[0mout\u001b[0m\u001b[0;34m)\u001b[0m \u001b[0;34m<\u001b[0m \u001b[0;36m1\u001b[0m\u001b[0;34m:\u001b[0m\u001b[0;34m\u001b[0m\u001b[0;34m\u001b[0m\u001b[0m\n",
      "\u001b[0;32m~/Desktop/School21/DS_Bootcamp.Day09.ID_886524-2/src/shylaisa/lib/python3.7/site-packages/joblib/parallel.py\u001b[0m in \u001b[0;36m__call__\u001b[0;34m(self, iterable)\u001b[0m\n\u001b[1;32m   1950\u001b[0m         \u001b[0mnext\u001b[0m\u001b[0;34m(\u001b[0m\u001b[0moutput\u001b[0m\u001b[0;34m)\u001b[0m\u001b[0;34m\u001b[0m\u001b[0;34m\u001b[0m\u001b[0m\n\u001b[1;32m   1951\u001b[0m \u001b[0;34m\u001b[0m\u001b[0m\n\u001b[0;32m-> 1952\u001b[0;31m         \u001b[0;32mreturn\u001b[0m \u001b[0moutput\u001b[0m \u001b[0;32mif\u001b[0m \u001b[0mself\u001b[0m\u001b[0;34m.\u001b[0m\u001b[0mreturn_generator\u001b[0m \u001b[0;32melse\u001b[0m \u001b[0mlist\u001b[0m\u001b[0;34m(\u001b[0m\u001b[0moutput\u001b[0m\u001b[0;34m)\u001b[0m\u001b[0;34m\u001b[0m\u001b[0;34m\u001b[0m\u001b[0m\n\u001b[0m\u001b[1;32m   1953\u001b[0m \u001b[0;34m\u001b[0m\u001b[0m\n\u001b[1;32m   1954\u001b[0m     \u001b[0;32mdef\u001b[0m \u001b[0m__repr__\u001b[0m\u001b[0;34m(\u001b[0m\u001b[0mself\u001b[0m\u001b[0;34m)\u001b[0m\u001b[0;34m:\u001b[0m\u001b[0;34m\u001b[0m\u001b[0;34m\u001b[0m\u001b[0m\n",
      "\u001b[0;32m~/Desktop/School21/DS_Bootcamp.Day09.ID_886524-2/src/shylaisa/lib/python3.7/site-packages/joblib/parallel.py\u001b[0m in \u001b[0;36m_get_outputs\u001b[0;34m(self, iterator, pre_dispatch)\u001b[0m\n\u001b[1;32m   1593\u001b[0m \u001b[0;34m\u001b[0m\u001b[0m\n\u001b[1;32m   1594\u001b[0m             \u001b[0;32mwith\u001b[0m \u001b[0mself\u001b[0m\u001b[0;34m.\u001b[0m\u001b[0m_backend\u001b[0m\u001b[0;34m.\u001b[0m\u001b[0mretrieval_context\u001b[0m\u001b[0;34m(\u001b[0m\u001b[0;34m)\u001b[0m\u001b[0;34m:\u001b[0m\u001b[0;34m\u001b[0m\u001b[0;34m\u001b[0m\u001b[0m\n\u001b[0;32m-> 1595\u001b[0;31m                 \u001b[0;32myield\u001b[0m \u001b[0;32mfrom\u001b[0m \u001b[0mself\u001b[0m\u001b[0;34m.\u001b[0m\u001b[0m_retrieve\u001b[0m\u001b[0;34m(\u001b[0m\u001b[0;34m)\u001b[0m\u001b[0;34m\u001b[0m\u001b[0;34m\u001b[0m\u001b[0m\n\u001b[0m\u001b[1;32m   1596\u001b[0m \u001b[0;34m\u001b[0m\u001b[0m\n\u001b[1;32m   1597\u001b[0m         \u001b[0;32mexcept\u001b[0m \u001b[0mGeneratorExit\u001b[0m\u001b[0;34m:\u001b[0m\u001b[0;34m\u001b[0m\u001b[0;34m\u001b[0m\u001b[0m\n",
      "\u001b[0;32m~/Desktop/School21/DS_Bootcamp.Day09.ID_886524-2/src/shylaisa/lib/python3.7/site-packages/joblib/parallel.py\u001b[0m in \u001b[0;36m_retrieve\u001b[0;34m(self)\u001b[0m\n\u001b[1;32m   1705\u001b[0m                 (self._jobs[0].get_status(\n\u001b[1;32m   1706\u001b[0m                     timeout=self.timeout) == TASK_PENDING)):\n\u001b[0;32m-> 1707\u001b[0;31m                 \u001b[0mtime\u001b[0m\u001b[0;34m.\u001b[0m\u001b[0msleep\u001b[0m\u001b[0;34m(\u001b[0m\u001b[0;36m0.01\u001b[0m\u001b[0;34m)\u001b[0m\u001b[0;34m\u001b[0m\u001b[0;34m\u001b[0m\u001b[0m\n\u001b[0m\u001b[1;32m   1708\u001b[0m                 \u001b[0;32mcontinue\u001b[0m\u001b[0;34m\u001b[0m\u001b[0;34m\u001b[0m\u001b[0m\n\u001b[1;32m   1709\u001b[0m \u001b[0;34m\u001b[0m\u001b[0m\n",
      "\u001b[0;31mKeyboardInterrupt\u001b[0m: "
     ]
    }
   ],
   "source": [
    "grid_search(RandomForestClassifier(), param_grid, X_train, y_train, X_test, y_test, random_state=21)"
   ]
  },
  {
   "cell_type": "markdown",
   "metadata": {},
   "source": [
    "## 6. Predictions"
   ]
  },
  {
   "cell_type": "markdown",
   "metadata": {},
   "source": [
    "1. Choose the best model and use it to make predictions for the test dataset.\n",
    "2. Calculate the final accuracy.\n",
    "3. Analyze: for which weekday your model makes the most errors (in % of the total number of samples of that class in your test dataset).\n",
    "4. Save the model."
   ]
  },
  {
   "cell_type": "code",
   "execution_count": 28,
   "metadata": {},
   "outputs": [],
   "source": [
    "best_model = RandomForestClassifier(random_state=21, max_depth=None, min_samples_split=2, min_samples_leaf=1, criterion='entropy', max_features='sqrt', n_estimators=200, ccp_alpha=0)"
   ]
  },
  {
   "cell_type": "code",
   "execution_count": 29,
   "metadata": {},
   "outputs": [
    {
     "data": {
      "text/plain": [
       "RandomForestClassifier(ccp_alpha=0, criterion='entropy', max_features='sqrt',\n",
       "                       n_estimators=200, random_state=21)"
      ]
     },
     "execution_count": 29,
     "metadata": {},
     "output_type": "execute_result"
    }
   ],
   "source": [
    "best_model.fit(X_train, y_train)"
   ]
  },
  {
   "cell_type": "code",
   "execution_count": 30,
   "metadata": {},
   "outputs": [
    {
     "data": {
      "text/plain": [
       "0.9047619047619048"
      ]
     },
     "execution_count": 30,
     "metadata": {},
     "output_type": "execute_result"
    }
   ],
   "source": [
    "y_pred = best_model.predict(X_test)\n",
    "final_acc = accuracy_score(y_test, y_pred)\n",
    "final_acc"
   ]
  },
  {
   "cell_type": "code",
   "execution_count": 31,
   "metadata": {},
   "outputs": [],
   "source": [
    "classes = best_model.classes_"
   ]
  },
  {
   "cell_type": "code",
   "execution_count": 32,
   "metadata": {},
   "outputs": [],
   "source": [
    "n_classes = len(classes)\n",
    "count_matrix = np.zeros((n_classes, n_classes), dtype=int)"
   ]
  },
  {
   "cell_type": "code",
   "execution_count": 33,
   "metadata": {},
   "outputs": [],
   "source": [
    "for actual, pred in zip(y_test, y_pred):\n",
    "    actual_idx = np.where(classes == actual)[0][0]\n",
    "    pred_idx = np.where(classes == pred)[0][0]\n",
    "    count_matrix[actual_idx][pred_idx] += 1"
   ]
  },
  {
   "cell_type": "code",
   "execution_count": 34,
   "metadata": {},
   "outputs": [
    {
     "data": {
      "image/png": "[encoded data removed]",
      "text/plain": [
       "<Figure size 640x480 with 2 Axes>"
      ]
     },
     "metadata": {},
     "output_type": "display_data"
    }
   ],
   "source": [
    "sns.heatmap(count_matrix, annot=True, fmt='d', \n",
    "            xticklabels=classes, yticklabels=classes)\n",
    "plt.xlabel('Predicted')\n",
    "plt.ylabel('Actual')\n",
    "plt.title('Confusion Matrix')\n",
    "plt.show()"
   ]
  },
  {
   "cell_type": "code",
   "execution_count": 35,
   "metadata": {},
   "outputs": [],
   "source": [
    "total_per_class = count_matrix.sum(axis=1)\n",
    "correct_predictions = np.diag(count_matrix)"
   ]
  },
  {
   "cell_type": "code",
   "execution_count": 36,
   "metadata": {},
   "outputs": [
    {
     "name": "stdout",
     "output_type": "stream",
     "text": [
      "0: Error Rate = 23.08%\n",
      "1: Error Rate = 10.71%\n",
      "2: Error Rate = 13.33%\n",
      "3: Error Rate = 10.26%\n",
      "4: Error Rate = 0.00%\n",
      "5: Error Rate = 0.00%\n",
      "6: Error Rate = 11.11%\n"
     ]
    }
   ],
   "source": [
    "errors_per_class = total_per_class - correct_predictions\n",
    "error_rates = (errors_per_class / total_per_class) * 100\n",
    "for i, weekday in enumerate(best_model.classes_):\n",
    "    print(f\"{weekday}: Error Rate = {error_rates[i]:.2f}%\")"
   ]
  },
  {
   "cell_type": "code",
   "execution_count": 37,
   "metadata": {},
   "outputs": [
    {
     "name": "stdout",
     "output_type": "stream",
     "text": [
      "\n",
      "The model makes the most errors on: 0 (23.08% errors)\n"
     ]
    }
   ],
   "source": [
    "worst_weekday_idx = np.argmax(error_rates)\n",
    "worst_weekday = best_model.classes_[worst_weekday_idx]\n",
    "worst_error_rate = error_rates[worst_weekday_idx]\n",
    "\n",
    "print(f\"\\nThe model makes the most errors on: {worst_weekday} ({worst_error_rate:.2f}% errors)\")"
   ]
  },
  {
   "cell_type": "code",
   "execution_count": 38,
   "metadata": {},
   "outputs": [
    {
     "data": {
      "text/plain": [
       "['final_model_ex00.pkl']"
      ]
     },
     "execution_count": 38,
     "metadata": {},
     "output_type": "execute_result"
    }
   ],
   "source": [
    "file_name = 'final_model_ex00.pkl' \n",
    "joblib.dump(best_model, file_name) "
   ]
  }
 ],
 "metadata": {
  "kernelspec": {
   "display_name": "shylaisa",
   "language": "python",
   "name": "python3"
  },
  "language_info": {
   "codemirror_mode": {
    "name": "ipython",
    "version": 3
   },
   "file_extension": ".py",
   "mimetype": "text/x-python",
   "name": "python",
   "nbconvert_exporter": "python",
   "pygments_lexer": "ipython3",
   "version": "3.7.9"
  }
 },
 "nbformat": 4,
 "nbformat_minor": 4
}
