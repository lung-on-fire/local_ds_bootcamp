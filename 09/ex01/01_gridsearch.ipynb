{
 "cells": [
  {
   "cell_type": "markdown",
   "metadata": {
    "id": "gJm_8nRDyUp7"
   },
   "source": [
    "# Day 09. Exercise 01\n",
    "# Gridsearch"
   ]
  },
  {
   "cell_type": "markdown",
   "metadata": {
    "id": "OLB1I9UiyUp-"
   },
   "source": [
    "## 0. Imports"
   ]
  },
  {
   "cell_type": "code",
   "execution_count": 1,
   "metadata": {
    "id": "rjrDzFRzyUp_"
   },
   "outputs": [],
   "source": [
    "import pandas as pd\n",
    "import numpy as np\n",
    "\n",
    "from sklearn.model_selection import train_test_split \n",
    "from sklearn.metrics import accuracy_score\n",
    "\n",
    "from sklearn.svm import SVC\n",
    "from sklearn.tree import DecisionTreeClassifier\n",
    "from sklearn.ensemble import RandomForestClassifier\n",
    "from sklearn.model_selection import cross_val_score\n",
    "\n",
    "from tqdm.autonotebook import tqdm"
   ]
  },
  {
   "cell_type": "markdown",
   "metadata": {
    "id": "F8zodjDJyUqA"
   },
   "source": [
    "## 1. Preprocessing"
   ]
  },
  {
   "cell_type": "markdown",
   "metadata": {
    "id": "PWR10A1TyUqA"
   },
   "source": [
    "1. Read the file [`day-of-week-not-scaled.csv`](https://drive.google.com/file/d/1AlGvsJDSzPT_70caausx8bFuupIEZkfh/view?usp=sharing). It is similar to the one from the previous exercise, but this time we did not scale continuous features (we are not going to use logreg anymore). Don't forget to enrich the table with the 'dayofweek' column from the previous day's .csv-file.\n",
    "2. Using `train_test_split` with parameters `test_size=0.2`, `random_state=21` get `X_train`, `y_train`, `X_test`, `y_test`. Use the additional parameter `stratify`."
   ]
  },
  {
   "cell_type": "code",
   "execution_count": 2,
   "metadata": {
    "id": "c8RWKHJbyUqA"
   },
   "outputs": [
    {
     "data": {
      "text/plain": [
       "(1686, 44)"
      ]
     },
     "execution_count": 2,
     "metadata": {},
     "output_type": "execute_result"
    }
   ],
   "source": [
    "df = pd.read_csv('../data/day-of-week-not-scaled.csv')\n",
    "enrichment = pd.read_csv('../data/dayofweek.csv')\n",
    "df['dayofweek'] = enrichment['dayofweek']\n",
    "df.shape"
   ]
  },
  {
   "cell_type": "code",
   "execution_count": 3,
   "metadata": {
    "id": "D5f4G8reyUqB"
   },
   "outputs": [],
   "source": [
    "X_train, X_test, y_train, y_test = train_test_split(df.drop('dayofweek', axis=1), df['dayofweek'], test_size=0.2, random_state=21, stratify=df['dayofweek'])"
   ]
  },
  {
   "cell_type": "markdown",
   "metadata": {
    "id": "Qx6PXWY3yUqB"
   },
   "source": [
    "## 2. SVM gridsearch"
   ]
  },
  {
   "cell_type": "markdown",
   "metadata": {
    "id": "Z6zo8cHCyUqB"
   },
   "source": [
    "1. Using `GridSearchCV` try different parameters of kernel (`linear`, `rbf`, `sigmoid`), C (`0.01`, `0.1`, `1`, `1.5`, `5`, `10`), gamma (`scale`, `auto`), class_weight (`balanced`, `None`) use `random_state=21` and `probability=True` and get the best combination of them in terms of accuracy.\n",
    "2. Create a dataframe from the results of the gridsearch and sort it ascendingly by the `rank_test_score`. Check if there is a huge difference between different combinations (sometimes a simpler model may give a comparable result)."
   ]
  },
  {
   "cell_type": "code",
   "execution_count": 4,
   "metadata": {
    "id": "dBiuP78ayUqB"
   },
   "outputs": [],
   "source": [
    "from sklearn.model_selection import GridSearchCV\n",
    "\n",
    "def grid_search(model, param_grid, X_train, y_train, X_test, y_test, **kwargs) -> object:\n",
    "    if kwargs:\n",
    "        model.set_params(**kwargs)\n",
    "\n",
    "    grid_search = GridSearchCV(model, param_grid, cv=5, scoring='accuracy', return_train_score=True, n_jobs=-1)\n",
    "    grid_search.fit(X_train, y_train)\n",
    "\n",
    "    print(\"Best parameters:\")\n",
    "    for param, value in grid_search.best_params_.items():\n",
    "        print(f\"{param}: {value}\")\n",
    "\n",
    "    print(f\"\\nBest cross-validation accuracy: {grid_search.best_score_:.4f}\")\n",
    "\n",
    "    best_model = grid_search.best_estimator_\n",
    "    test_score = best_model.score(X_test, y_test)\n",
    "    print(f\"Test set accuracy: {test_score:.4f}\")\n",
    "\n",
    "    return grid_search"
   ]
  },
  {
   "cell_type": "code",
   "execution_count": 33,
   "metadata": {
    "id": "4NL1AfU0yUqC"
   },
   "outputs": [],
   "source": [
    "def find_best_model(grid_result, important_columns) -> object:\n",
    "    results_df = pd.DataFrame(grid_result.cv_results_)\n",
    "    if 'params' not in important_columns:\n",
    "        display_columns = important_columns + ['params']\n",
    "    else:\n",
    "        display_columns = important_columns.copy()\n",
    "\n",
    "    sorted_results = results_df[display_columns].sort_values('rank_test_score', ascending=True)\n",
    "    top_score = sorted_results.iloc[0]['mean_test_score']\n",
    "    second_score = sorted_results.iloc[1]['mean_test_score']\n",
    "    score_diff = top_score - second_score\n",
    "    print(f\"\\nTop model params: {sorted_results.iloc[0]['params']}\")\n",
    "    print(f\"\\nSecond top model params: {sorted_results.iloc[1]['params']}\")\n",
    "    print(f\"\\nDifference between 2 top models: {score_diff:.4f}\")\n",
    "    return sorted_results"
   ]
  },
  {
   "cell_type": "code",
   "execution_count": null,
   "metadata": {
    "id": "GoMznS9wyUqC"
   },
   "outputs": [
    {
     "name": "stdout",
     "output_type": "stream",
     "text": [
      "Best parameters:\n",
      "C: 10\n",
      "class_weight: None\n",
      "gamma: auto\n",
      "kernel: rbf\n",
      "\n",
      "Best cross-validation accuracy: 0.8761\n",
      "Test set accuracy: 0.8876\n"
     ]
    }
   ],
   "source": [
    "param_grid_SVC = {\n",
    "    'kernel': ['linear', 'rbf', 'sigmoid'],\n",
    "    'C': [0.01, 0.1, 1, 1.5, 5, 10],\n",
    "    'gamma': ['scale', 'auto'],\n",
    "    'class_weight': ['balanced', None],\n",
    "    'random_state': [21],\n",
    "    'probability': [True]\n",
    "}\n",
    "grid_result_SVC = grid_search(SVC(), param_grid_SVC, X_train, y_train, X_test, y_test, random_state=21, probability=True)"
   ]
  },
  {
   "cell_type": "code",
   "execution_count": 34,
   "metadata": {
    "id": "oaeHHckFyUqC"
   },
   "outputs": [
    {
     "name": "stdout",
     "output_type": "stream",
     "text": [
      "\n",
      "Top model params: {'C': 10, 'class_weight': None, 'gamma': 'auto', 'kernel': 'rbf'}\n",
      "\n",
      "Second top model params: {'C': 10, 'class_weight': 'balanced', 'gamma': 'auto', 'kernel': 'rbf'}\n",
      "\n",
      "Difference between 2 top models: 0.0126\n"
     ]
    }
   ],
   "source": [
    "important_columns_SVC = [\n",
    "    'rank_test_score',\n",
    "    'mean_test_score', \n",
    "    'std_test_score',\n",
    "    'param_kernel',\n",
    "    'param_C',\n",
    "    'param_gamma',\n",
    "    'param_class_weight'\n",
    "    ]\n",
    "\n",
    "results_SVC = find_best_model(grid_result_SVC, important_columns_SVC)"
   ]
  },
  {
   "cell_type": "code",
   "execution_count": 35,
   "metadata": {
    "id": "Z_CDXonkyUqC"
   },
   "outputs": [
    {
     "data": {
      "text/html": [
       "<div>\n",
       "<style scoped>\n",
       "    .dataframe tbody tr th:only-of-type {\n",
       "        vertical-align: middle;\n",
       "    }\n",
       "\n",
       "    .dataframe tbody tr th {\n",
       "        vertical-align: top;\n",
       "    }\n",
       "\n",
       "    .dataframe thead th {\n",
       "        text-align: right;\n",
       "    }\n",
       "</style>\n",
       "<table border=\"1\" class=\"dataframe\">\n",
       "  <thead>\n",
       "    <tr style=\"text-align: right;\">\n",
       "      <th></th>\n",
       "      <th>rank_test_score</th>\n",
       "      <th>mean_test_score</th>\n",
       "      <th>std_test_score</th>\n",
       "      <th>param_kernel</th>\n",
       "      <th>param_C</th>\n",
       "      <th>param_gamma</th>\n",
       "      <th>param_class_weight</th>\n",
       "      <th>params</th>\n",
       "    </tr>\n",
       "  </thead>\n",
       "  <tbody>\n",
       "    <tr>\n",
       "      <th>70</th>\n",
       "      <td>1</td>\n",
       "      <td>0.876109</td>\n",
       "      <td>0.018419</td>\n",
       "      <td>rbf</td>\n",
       "      <td>10</td>\n",
       "      <td>auto</td>\n",
       "      <td>None</td>\n",
       "      <td>{'C': 10, 'class_weight': None, 'gamma': 'auto...</td>\n",
       "    </tr>\n",
       "    <tr>\n",
       "      <th>64</th>\n",
       "      <td>2</td>\n",
       "      <td>0.863500</td>\n",
       "      <td>0.010870</td>\n",
       "      <td>rbf</td>\n",
       "      <td>10</td>\n",
       "      <td>auto</td>\n",
       "      <td>balanced</td>\n",
       "      <td>{'C': 10, 'class_weight': 'balanced', 'gamma':...</td>\n",
       "    </tr>\n",
       "    <tr>\n",
       "      <th>58</th>\n",
       "      <td>3</td>\n",
       "      <td>0.816018</td>\n",
       "      <td>0.008116</td>\n",
       "      <td>rbf</td>\n",
       "      <td>5</td>\n",
       "      <td>auto</td>\n",
       "      <td>None</td>\n",
       "      <td>{'C': 5, 'class_weight': None, 'gamma': 'auto'...</td>\n",
       "    </tr>\n",
       "    <tr>\n",
       "      <th>52</th>\n",
       "      <td>4</td>\n",
       "      <td>0.808608</td>\n",
       "      <td>0.021007</td>\n",
       "      <td>rbf</td>\n",
       "      <td>5</td>\n",
       "      <td>auto</td>\n",
       "      <td>balanced</td>\n",
       "      <td>{'C': 5, 'class_weight': 'balanced', 'gamma': ...</td>\n",
       "    </tr>\n",
       "    <tr>\n",
       "      <th>63</th>\n",
       "      <td>5</td>\n",
       "      <td>0.721052</td>\n",
       "      <td>0.034438</td>\n",
       "      <td>linear</td>\n",
       "      <td>10</td>\n",
       "      <td>auto</td>\n",
       "      <td>balanced</td>\n",
       "      <td>{'C': 10, 'class_weight': 'balanced', 'gamma':...</td>\n",
       "    </tr>\n",
       "  </tbody>\n",
       "</table>\n",
       "</div>"
      ],
      "text/plain": [
       "    rank_test_score  mean_test_score  std_test_score param_kernel param_C  \\\n",
       "70                1         0.876109        0.018419          rbf      10   \n",
       "64                2         0.863500        0.010870          rbf      10   \n",
       "58                3         0.816018        0.008116          rbf       5   \n",
       "52                4         0.808608        0.021007          rbf       5   \n",
       "63                5         0.721052        0.034438       linear      10   \n",
       "\n",
       "   param_gamma param_class_weight  \\\n",
       "70        auto               None   \n",
       "64        auto           balanced   \n",
       "58        auto               None   \n",
       "52        auto           balanced   \n",
       "63        auto           balanced   \n",
       "\n",
       "                                               params  \n",
       "70  {'C': 10, 'class_weight': None, 'gamma': 'auto...  \n",
       "64  {'C': 10, 'class_weight': 'balanced', 'gamma':...  \n",
       "58  {'C': 5, 'class_weight': None, 'gamma': 'auto'...  \n",
       "52  {'C': 5, 'class_weight': 'balanced', 'gamma': ...  \n",
       "63  {'C': 10, 'class_weight': 'balanced', 'gamma':...  "
      ]
     },
     "execution_count": 35,
     "metadata": {},
     "output_type": "execute_result"
    }
   ],
   "source": [
    "results_SVC.head()"
   ]
  },
  {
   "cell_type": "markdown",
   "metadata": {
    "id": "a3w4FpldyUqC"
   },
   "source": [
    "## 3. Decision tree"
   ]
  },
  {
   "cell_type": "markdown",
   "metadata": {
    "id": "ELqxX9sXyUqD"
   },
   "source": [
    "1. Using `GridSearchCV` try different parameters of `max_depth` (from `1` to `49`), `class_weight` (`balanced`, `None`) and `criterion` (`entropy` and `gini`) and get the best combination of them in terms of accuracy. Use `random_state=21`.\n",
    "2. Create a dataframe from the results of the gridsearch and sort it ascendingly by the `rank_test_score`, check if there is a huge difference between different combinations (sometimes a simpler model may give a comparable result)."
   ]
  },
  {
   "cell_type": "code",
   "execution_count": 9,
   "metadata": {
    "id": "Q6YmUeUqyUqD"
   },
   "outputs": [],
   "source": [
    "param_grid_tree = {\n",
    "    'max_depth': range(1, 50),\n",
    "    'criterion': ['gini', 'entropy'],\n",
    "    'class_weight': ['balanced', None]\n",
    "}"
   ]
  },
  {
   "cell_type": "code",
   "execution_count": 10,
   "metadata": {
    "id": "aF9K-bBGyUqD"
   },
   "outputs": [
    {
     "name": "stdout",
     "output_type": "stream",
     "text": [
      "Best parameters:\n",
      "class_weight: balanced\n",
      "criterion: gini\n",
      "max_depth: 21\n",
      "\n",
      "Best cross-validation accuracy: 0.8739\n",
      "Test set accuracy: 0.8846\n"
     ]
    }
   ],
   "source": [
    "grid_results_tree = grid_search(DecisionTreeClassifier(), param_grid_tree, X_train, y_train, X_test, y_test, random_state=21)"
   ]
  },
  {
   "cell_type": "code",
   "execution_count": 37,
   "metadata": {
    "id": "7barDuTYyUqD"
   },
   "outputs": [
    {
     "name": "stdout",
     "output_type": "stream",
     "text": [
      "\n",
      "Top model params: {'class_weight': 'balanced', 'criterion': 'gini', 'max_depth': 21}\n",
      "\n",
      "Second top model params: {'class_weight': 'balanced', 'criterion': 'gini', 'max_depth': 25}\n",
      "\n",
      "Difference between 2 top models: 0.0000\n"
     ]
    }
   ],
   "source": [
    "important_columns_tree = [\n",
    "    'rank_test_score',\n",
    "    'mean_test_score', \n",
    "    'std_test_score',\n",
    "    'param_max_depth',\n",
    "    'param_criterion',\n",
    "    'param_class_weight'\n",
    "]\n",
    "\n",
    "\n",
    "results_tree = find_best_model(grid_results_tree, important_columns_tree)"
   ]
  },
  {
   "cell_type": "code",
   "execution_count": 38,
   "metadata": {
    "id": "Txy-LhV5yUqD"
   },
   "outputs": [
    {
     "data": {
      "text/html": [
       "<div>\n",
       "<style scoped>\n",
       "    .dataframe tbody tr th:only-of-type {\n",
       "        vertical-align: middle;\n",
       "    }\n",
       "\n",
       "    .dataframe tbody tr th {\n",
       "        vertical-align: top;\n",
       "    }\n",
       "\n",
       "    .dataframe thead th {\n",
       "        text-align: right;\n",
       "    }\n",
       "</style>\n",
       "<table border=\"1\" class=\"dataframe\">\n",
       "  <thead>\n",
       "    <tr style=\"text-align: right;\">\n",
       "      <th></th>\n",
       "      <th>rank_test_score</th>\n",
       "      <th>mean_test_score</th>\n",
       "      <th>std_test_score</th>\n",
       "      <th>param_max_depth</th>\n",
       "      <th>param_criterion</th>\n",
       "      <th>param_class_weight</th>\n",
       "      <th>params</th>\n",
       "    </tr>\n",
       "  </thead>\n",
       "  <tbody>\n",
       "    <tr>\n",
       "      <th>20</th>\n",
       "      <td>1</td>\n",
       "      <td>0.873865</td>\n",
       "      <td>0.025066</td>\n",
       "      <td>21</td>\n",
       "      <td>gini</td>\n",
       "      <td>balanced</td>\n",
       "      <td>{'class_weight': 'balanced', 'criterion': 'gin...</td>\n",
       "    </tr>\n",
       "    <tr>\n",
       "      <th>24</th>\n",
       "      <td>2</td>\n",
       "      <td>0.873854</td>\n",
       "      <td>0.025018</td>\n",
       "      <td>25</td>\n",
       "      <td>gini</td>\n",
       "      <td>balanced</td>\n",
       "      <td>{'class_weight': 'balanced', 'criterion': 'gin...</td>\n",
       "    </tr>\n",
       "    <tr>\n",
       "      <th>21</th>\n",
       "      <td>3</td>\n",
       "      <td>0.872378</td>\n",
       "      <td>0.025263</td>\n",
       "      <td>22</td>\n",
       "      <td>gini</td>\n",
       "      <td>balanced</td>\n",
       "      <td>{'class_weight': 'balanced', 'criterion': 'gin...</td>\n",
       "    </tr>\n",
       "    <tr>\n",
       "      <th>30</th>\n",
       "      <td>4</td>\n",
       "      <td>0.872372</td>\n",
       "      <td>0.025179</td>\n",
       "      <td>31</td>\n",
       "      <td>gini</td>\n",
       "      <td>balanced</td>\n",
       "      <td>{'class_weight': 'balanced', 'criterion': 'gin...</td>\n",
       "    </tr>\n",
       "    <tr>\n",
       "      <th>28</th>\n",
       "      <td>4</td>\n",
       "      <td>0.872372</td>\n",
       "      <td>0.025179</td>\n",
       "      <td>29</td>\n",
       "      <td>gini</td>\n",
       "      <td>balanced</td>\n",
       "      <td>{'class_weight': 'balanced', 'criterion': 'gin...</td>\n",
       "    </tr>\n",
       "  </tbody>\n",
       "</table>\n",
       "</div>"
      ],
      "text/plain": [
       "    rank_test_score  mean_test_score  std_test_score param_max_depth  \\\n",
       "20                1         0.873865        0.025066              21   \n",
       "24                2         0.873854        0.025018              25   \n",
       "21                3         0.872378        0.025263              22   \n",
       "30                4         0.872372        0.025179              31   \n",
       "28                4         0.872372        0.025179              29   \n",
       "\n",
       "   param_criterion param_class_weight  \\\n",
       "20            gini           balanced   \n",
       "24            gini           balanced   \n",
       "21            gini           balanced   \n",
       "30            gini           balanced   \n",
       "28            gini           balanced   \n",
       "\n",
       "                                               params  \n",
       "20  {'class_weight': 'balanced', 'criterion': 'gin...  \n",
       "24  {'class_weight': 'balanced', 'criterion': 'gin...  \n",
       "21  {'class_weight': 'balanced', 'criterion': 'gin...  \n",
       "30  {'class_weight': 'balanced', 'criterion': 'gin...  \n",
       "28  {'class_weight': 'balanced', 'criterion': 'gin...  "
      ]
     },
     "execution_count": 38,
     "metadata": {},
     "output_type": "execute_result"
    }
   ],
   "source": [
    "results_tree.head()"
   ]
  },
  {
   "cell_type": "markdown",
   "metadata": {
    "id": "dLFxJKtiyUqE"
   },
   "source": [
    "## 4. Random forest"
   ]
  },
  {
   "cell_type": "markdown",
   "metadata": {
    "id": "V6ADE7RuyUqE"
   },
   "source": [
    "1. Using `GridSearchCV` try different parameters of `n_estimators` (`5`, `10`, `50`, `100`), `max_depth` (from `1` to `49`), `class_weight` (`balanced`, `None`) and `criterion` (`entropy` and `gini`) and get the best combination of them in terms of accuracy. Use random_state=21.\n",
    "2. Create a dataframe from the results of the gridsearch and sort it ascendengly by the `rank_test_score`, check if there is a huge difference between different combinations (sometimes a simpler model may give a comparable result)."
   ]
  },
  {
   "cell_type": "code",
   "execution_count": 13,
   "metadata": {
    "id": "VOyEfEctyUqE"
   },
   "outputs": [],
   "source": [
    "param_grid_forest = {\n",
    "    'n_estimators': [5, 10, 50, 100],\n",
    "    'max_depth': range(1, 50),\n",
    "    'criterion': ['gini', 'entropy'],\n",
    "    'class_weight': ['balanced', None]\n",
    "}"
   ]
  },
  {
   "cell_type": "code",
   "execution_count": 14,
   "metadata": {
    "id": "otVWJ4CqyUqE"
   },
   "outputs": [
    {
     "name": "stdout",
     "output_type": "stream",
     "text": [
      "Best parameters:\n",
      "class_weight: balanced\n",
      "criterion: entropy\n",
      "max_depth: 24\n",
      "n_estimators: 100\n",
      "\n",
      "Best cross-validation accuracy: 0.9043\n",
      "Test set accuracy: 0.9260\n"
     ]
    }
   ],
   "source": [
    "grid_results_forest = grid_search(RandomForestClassifier(), param_grid_forest, X_train, y_train, X_test, y_test, random_state=21)"
   ]
  },
  {
   "cell_type": "code",
   "execution_count": 39,
   "metadata": {
    "id": "y8CPm8gTyUqE"
   },
   "outputs": [
    {
     "name": "stdout",
     "output_type": "stream",
     "text": [
      "\n",
      "Top model params: {'class_weight': 'balanced', 'criterion': 'entropy', 'max_depth': 24, 'n_estimators': 100}\n",
      "\n",
      "Second top model params: {'class_weight': 'balanced', 'criterion': 'entropy', 'max_depth': 29, 'n_estimators': 100}\n",
      "\n",
      "Difference between 2 top models: 0.0000\n"
     ]
    }
   ],
   "source": [
    "important_columns_forest = [\n",
    "    'rank_test_score',\n",
    "    'mean_test_score', \n",
    "    'std_test_score',\n",
    "    'param_n_estimators',\n",
    "    'param_max_depth',\n",
    "    'param_criterion',\n",
    "    'param_class_weight'\n",
    "]\n",
    "\n",
    "results_forest = find_best_model(grid_results_forest, important_columns_forest)"
   ]
  },
  {
   "cell_type": "code",
   "execution_count": 40,
   "metadata": {
    "id": "YuU50GSQyUqF"
   },
   "outputs": [
    {
     "data": {
      "text/html": [
       "<div>\n",
       "<style scoped>\n",
       "    .dataframe tbody tr th:only-of-type {\n",
       "        vertical-align: middle;\n",
       "    }\n",
       "\n",
       "    .dataframe tbody tr th {\n",
       "        vertical-align: top;\n",
       "    }\n",
       "\n",
       "    .dataframe thead th {\n",
       "        text-align: right;\n",
       "    }\n",
       "</style>\n",
       "<table border=\"1\" class=\"dataframe\">\n",
       "  <thead>\n",
       "    <tr style=\"text-align: right;\">\n",
       "      <th></th>\n",
       "      <th>rank_test_score</th>\n",
       "      <th>mean_test_score</th>\n",
       "      <th>std_test_score</th>\n",
       "      <th>param_n_estimators</th>\n",
       "      <th>param_max_depth</th>\n",
       "      <th>param_criterion</th>\n",
       "      <th>param_class_weight</th>\n",
       "      <th>params</th>\n",
       "    </tr>\n",
       "  </thead>\n",
       "  <tbody>\n",
       "    <tr>\n",
       "      <th>291</th>\n",
       "      <td>1</td>\n",
       "      <td>0.904293</td>\n",
       "      <td>0.012361</td>\n",
       "      <td>100</td>\n",
       "      <td>24</td>\n",
       "      <td>entropy</td>\n",
       "      <td>balanced</td>\n",
       "      <td>{'class_weight': 'balanced', 'criterion': 'ent...</td>\n",
       "    </tr>\n",
       "    <tr>\n",
       "      <th>311</th>\n",
       "      <td>2</td>\n",
       "      <td>0.904290</td>\n",
       "      <td>0.012156</td>\n",
       "      <td>100</td>\n",
       "      <td>29</td>\n",
       "      <td>entropy</td>\n",
       "      <td>balanced</td>\n",
       "      <td>{'class_weight': 'balanced', 'criterion': 'ent...</td>\n",
       "    </tr>\n",
       "    <tr>\n",
       "      <th>502</th>\n",
       "      <td>2</td>\n",
       "      <td>0.904290</td>\n",
       "      <td>0.010961</td>\n",
       "      <td>50</td>\n",
       "      <td>28</td>\n",
       "      <td>gini</td>\n",
       "      <td>None</td>\n",
       "      <td>{'class_weight': None, 'criterion': 'gini', 'm...</td>\n",
       "    </tr>\n",
       "    <tr>\n",
       "      <th>118</th>\n",
       "      <td>4</td>\n",
       "      <td>0.903549</td>\n",
       "      <td>0.012056</td>\n",
       "      <td>50</td>\n",
       "      <td>30</td>\n",
       "      <td>gini</td>\n",
       "      <td>balanced</td>\n",
       "      <td>{'class_weight': 'balanced', 'criterion': 'gin...</td>\n",
       "    </tr>\n",
       "    <tr>\n",
       "      <th>515</th>\n",
       "      <td>5</td>\n",
       "      <td>0.903547</td>\n",
       "      <td>0.014380</td>\n",
       "      <td>100</td>\n",
       "      <td>31</td>\n",
       "      <td>gini</td>\n",
       "      <td>None</td>\n",
       "      <td>{'class_weight': None, 'criterion': 'gini', 'm...</td>\n",
       "    </tr>\n",
       "  </tbody>\n",
       "</table>\n",
       "</div>"
      ],
      "text/plain": [
       "     rank_test_score  mean_test_score  std_test_score param_n_estimators  \\\n",
       "291                1         0.904293        0.012361                100   \n",
       "311                2         0.904290        0.012156                100   \n",
       "502                2         0.904290        0.010961                 50   \n",
       "118                4         0.903549        0.012056                 50   \n",
       "515                5         0.903547        0.014380                100   \n",
       "\n",
       "    param_max_depth param_criterion param_class_weight  \\\n",
       "291              24         entropy           balanced   \n",
       "311              29         entropy           balanced   \n",
       "502              28            gini               None   \n",
       "118              30            gini           balanced   \n",
       "515              31            gini               None   \n",
       "\n",
       "                                                params  \n",
       "291  {'class_weight': 'balanced', 'criterion': 'ent...  \n",
       "311  {'class_weight': 'balanced', 'criterion': 'ent...  \n",
       "502  {'class_weight': None, 'criterion': 'gini', 'm...  \n",
       "118  {'class_weight': 'balanced', 'criterion': 'gin...  \n",
       "515  {'class_weight': None, 'criterion': 'gini', 'm...  "
      ]
     },
     "execution_count": 40,
     "metadata": {},
     "output_type": "execute_result"
    }
   ],
   "source": [
    "results_forest.head()"
   ]
  },
  {
   "cell_type": "markdown",
   "metadata": {
    "id": "WWa7ucWxyUqF"
   },
   "source": [
    "## 5. Progress bar"
   ]
  },
  {
   "cell_type": "markdown",
   "metadata": {
    "id": "u2Q8KPBiyUqF"
   },
   "source": [
    "Gridsearch can be a quite long process and you may find yourself wondering when it will end.\n",
    "1. Create a manual gridsearch for the same parameters values of random forest iterating through the list of the possible values and calculating `cross_val_score` for each combination. Try to increase `n_jobs`. The value `cv` for `cross_val_score` is 5.\n",
    "2. Track the progress using the library `tqdm.notebook`.\n",
    "3. Create a dataframe from the results of the gridsearch with the columns corresponding to the names of the parameters and `mean_accuracy` and `std_accuracy`.\n",
    "4. Sort it descendingly by the `mean_accuracy`, check if there is a huge difference between different combinations (sometimes a simpler model may give a comparable result)."
   ]
  },
  {
   "cell_type": "code",
   "execution_count": 17,
   "metadata": {
    "id": "a1x6AdqTyUqG"
   },
   "outputs": [],
   "source": [
    "param_grid_forest = {\n",
    "    'n_estimators': [5, 10, 50, 100],\n",
    "    'max_depth': range(1, 50),\n",
    "    'criterion': ['gini', 'entropy'],\n",
    "    'class_weight': ['balanced', None]\n",
    "}"
   ]
  },
  {
   "cell_type": "code",
   "execution_count": 18,
   "metadata": {},
   "outputs": [],
   "source": [
    "from itertools import product\n",
    "all_params = list(product(*param_grid_forest.values()))\n",
    "param_names = list(param_grid_forest.keys())"
   ]
  },
  {
   "cell_type": "code",
   "execution_count": 19,
   "metadata": {},
   "outputs": [
    {
     "name": "stderr",
     "output_type": "stream",
     "text": [
      "Grid Search Progress:   0%|          | 0/784 [00:00<?, ?it/s]"
     ]
    }
   ],
   "source": [
    "tqdm.pandas()  \n",
    "pbar = tqdm(all_params, desc=\"Grid Search Progress\")"
   ]
  },
  {
   "cell_type": "code",
   "execution_count": 20,
   "metadata": {
    "id": "UCBvyIm-yUqG"
   },
   "outputs": [
    {
     "name": "stderr",
     "output_type": "stream",
     "text": [
      "Grid Search Progress:   0%|          | 1/784 [00:00<01:58,  6.61it/s]"
     ]
    },
    {
     "name": "stderr",
     "output_type": "stream",
     "text": [
      "Grid Search Progress: 100%|██████████| 784/784 [04:33<00:00,  2.86it/s]\n"
     ]
    }
   ],
   "source": [
    "results = []\n",
    "for params in pbar:\n",
    "    param_dict = dict(zip(param_names, params))\n",
    "    \n",
    "    rf = RandomForestClassifier(**param_dict, random_state=21)\n",
    "    \n",
    "    scores = cross_val_score(rf, X_train, y_train, cv=5, n_jobs=-1)\n",
    "\n",
    "    results.append({\n",
    "        **param_dict,\n",
    "        'mean_accuracy': np.mean(scores),\n",
    "        'std_accuracy': np.std(scores)\n",
    "    })"
   ]
  },
  {
   "cell_type": "code",
   "execution_count": 21,
   "metadata": {
    "id": "pXNzb1QnyUqG"
   },
   "outputs": [
    {
     "data": {
      "text/html": [
       "<div>\n",
       "<style scoped>\n",
       "    .dataframe tbody tr th:only-of-type {\n",
       "        vertical-align: middle;\n",
       "    }\n",
       "\n",
       "    .dataframe tbody tr th {\n",
       "        vertical-align: top;\n",
       "    }\n",
       "\n",
       "    .dataframe thead th {\n",
       "        text-align: right;\n",
       "    }\n",
       "</style>\n",
       "<table border=\"1\" class=\"dataframe\">\n",
       "  <thead>\n",
       "    <tr style=\"text-align: right;\">\n",
       "      <th></th>\n",
       "      <th>n_estimators</th>\n",
       "      <th>max_depth</th>\n",
       "      <th>criterion</th>\n",
       "      <th>class_weight</th>\n",
       "      <th>mean_accuracy</th>\n",
       "      <th>std_accuracy</th>\n",
       "    </tr>\n",
       "  </thead>\n",
       "  <tbody>\n",
       "    <tr>\n",
       "      <th>0</th>\n",
       "      <td>5</td>\n",
       "      <td>1</td>\n",
       "      <td>gini</td>\n",
       "      <td>balanced</td>\n",
       "      <td>0.283390</td>\n",
       "      <td>0.011062</td>\n",
       "    </tr>\n",
       "    <tr>\n",
       "      <th>1</th>\n",
       "      <td>5</td>\n",
       "      <td>1</td>\n",
       "      <td>gini</td>\n",
       "      <td>None</td>\n",
       "      <td>0.364219</td>\n",
       "      <td>0.021651</td>\n",
       "    </tr>\n",
       "    <tr>\n",
       "      <th>2</th>\n",
       "      <td>5</td>\n",
       "      <td>1</td>\n",
       "      <td>entropy</td>\n",
       "      <td>balanced</td>\n",
       "      <td>0.270794</td>\n",
       "      <td>0.024718</td>\n",
       "    </tr>\n",
       "    <tr>\n",
       "      <th>3</th>\n",
       "      <td>5</td>\n",
       "      <td>1</td>\n",
       "      <td>entropy</td>\n",
       "      <td>None</td>\n",
       "      <td>0.353832</td>\n",
       "      <td>0.016467</td>\n",
       "    </tr>\n",
       "    <tr>\n",
       "      <th>4</th>\n",
       "      <td>5</td>\n",
       "      <td>2</td>\n",
       "      <td>gini</td>\n",
       "      <td>balanced</td>\n",
       "      <td>0.346419</td>\n",
       "      <td>0.029749</td>\n",
       "    </tr>\n",
       "    <tr>\n",
       "      <th>...</th>\n",
       "      <td>...</td>\n",
       "      <td>...</td>\n",
       "      <td>...</td>\n",
       "      <td>...</td>\n",
       "      <td>...</td>\n",
       "      <td>...</td>\n",
       "    </tr>\n",
       "    <tr>\n",
       "      <th>779</th>\n",
       "      <td>100</td>\n",
       "      <td>48</td>\n",
       "      <td>entropy</td>\n",
       "      <td>None</td>\n",
       "      <td>0.898362</td>\n",
       "      <td>0.014986</td>\n",
       "    </tr>\n",
       "    <tr>\n",
       "      <th>780</th>\n",
       "      <td>100</td>\n",
       "      <td>49</td>\n",
       "      <td>gini</td>\n",
       "      <td>balanced</td>\n",
       "      <td>0.894652</td>\n",
       "      <td>0.015726</td>\n",
       "    </tr>\n",
       "    <tr>\n",
       "      <th>781</th>\n",
       "      <td>100</td>\n",
       "      <td>49</td>\n",
       "      <td>gini</td>\n",
       "      <td>None</td>\n",
       "      <td>0.902806</td>\n",
       "      <td>0.010460</td>\n",
       "    </tr>\n",
       "    <tr>\n",
       "      <th>782</th>\n",
       "      <td>100</td>\n",
       "      <td>49</td>\n",
       "      <td>entropy</td>\n",
       "      <td>balanced</td>\n",
       "      <td>0.898359</td>\n",
       "      <td>0.013872</td>\n",
       "    </tr>\n",
       "    <tr>\n",
       "      <th>783</th>\n",
       "      <td>100</td>\n",
       "      <td>49</td>\n",
       "      <td>entropy</td>\n",
       "      <td>None</td>\n",
       "      <td>0.898362</td>\n",
       "      <td>0.014986</td>\n",
       "    </tr>\n",
       "  </tbody>\n",
       "</table>\n",
       "<p>784 rows × 6 columns</p>\n",
       "</div>"
      ],
      "text/plain": [
       "     n_estimators  max_depth criterion class_weight  mean_accuracy  \\\n",
       "0               5          1      gini     balanced       0.283390   \n",
       "1               5          1      gini         None       0.364219   \n",
       "2               5          1   entropy     balanced       0.270794   \n",
       "3               5          1   entropy         None       0.353832   \n",
       "4               5          2      gini     balanced       0.346419   \n",
       "..            ...        ...       ...          ...            ...   \n",
       "779           100         48   entropy         None       0.898362   \n",
       "780           100         49      gini     balanced       0.894652   \n",
       "781           100         49      gini         None       0.902806   \n",
       "782           100         49   entropy     balanced       0.898359   \n",
       "783           100         49   entropy         None       0.898362   \n",
       "\n",
       "     std_accuracy  \n",
       "0        0.011062  \n",
       "1        0.021651  \n",
       "2        0.024718  \n",
       "3        0.016467  \n",
       "4        0.029749  \n",
       "..            ...  \n",
       "779      0.014986  \n",
       "780      0.015726  \n",
       "781      0.010460  \n",
       "782      0.013872  \n",
       "783      0.014986  \n",
       "\n",
       "[784 rows x 6 columns]"
      ]
     },
     "execution_count": 21,
     "metadata": {},
     "output_type": "execute_result"
    }
   ],
   "source": [
    "manual_grid_results = pd.DataFrame(results)\n",
    "manual_grid_results"
   ]
  },
  {
   "cell_type": "code",
   "execution_count": 22,
   "metadata": {},
   "outputs": [
    {
     "data": {
      "text/html": [
       "<div>\n",
       "<style scoped>\n",
       "    .dataframe tbody tr th:only-of-type {\n",
       "        vertical-align: middle;\n",
       "    }\n",
       "\n",
       "    .dataframe tbody tr th {\n",
       "        vertical-align: top;\n",
       "    }\n",
       "\n",
       "    .dataframe thead th {\n",
       "        text-align: right;\n",
       "    }\n",
       "</style>\n",
       "<table border=\"1\" class=\"dataframe\">\n",
       "  <thead>\n",
       "    <tr style=\"text-align: right;\">\n",
       "      <th></th>\n",
       "      <th>n_estimators</th>\n",
       "      <th>max_depth</th>\n",
       "      <th>criterion</th>\n",
       "      <th>class_weight</th>\n",
       "      <th>mean_accuracy</th>\n",
       "      <th>std_accuracy</th>\n",
       "    </tr>\n",
       "  </thead>\n",
       "  <tbody>\n",
       "    <tr>\n",
       "      <th>682</th>\n",
       "      <td>100</td>\n",
       "      <td>24</td>\n",
       "      <td>entropy</td>\n",
       "      <td>balanced</td>\n",
       "      <td>0.904293</td>\n",
       "      <td>0.012361</td>\n",
       "    </tr>\n",
       "    <tr>\n",
       "      <th>702</th>\n",
       "      <td>100</td>\n",
       "      <td>29</td>\n",
       "      <td>entropy</td>\n",
       "      <td>balanced</td>\n",
       "      <td>0.904290</td>\n",
       "      <td>0.012156</td>\n",
       "    </tr>\n",
       "    <tr>\n",
       "      <th>501</th>\n",
       "      <td>50</td>\n",
       "      <td>28</td>\n",
       "      <td>gini</td>\n",
       "      <td>None</td>\n",
       "      <td>0.904290</td>\n",
       "      <td>0.010961</td>\n",
       "    </tr>\n",
       "    <tr>\n",
       "      <th>508</th>\n",
       "      <td>50</td>\n",
       "      <td>30</td>\n",
       "      <td>gini</td>\n",
       "      <td>balanced</td>\n",
       "      <td>0.903549</td>\n",
       "      <td>0.012056</td>\n",
       "    </tr>\n",
       "    <tr>\n",
       "      <th>709</th>\n",
       "      <td>100</td>\n",
       "      <td>31</td>\n",
       "      <td>gini</td>\n",
       "      <td>None</td>\n",
       "      <td>0.903547</td>\n",
       "      <td>0.014380</td>\n",
       "    </tr>\n",
       "    <tr>\n",
       "      <th>...</th>\n",
       "      <td>...</td>\n",
       "      <td>...</td>\n",
       "      <td>...</td>\n",
       "      <td>...</td>\n",
       "      <td>...</td>\n",
       "      <td>...</td>\n",
       "    </tr>\n",
       "    <tr>\n",
       "      <th>3</th>\n",
       "      <td>5</td>\n",
       "      <td>1</td>\n",
       "      <td>entropy</td>\n",
       "      <td>None</td>\n",
       "      <td>0.353832</td>\n",
       "      <td>0.016467</td>\n",
       "    </tr>\n",
       "    <tr>\n",
       "      <th>6</th>\n",
       "      <td>5</td>\n",
       "      <td>2</td>\n",
       "      <td>entropy</td>\n",
       "      <td>balanced</td>\n",
       "      <td>0.353110</td>\n",
       "      <td>0.021165</td>\n",
       "    </tr>\n",
       "    <tr>\n",
       "      <th>4</th>\n",
       "      <td>5</td>\n",
       "      <td>2</td>\n",
       "      <td>gini</td>\n",
       "      <td>balanced</td>\n",
       "      <td>0.346419</td>\n",
       "      <td>0.029749</td>\n",
       "    </tr>\n",
       "    <tr>\n",
       "      <th>0</th>\n",
       "      <td>5</td>\n",
       "      <td>1</td>\n",
       "      <td>gini</td>\n",
       "      <td>balanced</td>\n",
       "      <td>0.283390</td>\n",
       "      <td>0.011062</td>\n",
       "    </tr>\n",
       "    <tr>\n",
       "      <th>2</th>\n",
       "      <td>5</td>\n",
       "      <td>1</td>\n",
       "      <td>entropy</td>\n",
       "      <td>balanced</td>\n",
       "      <td>0.270794</td>\n",
       "      <td>0.024718</td>\n",
       "    </tr>\n",
       "  </tbody>\n",
       "</table>\n",
       "<p>784 rows × 6 columns</p>\n",
       "</div>"
      ],
      "text/plain": [
       "     n_estimators  max_depth criterion class_weight  mean_accuracy  \\\n",
       "682           100         24   entropy     balanced       0.904293   \n",
       "702           100         29   entropy     balanced       0.904290   \n",
       "501            50         28      gini         None       0.904290   \n",
       "508            50         30      gini     balanced       0.903549   \n",
       "709           100         31      gini         None       0.903547   \n",
       "..            ...        ...       ...          ...            ...   \n",
       "3               5          1   entropy         None       0.353832   \n",
       "6               5          2   entropy     balanced       0.353110   \n",
       "4               5          2      gini     balanced       0.346419   \n",
       "0               5          1      gini     balanced       0.283390   \n",
       "2               5          1   entropy     balanced       0.270794   \n",
       "\n",
       "     std_accuracy  \n",
       "682      0.012361  \n",
       "702      0.012156  \n",
       "501      0.010961  \n",
       "508      0.012056  \n",
       "709      0.014380  \n",
       "..            ...  \n",
       "3        0.016467  \n",
       "6        0.021165  \n",
       "4        0.029749  \n",
       "0        0.011062  \n",
       "2        0.024718  \n",
       "\n",
       "[784 rows x 6 columns]"
      ]
     },
     "execution_count": 22,
     "metadata": {},
     "output_type": "execute_result"
    }
   ],
   "source": [
    "manual_grid_results = manual_grid_results.sort_values('mean_accuracy', ascending=False)\n",
    "manual_grid_results"
   ]
  },
  {
   "cell_type": "code",
   "execution_count": 23,
   "metadata": {},
   "outputs": [
    {
     "data": {
      "text/plain": [
       "2.7536830512486787e-06"
      ]
     },
     "execution_count": 23,
     "metadata": {},
     "output_type": "execute_result"
    }
   ],
   "source": [
    "top_acc = manual_grid_results['mean_accuracy'].iloc[0]\n",
    "second_top_acc = manual_grid_results['mean_accuracy'].iloc[1]\n",
    "top_acc - second_top_acc"
   ]
  },
  {
   "cell_type": "code",
   "execution_count": 24,
   "metadata": {},
   "outputs": [
    {
     "name": "stdout",
     "output_type": "stream",
     "text": [
      "Simplest models among top 1% performers (accuracy ≥ 0.9043):\n"
     ]
    },
    {
     "data": {
      "text/html": [
       "<div>\n",
       "<style scoped>\n",
       "    .dataframe tbody tr th:only-of-type {\n",
       "        vertical-align: middle;\n",
       "    }\n",
       "\n",
       "    .dataframe tbody tr th {\n",
       "        vertical-align: top;\n",
       "    }\n",
       "\n",
       "    .dataframe thead th {\n",
       "        text-align: right;\n",
       "    }\n",
       "</style>\n",
       "<table border=\"1\" class=\"dataframe\">\n",
       "  <thead>\n",
       "    <tr style=\"text-align: right;\">\n",
       "      <th></th>\n",
       "      <th>n_estimators</th>\n",
       "      <th>max_depth</th>\n",
       "      <th>criterion</th>\n",
       "      <th>class_weight</th>\n",
       "      <th>mean_accuracy</th>\n",
       "      <th>std_accuracy</th>\n",
       "    </tr>\n",
       "  </thead>\n",
       "  <tbody>\n",
       "    <tr>\n",
       "      <th>501</th>\n",
       "      <td>50</td>\n",
       "      <td>28</td>\n",
       "      <td>gini</td>\n",
       "      <td>None</td>\n",
       "      <td>0.904290</td>\n",
       "      <td>0.010961</td>\n",
       "    </tr>\n",
       "    <tr>\n",
       "      <th>508</th>\n",
       "      <td>50</td>\n",
       "      <td>30</td>\n",
       "      <td>gini</td>\n",
       "      <td>balanced</td>\n",
       "      <td>0.903549</td>\n",
       "      <td>0.012056</td>\n",
       "    </tr>\n",
       "    <tr>\n",
       "      <th>520</th>\n",
       "      <td>50</td>\n",
       "      <td>33</td>\n",
       "      <td>gini</td>\n",
       "      <td>balanced</td>\n",
       "      <td>0.902809</td>\n",
       "      <td>0.013628</td>\n",
       "    </tr>\n",
       "    <tr>\n",
       "      <th>682</th>\n",
       "      <td>100</td>\n",
       "      <td>24</td>\n",
       "      <td>entropy</td>\n",
       "      <td>balanced</td>\n",
       "      <td>0.904293</td>\n",
       "      <td>0.012361</td>\n",
       "    </tr>\n",
       "    <tr>\n",
       "      <th>686</th>\n",
       "      <td>100</td>\n",
       "      <td>25</td>\n",
       "      <td>entropy</td>\n",
       "      <td>balanced</td>\n",
       "      <td>0.902809</td>\n",
       "      <td>0.013639</td>\n",
       "    </tr>\n",
       "    <tr>\n",
       "      <th>702</th>\n",
       "      <td>100</td>\n",
       "      <td>29</td>\n",
       "      <td>entropy</td>\n",
       "      <td>balanced</td>\n",
       "      <td>0.904290</td>\n",
       "      <td>0.012156</td>\n",
       "    </tr>\n",
       "    <tr>\n",
       "      <th>709</th>\n",
       "      <td>100</td>\n",
       "      <td>31</td>\n",
       "      <td>gini</td>\n",
       "      <td>None</td>\n",
       "      <td>0.903547</td>\n",
       "      <td>0.014380</td>\n",
       "    </tr>\n",
       "  </tbody>\n",
       "</table>\n",
       "</div>"
      ],
      "text/plain": [
       "     n_estimators  max_depth criterion class_weight  mean_accuracy  \\\n",
       "501            50         28      gini         None       0.904290   \n",
       "508            50         30      gini     balanced       0.903549   \n",
       "520            50         33      gini     balanced       0.902809   \n",
       "682           100         24   entropy     balanced       0.904293   \n",
       "686           100         25   entropy     balanced       0.902809   \n",
       "702           100         29   entropy     balanced       0.904290   \n",
       "709           100         31      gini         None       0.903547   \n",
       "\n",
       "     std_accuracy  \n",
       "501      0.010961  \n",
       "508      0.012056  \n",
       "520      0.013628  \n",
       "682      0.012361  \n",
       "686      0.013639  \n",
       "702      0.012156  \n",
       "709      0.014380  "
      ]
     },
     "metadata": {},
     "output_type": "display_data"
    },
    {
     "name": "stdout",
     "output_type": "stream",
     "text": [
      "\n",
      "Most accurate models within complexity limits:\n"
     ]
    },
    {
     "data": {
      "text/html": [
       "<div>\n",
       "<style scoped>\n",
       "    .dataframe tbody tr th:only-of-type {\n",
       "        vertical-align: middle;\n",
       "    }\n",
       "\n",
       "    .dataframe tbody tr th {\n",
       "        vertical-align: top;\n",
       "    }\n",
       "\n",
       "    .dataframe thead th {\n",
       "        text-align: right;\n",
       "    }\n",
       "</style>\n",
       "<table border=\"1\" class=\"dataframe\">\n",
       "  <thead>\n",
       "    <tr style=\"text-align: right;\">\n",
       "      <th></th>\n",
       "      <th>n_estimators</th>\n",
       "      <th>max_depth</th>\n",
       "      <th>criterion</th>\n",
       "      <th>class_weight</th>\n",
       "      <th>mean_accuracy</th>\n",
       "      <th>std_accuracy</th>\n",
       "    </tr>\n",
       "  </thead>\n",
       "  <tbody>\n",
       "    <tr>\n",
       "      <th>682</th>\n",
       "      <td>100</td>\n",
       "      <td>24</td>\n",
       "      <td>entropy</td>\n",
       "      <td>balanced</td>\n",
       "      <td>0.904293</td>\n",
       "      <td>0.012361</td>\n",
       "    </tr>\n",
       "    <tr>\n",
       "      <th>501</th>\n",
       "      <td>50</td>\n",
       "      <td>28</td>\n",
       "      <td>gini</td>\n",
       "      <td>None</td>\n",
       "      <td>0.904290</td>\n",
       "      <td>0.010961</td>\n",
       "    </tr>\n",
       "    <tr>\n",
       "      <th>702</th>\n",
       "      <td>100</td>\n",
       "      <td>29</td>\n",
       "      <td>entropy</td>\n",
       "      <td>balanced</td>\n",
       "      <td>0.904290</td>\n",
       "      <td>0.012156</td>\n",
       "    </tr>\n",
       "    <tr>\n",
       "      <th>508</th>\n",
       "      <td>50</td>\n",
       "      <td>30</td>\n",
       "      <td>gini</td>\n",
       "      <td>balanced</td>\n",
       "      <td>0.903549</td>\n",
       "      <td>0.012056</td>\n",
       "    </tr>\n",
       "    <tr>\n",
       "      <th>709</th>\n",
       "      <td>100</td>\n",
       "      <td>31</td>\n",
       "      <td>gini</td>\n",
       "      <td>None</td>\n",
       "      <td>0.903547</td>\n",
       "      <td>0.014380</td>\n",
       "    </tr>\n",
       "    <tr>\n",
       "      <th>686</th>\n",
       "      <td>100</td>\n",
       "      <td>25</td>\n",
       "      <td>entropy</td>\n",
       "      <td>balanced</td>\n",
       "      <td>0.902809</td>\n",
       "      <td>0.013639</td>\n",
       "    </tr>\n",
       "    <tr>\n",
       "      <th>520</th>\n",
       "      <td>50</td>\n",
       "      <td>33</td>\n",
       "      <td>gini</td>\n",
       "      <td>balanced</td>\n",
       "      <td>0.902809</td>\n",
       "      <td>0.013628</td>\n",
       "    </tr>\n",
       "    <tr>\n",
       "      <th>781</th>\n",
       "      <td>100</td>\n",
       "      <td>49</td>\n",
       "      <td>gini</td>\n",
       "      <td>None</td>\n",
       "      <td>0.902806</td>\n",
       "      <td>0.010460</td>\n",
       "    </tr>\n",
       "    <tr>\n",
       "      <th>769</th>\n",
       "      <td>100</td>\n",
       "      <td>46</td>\n",
       "      <td>gini</td>\n",
       "      <td>None</td>\n",
       "      <td>0.902806</td>\n",
       "      <td>0.010460</td>\n",
       "    </tr>\n",
       "    <tr>\n",
       "      <th>753</th>\n",
       "      <td>100</td>\n",
       "      <td>42</td>\n",
       "      <td>gini</td>\n",
       "      <td>None</td>\n",
       "      <td>0.902806</td>\n",
       "      <td>0.010460</td>\n",
       "    </tr>\n",
       "  </tbody>\n",
       "</table>\n",
       "</div>"
      ],
      "text/plain": [
       "     n_estimators  max_depth criterion class_weight  mean_accuracy  \\\n",
       "682           100         24   entropy     balanced       0.904293   \n",
       "501            50         28      gini         None       0.904290   \n",
       "702           100         29   entropy     balanced       0.904290   \n",
       "508            50         30      gini     balanced       0.903549   \n",
       "709           100         31      gini         None       0.903547   \n",
       "686           100         25   entropy     balanced       0.902809   \n",
       "520            50         33      gini     balanced       0.902809   \n",
       "781           100         49      gini         None       0.902806   \n",
       "769           100         46      gini         None       0.902806   \n",
       "753           100         42      gini         None       0.902806   \n",
       "\n",
       "     std_accuracy  \n",
       "682      0.012361  \n",
       "501      0.010961  \n",
       "702      0.012156  \n",
       "508      0.012056  \n",
       "709      0.014380  \n",
       "686      0.013639  \n",
       "520      0.013628  \n",
       "781      0.010460  \n",
       "769      0.010460  \n",
       "753      0.010460  "
      ]
     },
     "metadata": {},
     "output_type": "display_data"
    }
   ],
   "source": [
    "n_est = 100\n",
    "max_d = 49\n",
    "top_acc = manual_grid_results['mean_accuracy'].max()\n",
    "top_1_percent = manual_grid_results.nlargest(int(len(manual_grid_results)*0.01), 'mean_accuracy')\n",
    "\n",
    "\n",
    "# ищем среди 1% топ моделей наиболее простую\n",
    "simplest_top_models = top_1_percent.sort_values(\n",
    "    ['n_estimators', 'max_depth'], \n",
    "    ascending=[True, True]\n",
    ")\n",
    "\n",
    "print(f\"Simplest models among top 1% performers (accuracy ≥ {top_acc:.4f}):\")\n",
    "display(simplest_top_models.head(10))\n",
    "\n",
    "good_models = manual_grid_results[\n",
    "    (manual_grid_results['mean_accuracy'] >= top_acc - 0.01) &  \n",
    "    (manual_grid_results['n_estimators'] <= n_est) &        \n",
    "    (manual_grid_results['max_depth'] <= max_d) \n",
    "].sort_values('mean_accuracy', ascending=False)\n",
    "\n",
    "print(\"\\nMost accurate models within complexity limits:\")\n",
    "display(good_models.head(10))"
   ]
  },
  {
   "cell_type": "markdown",
   "metadata": {
    "id": "SQMTOQynyUqG"
   },
   "source": [
    "## 6. Predictions"
   ]
  },
  {
   "cell_type": "markdown",
   "metadata": {
    "id": "FF5VVXbGyUqG"
   },
   "source": [
    "1. Choose the best model and use it to make predictions for the test dataset.\n",
    "2. Calculate the final accuracy."
   ]
  },
  {
   "cell_type": "code",
   "execution_count": 25,
   "metadata": {
    "id": "-vW7NVMOyUqG"
   },
   "outputs": [],
   "source": [
    "best_model = RandomForestClassifier(n_estimators=50, max_depth=28, criterion='gini', class_weight=None)"
   ]
  },
  {
   "cell_type": "code",
   "execution_count": 26,
   "metadata": {
    "id": "qO--d7bmyUqG"
   },
   "outputs": [
    {
     "data": {
      "text/plain": [
       "RandomForestClassifier(max_depth=28, n_estimators=50)"
      ]
     },
     "execution_count": 26,
     "metadata": {},
     "output_type": "execute_result"
    }
   ],
   "source": [
    "best_model.fit(X_train, y_train)"
   ]
  },
  {
   "cell_type": "code",
   "execution_count": 27,
   "metadata": {
    "id": "ed7SrIi7yUqH"
   },
   "outputs": [],
   "source": [
    "y_pred = best_model.predict(X_test)"
   ]
  },
  {
   "cell_type": "code",
   "execution_count": 28,
   "metadata": {},
   "outputs": [],
   "source": [
    "final_acc = accuracy_score(y_test, y_pred)"
   ]
  },
  {
   "cell_type": "code",
   "execution_count": 29,
   "metadata": {},
   "outputs": [
    {
     "data": {
      "text/plain": [
       "0.9289940828402367"
      ]
     },
     "execution_count": 29,
     "metadata": {},
     "output_type": "execute_result"
    }
   ],
   "source": [
    "final_acc"
   ]
  }
 ],
 "metadata": {
  "colab": {
   "provenance": []
  },
  "kernelspec": {
   "display_name": "shylaisa",
   "language": "python",
   "name": "python3"
  },
  "language_info": {
   "codemirror_mode": {
    "name": "ipython",
    "version": 3
   },
   "file_extension": ".py",
   "mimetype": "text/x-python",
   "name": "python",
   "nbconvert_exporter": "python",
   "pygments_lexer": "ipython3",
   "version": "3.7.9"
  }
 },
 "nbformat": 4,
 "nbformat_minor": 0
}
