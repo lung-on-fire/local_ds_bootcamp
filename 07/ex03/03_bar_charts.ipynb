{
 "cells": [
  {
   "cell_type": "markdown",
   "id": "8e0d504d",
   "metadata": {},
   "source": [
    "# Exercise 03 : Bar charts"
   ]
  },
  {
   "cell_type": "code",
   "execution_count": 12,
   "id": "fa11733f",
   "metadata": {},
   "outputs": [],
   "source": [
    "import pandas as pd\n",
    "import sqlite3"
   ]
  },
  {
   "cell_type": "code",
   "execution_count": 13,
   "id": "097e82aa",
   "metadata": {},
   "outputs": [],
   "source": [
    "connection = sqlite3.connect(\"../../data/checking-logs.sqlite\")"
   ]
  },
  {
   "cell_type": "markdown",
   "id": "3adaaacd",
   "metadata": {},
   "source": [
    "## two graphs (commits VS working days and weekends) in one picture"
   ]
  },
  {
   "cell_type": "markdown",
   "id": "e1caf22a",
   "metadata": {},
   "source": [
    "- analyze only the users and not the admins\n",
    "- the fontsize and the figsize remain the same\n",
    "- for each hour, calculate the average number of commits on working days and on weekends (if there were no commits in an hour, do not use it to calculate the average) use these values for your graph, for example: Mon, 17-18: 5 commits, Tue,17-18: 6 commits, Wed, 17-18: 7 commits\n",
    "- choose a palette that you really enjoy, you do not have to replicate it from the graph above"
   ]
  },
  {
   "cell_type": "code",
   "execution_count": 14,
   "id": "3f7fa9bd",
   "metadata": {},
   "outputs": [
    {
     "data": {
      "text/html": [
       "<div>\n",
       "<style scoped>\n",
       "    .dataframe tbody tr th:only-of-type {\n",
       "        vertical-align: middle;\n",
       "    }\n",
       "\n",
       "    .dataframe tbody tr th {\n",
       "        vertical-align: top;\n",
       "    }\n",
       "\n",
       "    .dataframe thead th {\n",
       "        text-align: right;\n",
       "    }\n",
       "</style>\n",
       "<table border=\"1\" class=\"dataframe\">\n",
       "  <thead>\n",
       "    <tr style=\"text-align: right;\">\n",
       "      <th></th>\n",
       "      <th>date</th>\n",
       "    </tr>\n",
       "  </thead>\n",
       "  <tbody>\n",
       "    <tr>\n",
       "      <th>0</th>\n",
       "      <td>2020-04-17 05:19:02.744528</td>\n",
       "    </tr>\n",
       "    <tr>\n",
       "      <th>1</th>\n",
       "      <td>2020-04-17 05:22:35.249331</td>\n",
       "    </tr>\n",
       "    <tr>\n",
       "      <th>2</th>\n",
       "      <td>2020-04-17 05:22:45.549397</td>\n",
       "    </tr>\n",
       "    <tr>\n",
       "      <th>3</th>\n",
       "      <td>2020-04-17 05:34:14.691200</td>\n",
       "    </tr>\n",
       "    <tr>\n",
       "      <th>4</th>\n",
       "      <td>2020-04-17 05:34:24.422370</td>\n",
       "    </tr>\n",
       "    <tr>\n",
       "      <th>...</th>\n",
       "      <td>...</td>\n",
       "    </tr>\n",
       "    <tr>\n",
       "      <th>3202</th>\n",
       "      <td>2020-05-21 20:19:06.872761</td>\n",
       "    </tr>\n",
       "    <tr>\n",
       "      <th>3203</th>\n",
       "      <td>2020-05-21 20:22:41.785725</td>\n",
       "    </tr>\n",
       "    <tr>\n",
       "      <th>3204</th>\n",
       "      <td>2020-05-21 20:22:41.877806</td>\n",
       "    </tr>\n",
       "    <tr>\n",
       "      <th>3205</th>\n",
       "      <td>2020-05-21 20:37:00.129678</td>\n",
       "    </tr>\n",
       "    <tr>\n",
       "      <th>3206</th>\n",
       "      <td>2020-05-21 20:37:00.290491</td>\n",
       "    </tr>\n",
       "  </tbody>\n",
       "</table>\n",
       "<p>3207 rows × 1 columns</p>\n",
       "</div>"
      ],
      "text/plain": [
       "                           date\n",
       "0    2020-04-17 05:19:02.744528\n",
       "1    2020-04-17 05:22:35.249331\n",
       "2    2020-04-17 05:22:45.549397\n",
       "3    2020-04-17 05:34:14.691200\n",
       "4    2020-04-17 05:34:24.422370\n",
       "...                         ...\n",
       "3202 2020-05-21 20:19:06.872761\n",
       "3203 2020-05-21 20:22:41.785725\n",
       "3204 2020-05-21 20:22:41.877806\n",
       "3205 2020-05-21 20:37:00.129678\n",
       "3206 2020-05-21 20:37:00.290491\n",
       "\n",
       "[3207 rows x 1 columns]"
      ]
     },
     "execution_count": 14,
     "metadata": {},
     "output_type": "execute_result"
    }
   ],
   "source": [
    "commit_df = pd.io.sql.read_sql(\"SELECT timestamp as date FROM checker WHERE uid LIKE 'user_%'\", connection)\n",
    "commit_df['date']=pd.to_datetime(commit_df['date'])\n",
    "commit_df"
   ]
  },
  {
   "cell_type": "code",
   "execution_count": 15,
   "id": "c07d10fc",
   "metadata": {},
   "outputs": [
    {
     "data": {
      "text/html": [
       "<div>\n",
       "<style scoped>\n",
       "    .dataframe tbody tr th:only-of-type {\n",
       "        vertical-align: middle;\n",
       "    }\n",
       "\n",
       "    .dataframe tbody tr th {\n",
       "        vertical-align: top;\n",
       "    }\n",
       "\n",
       "    .dataframe thead th {\n",
       "        text-align: right;\n",
       "    }\n",
       "</style>\n",
       "<table border=\"1\" class=\"dataframe\">\n",
       "  <thead>\n",
       "    <tr style=\"text-align: right;\">\n",
       "      <th></th>\n",
       "      <th>date</th>\n",
       "      <th>hour</th>\n",
       "      <th>day</th>\n",
       "      <th>weekday</th>\n",
       "      <th>WorkingOrNot</th>\n",
       "      <th>count</th>\n",
       "    </tr>\n",
       "  </thead>\n",
       "  <tbody>\n",
       "    <tr>\n",
       "      <th>0</th>\n",
       "      <td>2020-04-17 05:19:02.744528</td>\n",
       "      <td>5</td>\n",
       "      <td>17</td>\n",
       "      <td>4</td>\n",
       "      <td>working_day</td>\n",
       "      <td>0</td>\n",
       "    </tr>\n",
       "    <tr>\n",
       "      <th>1</th>\n",
       "      <td>2020-04-17 05:22:35.249331</td>\n",
       "      <td>5</td>\n",
       "      <td>17</td>\n",
       "      <td>4</td>\n",
       "      <td>working_day</td>\n",
       "      <td>0</td>\n",
       "    </tr>\n",
       "    <tr>\n",
       "      <th>2</th>\n",
       "      <td>2020-04-17 05:22:45.549397</td>\n",
       "      <td>5</td>\n",
       "      <td>17</td>\n",
       "      <td>4</td>\n",
       "      <td>working_day</td>\n",
       "      <td>0</td>\n",
       "    </tr>\n",
       "    <tr>\n",
       "      <th>3</th>\n",
       "      <td>2020-04-17 05:34:14.691200</td>\n",
       "      <td>5</td>\n",
       "      <td>17</td>\n",
       "      <td>4</td>\n",
       "      <td>working_day</td>\n",
       "      <td>0</td>\n",
       "    </tr>\n",
       "    <tr>\n",
       "      <th>4</th>\n",
       "      <td>2020-04-17 05:34:24.422370</td>\n",
       "      <td>5</td>\n",
       "      <td>17</td>\n",
       "      <td>4</td>\n",
       "      <td>working_day</td>\n",
       "      <td>0</td>\n",
       "    </tr>\n",
       "    <tr>\n",
       "      <th>...</th>\n",
       "      <td>...</td>\n",
       "      <td>...</td>\n",
       "      <td>...</td>\n",
       "      <td>...</td>\n",
       "      <td>...</td>\n",
       "      <td>...</td>\n",
       "    </tr>\n",
       "    <tr>\n",
       "      <th>3202</th>\n",
       "      <td>2020-05-21 20:19:06.872761</td>\n",
       "      <td>20</td>\n",
       "      <td>21</td>\n",
       "      <td>3</td>\n",
       "      <td>working_day</td>\n",
       "      <td>0</td>\n",
       "    </tr>\n",
       "    <tr>\n",
       "      <th>3203</th>\n",
       "      <td>2020-05-21 20:22:41.785725</td>\n",
       "      <td>20</td>\n",
       "      <td>21</td>\n",
       "      <td>3</td>\n",
       "      <td>working_day</td>\n",
       "      <td>0</td>\n",
       "    </tr>\n",
       "    <tr>\n",
       "      <th>3204</th>\n",
       "      <td>2020-05-21 20:22:41.877806</td>\n",
       "      <td>20</td>\n",
       "      <td>21</td>\n",
       "      <td>3</td>\n",
       "      <td>working_day</td>\n",
       "      <td>0</td>\n",
       "    </tr>\n",
       "    <tr>\n",
       "      <th>3205</th>\n",
       "      <td>2020-05-21 20:37:00.129678</td>\n",
       "      <td>20</td>\n",
       "      <td>21</td>\n",
       "      <td>3</td>\n",
       "      <td>working_day</td>\n",
       "      <td>0</td>\n",
       "    </tr>\n",
       "    <tr>\n",
       "      <th>3206</th>\n",
       "      <td>2020-05-21 20:37:00.290491</td>\n",
       "      <td>20</td>\n",
       "      <td>21</td>\n",
       "      <td>3</td>\n",
       "      <td>working_day</td>\n",
       "      <td>0</td>\n",
       "    </tr>\n",
       "  </tbody>\n",
       "</table>\n",
       "<p>3207 rows × 6 columns</p>\n",
       "</div>"
      ],
      "text/plain": [
       "                           date  hour  day  weekday WorkingOrNot  count\n",
       "0    2020-04-17 05:19:02.744528     5   17        4  working_day      0\n",
       "1    2020-04-17 05:22:35.249331     5   17        4  working_day      0\n",
       "2    2020-04-17 05:22:45.549397     5   17        4  working_day      0\n",
       "3    2020-04-17 05:34:14.691200     5   17        4  working_day      0\n",
       "4    2020-04-17 05:34:24.422370     5   17        4  working_day      0\n",
       "...                         ...   ...  ...      ...          ...    ...\n",
       "3202 2020-05-21 20:19:06.872761    20   21        3  working_day      0\n",
       "3203 2020-05-21 20:22:41.785725    20   21        3  working_day      0\n",
       "3204 2020-05-21 20:22:41.877806    20   21        3  working_day      0\n",
       "3205 2020-05-21 20:37:00.129678    20   21        3  working_day      0\n",
       "3206 2020-05-21 20:37:00.290491    20   21        3  working_day      0\n",
       "\n",
       "[3207 rows x 6 columns]"
      ]
     },
     "execution_count": 15,
     "metadata": {},
     "output_type": "execute_result"
    }
   ],
   "source": [
    "commit_df['hour']=commit_df['date'].dt.hour\n",
    "commit_df['day']=commit_df['date'].dt.day\n",
    "commit_df['weekday']=commit_df['date'].dt.weekday\n",
    "commit_df['WorkingOrNot']=commit_df['weekday'].apply(lambda x: 'working_day' if x<5 else 'weekend')\n",
    "commit_df['count'] = 0\n",
    "commit_df"
   ]
  },
  {
   "cell_type": "code",
   "execution_count": 16,
   "id": "6f66761d",
   "metadata": {},
   "outputs": [
    {
     "data": {
      "text/html": [
       "<div>\n",
       "<style scoped>\n",
       "    .dataframe tbody tr th:only-of-type {\n",
       "        vertical-align: middle;\n",
       "    }\n",
       "\n",
       "    .dataframe tbody tr th {\n",
       "        vertical-align: top;\n",
       "    }\n",
       "\n",
       "    .dataframe thead th {\n",
       "        text-align: right;\n",
       "    }\n",
       "</style>\n",
       "<table border=\"1\" class=\"dataframe\">\n",
       "  <thead>\n",
       "    <tr style=\"text-align: right;\">\n",
       "      <th></th>\n",
       "      <th>WorkingOrNot</th>\n",
       "      <th>day</th>\n",
       "      <th>hour</th>\n",
       "      <th>count</th>\n",
       "    </tr>\n",
       "  </thead>\n",
       "  <tbody>\n",
       "    <tr>\n",
       "      <th>0</th>\n",
       "      <td>weekend</td>\n",
       "      <td>2</td>\n",
       "      <td>7</td>\n",
       "      <td>3</td>\n",
       "    </tr>\n",
       "    <tr>\n",
       "      <th>1</th>\n",
       "      <td>weekend</td>\n",
       "      <td>2</td>\n",
       "      <td>8</td>\n",
       "      <td>1</td>\n",
       "    </tr>\n",
       "    <tr>\n",
       "      <th>2</th>\n",
       "      <td>weekend</td>\n",
       "      <td>2</td>\n",
       "      <td>9</td>\n",
       "      <td>2</td>\n",
       "    </tr>\n",
       "    <tr>\n",
       "      <th>3</th>\n",
       "      <td>weekend</td>\n",
       "      <td>2</td>\n",
       "      <td>10</td>\n",
       "      <td>1</td>\n",
       "    </tr>\n",
       "    <tr>\n",
       "      <th>4</th>\n",
       "      <td>weekend</td>\n",
       "      <td>2</td>\n",
       "      <td>11</td>\n",
       "      <td>84</td>\n",
       "    </tr>\n",
       "    <tr>\n",
       "      <th>...</th>\n",
       "      <td>...</td>\n",
       "      <td>...</td>\n",
       "      <td>...</td>\n",
       "      <td>...</td>\n",
       "    </tr>\n",
       "    <tr>\n",
       "      <th>277</th>\n",
       "      <td>working_day</td>\n",
       "      <td>30</td>\n",
       "      <td>10</td>\n",
       "      <td>8</td>\n",
       "    </tr>\n",
       "    <tr>\n",
       "      <th>278</th>\n",
       "      <td>working_day</td>\n",
       "      <td>30</td>\n",
       "      <td>11</td>\n",
       "      <td>1</td>\n",
       "    </tr>\n",
       "    <tr>\n",
       "      <th>279</th>\n",
       "      <td>working_day</td>\n",
       "      <td>30</td>\n",
       "      <td>15</td>\n",
       "      <td>4</td>\n",
       "    </tr>\n",
       "    <tr>\n",
       "      <th>280</th>\n",
       "      <td>working_day</td>\n",
       "      <td>30</td>\n",
       "      <td>18</td>\n",
       "      <td>11</td>\n",
       "    </tr>\n",
       "    <tr>\n",
       "      <th>281</th>\n",
       "      <td>working_day</td>\n",
       "      <td>30</td>\n",
       "      <td>19</td>\n",
       "      <td>25</td>\n",
       "    </tr>\n",
       "  </tbody>\n",
       "</table>\n",
       "<p>282 rows × 4 columns</p>\n",
       "</div>"
      ],
      "text/plain": [
       "    WorkingOrNot  day  hour  count\n",
       "0        weekend    2     7      3\n",
       "1        weekend    2     8      1\n",
       "2        weekend    2     9      2\n",
       "3        weekend    2    10      1\n",
       "4        weekend    2    11     84\n",
       "..           ...  ...   ...    ...\n",
       "277  working_day   30    10      8\n",
       "278  working_day   30    11      1\n",
       "279  working_day   30    15      4\n",
       "280  working_day   30    18     11\n",
       "281  working_day   30    19     25\n",
       "\n",
       "[282 rows x 4 columns]"
      ]
     },
     "execution_count": 16,
     "metadata": {},
     "output_type": "execute_result"
    }
   ],
   "source": [
    "result = commit_df.groupby(['WorkingOrNot', 'day', 'hour'])['count'].size().reset_index()\n",
    "result"
   ]
  },
  {
   "cell_type": "code",
   "execution_count": 17,
   "id": "0cd83887",
   "metadata": {},
   "outputs": [
    {
     "data": {
      "text/html": [
       "<div>\n",
       "<style scoped>\n",
       "    .dataframe tbody tr th:only-of-type {\n",
       "        vertical-align: middle;\n",
       "    }\n",
       "\n",
       "    .dataframe tbody tr th {\n",
       "        vertical-align: top;\n",
       "    }\n",
       "\n",
       "    .dataframe thead th {\n",
       "        text-align: right;\n",
       "    }\n",
       "</style>\n",
       "<table border=\"1\" class=\"dataframe\">\n",
       "  <thead>\n",
       "    <tr style=\"text-align: right;\">\n",
       "      <th></th>\n",
       "      <th>WorkingOrNot</th>\n",
       "      <th>hour</th>\n",
       "      <th>commits</th>\n",
       "    </tr>\n",
       "  </thead>\n",
       "  <tbody>\n",
       "    <tr>\n",
       "      <th>0</th>\n",
       "      <td>weekend</td>\n",
       "      <td>0</td>\n",
       "      <td>2.0</td>\n",
       "    </tr>\n",
       "    <tr>\n",
       "      <th>1</th>\n",
       "      <td>weekend</td>\n",
       "      <td>1</td>\n",
       "      <td>6.0</td>\n",
       "    </tr>\n",
       "    <tr>\n",
       "      <th>2</th>\n",
       "      <td>weekend</td>\n",
       "      <td>3</td>\n",
       "      <td>1.0</td>\n",
       "    </tr>\n",
       "    <tr>\n",
       "      <th>3</th>\n",
       "      <td>weekend</td>\n",
       "      <td>5</td>\n",
       "      <td>2.0</td>\n",
       "    </tr>\n",
       "    <tr>\n",
       "      <th>4</th>\n",
       "      <td>weekend</td>\n",
       "      <td>7</td>\n",
       "      <td>4.0</td>\n",
       "    </tr>\n",
       "  </tbody>\n",
       "</table>\n",
       "</div>"
      ],
      "text/plain": [
       "  WorkingOrNot  hour  commits\n",
       "0      weekend     0      2.0\n",
       "1      weekend     1      6.0\n",
       "2      weekend     3      1.0\n",
       "3      weekend     5      2.0\n",
       "4      weekend     7      4.0"
      ]
     },
     "execution_count": 17,
     "metadata": {},
     "output_type": "execute_result"
    }
   ],
   "source": [
    "result = result.groupby(['WorkingOrNot', 'hour']).mean(numeric_only=True)['count'].rename('commits').reset_index()\n",
    "result.head()"
   ]
  },
  {
   "cell_type": "code",
   "execution_count": 18,
   "id": "d62f1e41",
   "metadata": {},
   "outputs": [
    {
     "data": {
      "image/png": "[encoded data removed]",
      "text/plain": [
       "<Figure size 1500x800 with 2 Axes>"
      ]
     },
     "metadata": {},
     "output_type": "display_data"
    }
   ],
   "source": [
    "pivot = pd.pivot(result, index='hour', columns='WorkingOrNot', values='commits')\n",
    "\n",
    "all_hours = pd.Index(range(0, 24), name='hour')\n",
    "pivot = pivot.reindex(all_hours, fill_value=0)\n",
    "\n",
    "colors = ['darkviolet', 'gold']\n",
    "axes = pivot.plot(kind='bar', \n",
    "           subplots=True, \n",
    "           figsize=(15, 8), \n",
    "           fontsize=8, rot=0, \n",
    "           title='Commits per hour', \n",
    "           color=colors,\n",
    "           sharey=True\n",
    "           )\n",
    "\n",
    "for ax in axes:\n",
    "    ax.set_xlim(-0.5, 23.5)\n",
    "    ax.set_ylim(0, 26)\n",
    "    ax.set_xticks(range(0, 24, 1))\n",
    "    ax.set_yticks(range(0, 26, 5))\n",
    "    ax.set_xlabel('hour') "
   ]
  },
  {
   "cell_type": "markdown",
   "id": "940e38a3",
   "metadata": {},
   "source": [
    "## Is the dynamic different on working days and weekends?\n",
    "## the hour when the number of commits is the largest during working days and the hour when it is the largest during the weekend."
   ]
  },
  {
   "cell_type": "markdown",
   "id": "f9a3d160",
   "metadata": {},
   "source": [
    "## during working days: 21"
   ]
  },
  {
   "cell_type": "code",
   "execution_count": 19,
   "id": "a70ae8ca",
   "metadata": {},
   "outputs": [
    {
     "data": {
      "text/plain": [
       "21"
      ]
     },
     "execution_count": 19,
     "metadata": {},
     "output_type": "execute_result"
    }
   ],
   "source": [
    "max_value1 = pivot['working_day'].idxmax()\n",
    "max_value1"
   ]
  },
  {
   "cell_type": "markdown",
   "id": "e2b192bc",
   "metadata": {},
   "source": [
    "## during weekend: 11"
   ]
  },
  {
   "cell_type": "code",
   "execution_count": 20,
   "id": "735471c7",
   "metadata": {},
   "outputs": [
    {
     "data": {
      "text/plain": [
       "11"
      ]
     },
     "execution_count": 20,
     "metadata": {},
     "output_type": "execute_result"
    }
   ],
   "source": [
    "max_value2 = pivot['weekend'].idxmax()\n",
    "max_value2"
   ]
  },
  {
   "cell_type": "code",
   "execution_count": 21,
   "id": "eb4dd6bd",
   "metadata": {},
   "outputs": [],
   "source": [
    "connection.close()"
   ]
  }
 ],
 "metadata": {
  "kernelspec": {
   "display_name": "base",
   "language": "python",
   "name": "python3"
  },
  "language_info": {
   "codemirror_mode": {
    "name": "ipython",
    "version": 3
   },
   "file_extension": ".py",
   "mimetype": "text/x-python",
   "name": "python",
   "nbconvert_exporter": "python",
   "pygments_lexer": "ipython3",
   "version": "3.12.7"
  }
 },
 "nbformat": 4,
 "nbformat_minor": 5
}
