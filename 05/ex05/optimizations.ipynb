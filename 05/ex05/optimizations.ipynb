{
 "cells": [
  {
   "cell_type": "code",
   "execution_count": 18,
   "metadata": {},
   "outputs": [],
   "source": [
    "import pandas as pd\n",
    "import gc"
   ]
  },
  {
   "cell_type": "markdown",
   "metadata": {},
   "source": [
    "### read the fines.csv that you saved in the previous exercise"
   ]
  },
  {
   "cell_type": "code",
   "execution_count": 19,
   "metadata": {},
   "outputs": [
    {
     "data": {
      "text/html": [
       "<div>\n",
       "<style scoped>\n",
       "    .dataframe tbody tr th:only-of-type {\n",
       "        vertical-align: middle;\n",
       "    }\n",
       "\n",
       "    .dataframe tbody tr th {\n",
       "        vertical-align: top;\n",
       "    }\n",
       "\n",
       "    .dataframe thead th {\n",
       "        text-align: right;\n",
       "    }\n",
       "</style>\n",
       "<table border=\"1\" class=\"dataframe\">\n",
       "  <thead>\n",
       "    <tr style=\"text-align: right;\">\n",
       "      <th></th>\n",
       "      <th>CarNumber</th>\n",
       "      <th>Refund</th>\n",
       "      <th>Fines</th>\n",
       "      <th>Make</th>\n",
       "      <th>Model</th>\n",
       "      <th>Year</th>\n",
       "    </tr>\n",
       "  </thead>\n",
       "  <tbody>\n",
       "    <tr>\n",
       "      <th>0</th>\n",
       "      <td>Y163O8161RUS</td>\n",
       "      <td>2.0</td>\n",
       "      <td>3200.0</td>\n",
       "      <td>Ford</td>\n",
       "      <td>Focus</td>\n",
       "      <td>1989</td>\n",
       "    </tr>\n",
       "    <tr>\n",
       "      <th>1</th>\n",
       "      <td>E432XX77RUS</td>\n",
       "      <td>1.0</td>\n",
       "      <td>6500.0</td>\n",
       "      <td>Toyota</td>\n",
       "      <td>Camry</td>\n",
       "      <td>1995</td>\n",
       "    </tr>\n",
       "    <tr>\n",
       "      <th>2</th>\n",
       "      <td>7184TT36RUS</td>\n",
       "      <td>1.0</td>\n",
       "      <td>2100.0</td>\n",
       "      <td>Ford</td>\n",
       "      <td>Focus</td>\n",
       "      <td>1984</td>\n",
       "    </tr>\n",
       "    <tr>\n",
       "      <th>3</th>\n",
       "      <td>X582HE161RUS</td>\n",
       "      <td>2.0</td>\n",
       "      <td>2000.0</td>\n",
       "      <td>Ford</td>\n",
       "      <td>Focus</td>\n",
       "      <td>2015</td>\n",
       "    </tr>\n",
       "    <tr>\n",
       "      <th>4</th>\n",
       "      <td>92918M178RUS</td>\n",
       "      <td>1.0</td>\n",
       "      <td>5700.0</td>\n",
       "      <td>Ford</td>\n",
       "      <td>Focus</td>\n",
       "      <td>2014</td>\n",
       "    </tr>\n",
       "    <tr>\n",
       "      <th>...</th>\n",
       "      <td>...</td>\n",
       "      <td>...</td>\n",
       "      <td>...</td>\n",
       "      <td>...</td>\n",
       "      <td>...</td>\n",
       "      <td>...</td>\n",
       "    </tr>\n",
       "    <tr>\n",
       "      <th>925</th>\n",
       "      <td>A123BC456RUS</td>\n",
       "      <td>2.5</td>\n",
       "      <td>2200.0</td>\n",
       "      <td>Toyota</td>\n",
       "      <td>Corolla</td>\n",
       "      <td>2010</td>\n",
       "    </tr>\n",
       "    <tr>\n",
       "      <th>926</th>\n",
       "      <td>B234CD567RUS</td>\n",
       "      <td>0.5</td>\n",
       "      <td>1800.0</td>\n",
       "      <td>Honda</td>\n",
       "      <td>Civic</td>\n",
       "      <td>2015</td>\n",
       "    </tr>\n",
       "    <tr>\n",
       "      <th>927</th>\n",
       "      <td>O630MX750RUS</td>\n",
       "      <td>3.0</td>\n",
       "      <td>45000.0</td>\n",
       "      <td>Ford</td>\n",
       "      <td>Focus</td>\n",
       "      <td>2018</td>\n",
       "    </tr>\n",
       "    <tr>\n",
       "      <th>928</th>\n",
       "      <td>D456EF789RUS</td>\n",
       "      <td>1.5</td>\n",
       "      <td>3000.0</td>\n",
       "      <td>Chevrolet</td>\n",
       "      <td>Malibu</td>\n",
       "      <td>2020</td>\n",
       "    </tr>\n",
       "    <tr>\n",
       "      <th>929</th>\n",
       "      <td>E567FG890RUS</td>\n",
       "      <td>2.0</td>\n",
       "      <td>2700.0</td>\n",
       "      <td>Nissan</td>\n",
       "      <td>Altima</td>\n",
       "      <td>2012</td>\n",
       "    </tr>\n",
       "  </tbody>\n",
       "</table>\n",
       "<p>930 rows × 6 columns</p>\n",
       "</div>"
      ],
      "text/plain": [
       "        CarNumber  Refund    Fines       Make    Model  Year\n",
       "0    Y163O8161RUS     2.0   3200.0       Ford    Focus  1989\n",
       "1     E432XX77RUS     1.0   6500.0     Toyota    Camry  1995\n",
       "2     7184TT36RUS     1.0   2100.0       Ford    Focus  1984\n",
       "3    X582HE161RUS     2.0   2000.0       Ford    Focus  2015\n",
       "4    92918M178RUS     1.0   5700.0       Ford    Focus  2014\n",
       "..            ...     ...      ...        ...      ...   ...\n",
       "925  A123BC456RUS     2.5   2200.0     Toyota  Corolla  2010\n",
       "926  B234CD567RUS     0.5   1800.0      Honda    Civic  2015\n",
       "927  O630MX750RUS     3.0  45000.0       Ford    Focus  2018\n",
       "928  D456EF789RUS     1.5   3000.0  Chevrolet   Malibu  2020\n",
       "929  E567FG890RUS     2.0   2700.0     Nissan   Altima  2012\n",
       "\n",
       "[930 rows x 6 columns]"
      ]
     },
     "execution_count": 19,
     "metadata": {},
     "output_type": "execute_result"
    }
   ],
   "source": [
    "fines = pd.read_csv('../ex04/fines.csv', engine = 'python',)\n",
    "fines"
   ]
  },
  {
   "cell_type": "markdown",
   "metadata": {},
   "source": [
    "### iterations: in all the following subtasks, you need to calculate fines/refund*year for each row and create a new column with the calculated data and measure the time using the magic command %%timeit in the cell"
   ]
  },
  {
   "cell_type": "markdown",
   "metadata": {},
   "source": [
    "1) loop: write a function that iterates through the dataframe using for i in range(0, len(df)), iloc and append() to a list, assign the result of the function to a new column in the dataframe"
   ]
  },
  {
   "cell_type": "code",
   "execution_count": 20,
   "metadata": {},
   "outputs": [
    {
     "name": "stdout",
     "output_type": "stream",
     "text": [
      "135 ms ± 7.72 ms per loop (mean ± std. dev. of 7 runs, 10 loops each)\n"
     ]
    }
   ],
   "source": [
    "%%timeit\n",
    "def calculate_using_loop(df):\n",
    "    result = []\n",
    "    for i in range(len(df)):\n",
    "        value = df.iloc[i]['Fines'] / df.iloc[i]['Refund'] * df.iloc[i]['Year']\n",
    "        result.append(value)\n",
    "    return result\n",
    "\n",
    "result_loop = calculate_using_loop(fines)\n",
    "fines['Calculated_Loop'] = result_loop\n"
   ]
  },
  {
   "cell_type": "markdown",
   "metadata": {},
   "source": [
    "2) do it using iterrows()"
   ]
  },
  {
   "cell_type": "code",
   "execution_count": 21,
   "metadata": {},
   "outputs": [
    {
     "name": "stdout",
     "output_type": "stream",
     "text": [
      "46.6 ms ± 2.08 ms per loop (mean ± std. dev. of 7 runs, 10 loops each)\n"
     ]
    }
   ],
   "source": [
    "%%timeit\n",
    "def calculate_using_iterrows(df):\n",
    "    result = []\n",
    "    for index, row in df.iterrows():\n",
    "        value = row['Fines'] / row['Refund'] * row['Year']\n",
    "        result.append(value)\n",
    "    return result\n",
    "\n",
    "result_iterrows = calculate_using_iterrows(fines)\n",
    "fines['Calculated_Iterrows'] = result_iterrows"
   ]
  },
  {
   "cell_type": "markdown",
   "metadata": {},
   "source": [
    "3) do it using apply() and lambda function"
   ]
  },
  {
   "cell_type": "code",
   "execution_count": 22,
   "metadata": {},
   "outputs": [
    {
     "name": "stdout",
     "output_type": "stream",
     "text": [
      "9.09 ms ± 226 μs per loop (mean ± std. dev. of 7 runs, 100 loops each)\n"
     ]
    }
   ],
   "source": [
    "%%timeit\n",
    "fines['Calculated_Apply'] = fines.apply(lambda row: row['Fines'] / row['Refund'] * row['Year'], axis=1)"
   ]
  },
  {
   "cell_type": "markdown",
   "metadata": {},
   "source": [
    "4) do it using Series objects from the dataframe"
   ]
  },
  {
   "cell_type": "code",
   "execution_count": 23,
   "metadata": {},
   "outputs": [
    {
     "name": "stdout",
     "output_type": "stream",
     "text": [
      "244 μs ± 19 μs per loop (mean ± std. dev. of 7 runs, 1,000 loops each)\n"
     ]
    }
   ],
   "source": [
    "%%timeit\n",
    "fines['Calculated_Series'] = fines['Fines'] / fines['Refund'] * fines['Year']"
   ]
  },
  {
   "cell_type": "markdown",
   "metadata": {},
   "source": [
    "5) do it as in the previous subtask but with the method .values"
   ]
  },
  {
   "cell_type": "code",
   "execution_count": 24,
   "metadata": {},
   "outputs": [
    {
     "name": "stdout",
     "output_type": "stream",
     "text": [
      "108 μs ± 2.2 μs per loop (mean ± std. dev. of 7 runs, 10,000 loops each)\n"
     ]
    }
   ],
   "source": [
    "%%timeit\n",
    "result_values = fines['Fines'].values / fines['Refund'].values * fines['Year'].values\n",
    "fines['Calculated_Values'] = result_values"
   ]
  },
  {
   "cell_type": "markdown",
   "metadata": {},
   "source": [
    "### indexing: measure the time using the magic command %%timeit in the cell"
   ]
  },
  {
   "cell_type": "markdown",
   "metadata": {},
   "source": [
    "1) get a row for a specific CarNumber, for example, ’O136HO197RUS’"
   ]
  },
  {
   "cell_type": "code",
   "execution_count": 25,
   "metadata": {},
   "outputs": [],
   "source": [
    "car_number = 'O630MX750RUS'"
   ]
  },
  {
   "cell_type": "code",
   "execution_count": 26,
   "metadata": {},
   "outputs": [
    {
     "name": "stdout",
     "output_type": "stream",
     "text": [
      "445 μs ± 57.6 μs per loop (mean ± std. dev. of 7 runs, 1,000 loops each)\n"
     ]
    }
   ],
   "source": [
    "%%timeit\n",
    "row = fines[fines['CarNumber'] == car_number]"
   ]
  },
  {
   "cell_type": "markdown",
   "metadata": {},
   "source": [
    "2) set the index in your dataframe with CarNumber"
   ]
  },
  {
   "cell_type": "code",
   "execution_count": 27,
   "metadata": {},
   "outputs": [],
   "source": [
    "fines.reset_index(inplace=True)\n",
    "fines.set_index('CarNumber', inplace=True)"
   ]
  },
  {
   "cell_type": "markdown",
   "metadata": {},
   "source": [
    "3) again, get a row for the same CarNumber"
   ]
  },
  {
   "cell_type": "code",
   "execution_count": 28,
   "metadata": {},
   "outputs": [
    {
     "name": "stdout",
     "output_type": "stream",
     "text": [
      "83.2 μs ± 2.97 μs per loop (mean ± std. dev. of 7 runs, 10,000 loops each)\n"
     ]
    }
   ],
   "source": [
    "%%timeit\n",
    "row_indexed = fines.loc[car_number]"
   ]
  },
  {
   "cell_type": "markdown",
   "metadata": {},
   "source": [
    "### downcasting:\n",
    "\n",
    "1) run df.info(memory_usage=’deep’), pay attention to the Dtype and the memory usage"
   ]
  },
  {
   "cell_type": "code",
   "execution_count": 29,
   "metadata": {},
   "outputs": [
    {
     "name": "stdout",
     "output_type": "stream",
     "text": [
      "<class 'pandas.core.frame.DataFrame'>\n",
      "Index: 930 entries, Y163O8161RUS to E567FG890RUS\n",
      "Data columns (total 11 columns):\n",
      " #   Column               Non-Null Count  Dtype  \n",
      "---  ------               --------------  -----  \n",
      " 0   index                930 non-null    int64  \n",
      " 1   Refund               930 non-null    float64\n",
      " 2   Fines                930 non-null    float64\n",
      " 3   Make                 930 non-null    object \n",
      " 4   Model                919 non-null    object \n",
      " 5   Year                 930 non-null    int64  \n",
      " 6   Calculated_Loop      930 non-null    float64\n",
      " 7   Calculated_Iterrows  930 non-null    float64\n",
      " 8   Calculated_Apply     930 non-null    float64\n",
      " 9   Calculated_Series    930 non-null    float64\n",
      " 10  Calculated_Values    930 non-null    float64\n",
      "dtypes: float64(7), int64(2), object(2)\n",
      "memory usage: 250.6 KB\n"
     ]
    }
   ],
   "source": [
    "fines.info(memory_usage='deep')"
   ]
  },
  {
   "cell_type": "markdown",
   "metadata": {},
   "source": [
    "2) make a copy() of your initial dataframe into another dataframe optimized"
   ]
  },
  {
   "cell_type": "code",
   "execution_count": 30,
   "metadata": {},
   "outputs": [
    {
     "data": {
      "text/html": [
       "<div>\n",
       "<style scoped>\n",
       "    .dataframe tbody tr th:only-of-type {\n",
       "        vertical-align: middle;\n",
       "    }\n",
       "\n",
       "    .dataframe tbody tr th {\n",
       "        vertical-align: top;\n",
       "    }\n",
       "\n",
       "    .dataframe thead th {\n",
       "        text-align: right;\n",
       "    }\n",
       "</style>\n",
       "<table border=\"1\" class=\"dataframe\">\n",
       "  <thead>\n",
       "    <tr style=\"text-align: right;\">\n",
       "      <th></th>\n",
       "      <th>index</th>\n",
       "      <th>Refund</th>\n",
       "      <th>Fines</th>\n",
       "      <th>Make</th>\n",
       "      <th>Model</th>\n",
       "      <th>Year</th>\n",
       "      <th>Calculated_Loop</th>\n",
       "      <th>Calculated_Iterrows</th>\n",
       "      <th>Calculated_Apply</th>\n",
       "      <th>Calculated_Series</th>\n",
       "      <th>Calculated_Values</th>\n",
       "    </tr>\n",
       "    <tr>\n",
       "      <th>CarNumber</th>\n",
       "      <th></th>\n",
       "      <th></th>\n",
       "      <th></th>\n",
       "      <th></th>\n",
       "      <th></th>\n",
       "      <th></th>\n",
       "      <th></th>\n",
       "      <th></th>\n",
       "      <th></th>\n",
       "      <th></th>\n",
       "      <th></th>\n",
       "    </tr>\n",
       "  </thead>\n",
       "  <tbody>\n",
       "    <tr>\n",
       "      <th>Y163O8161RUS</th>\n",
       "      <td>0</td>\n",
       "      <td>2.0</td>\n",
       "      <td>3200.0</td>\n",
       "      <td>Ford</td>\n",
       "      <td>Focus</td>\n",
       "      <td>1989</td>\n",
       "      <td>3182400.0</td>\n",
       "      <td>3182400.0</td>\n",
       "      <td>3182400.0</td>\n",
       "      <td>3182400.0</td>\n",
       "      <td>3182400.0</td>\n",
       "    </tr>\n",
       "    <tr>\n",
       "      <th>E432XX77RUS</th>\n",
       "      <td>1</td>\n",
       "      <td>1.0</td>\n",
       "      <td>6500.0</td>\n",
       "      <td>Toyota</td>\n",
       "      <td>Camry</td>\n",
       "      <td>1995</td>\n",
       "      <td>12967500.0</td>\n",
       "      <td>12967500.0</td>\n",
       "      <td>12967500.0</td>\n",
       "      <td>12967500.0</td>\n",
       "      <td>12967500.0</td>\n",
       "    </tr>\n",
       "    <tr>\n",
       "      <th>7184TT36RUS</th>\n",
       "      <td>2</td>\n",
       "      <td>1.0</td>\n",
       "      <td>2100.0</td>\n",
       "      <td>Ford</td>\n",
       "      <td>Focus</td>\n",
       "      <td>1984</td>\n",
       "      <td>4166400.0</td>\n",
       "      <td>4166400.0</td>\n",
       "      <td>4166400.0</td>\n",
       "      <td>4166400.0</td>\n",
       "      <td>4166400.0</td>\n",
       "    </tr>\n",
       "    <tr>\n",
       "      <th>X582HE161RUS</th>\n",
       "      <td>3</td>\n",
       "      <td>2.0</td>\n",
       "      <td>2000.0</td>\n",
       "      <td>Ford</td>\n",
       "      <td>Focus</td>\n",
       "      <td>2015</td>\n",
       "      <td>2015000.0</td>\n",
       "      <td>2015000.0</td>\n",
       "      <td>2015000.0</td>\n",
       "      <td>2015000.0</td>\n",
       "      <td>2015000.0</td>\n",
       "    </tr>\n",
       "    <tr>\n",
       "      <th>92918M178RUS</th>\n",
       "      <td>4</td>\n",
       "      <td>1.0</td>\n",
       "      <td>5700.0</td>\n",
       "      <td>Ford</td>\n",
       "      <td>Focus</td>\n",
       "      <td>2014</td>\n",
       "      <td>11479800.0</td>\n",
       "      <td>11479800.0</td>\n",
       "      <td>11479800.0</td>\n",
       "      <td>11479800.0</td>\n",
       "      <td>11479800.0</td>\n",
       "    </tr>\n",
       "  </tbody>\n",
       "</table>\n",
       "</div>"
      ],
      "text/plain": [
       "              index  Refund   Fines    Make  Model  Year  Calculated_Loop  \\\n",
       "CarNumber                                                                   \n",
       "Y163O8161RUS      0     2.0  3200.0    Ford  Focus  1989        3182400.0   \n",
       "E432XX77RUS       1     1.0  6500.0  Toyota  Camry  1995       12967500.0   \n",
       "7184TT36RUS       2     1.0  2100.0    Ford  Focus  1984        4166400.0   \n",
       "X582HE161RUS      3     2.0  2000.0    Ford  Focus  2015        2015000.0   \n",
       "92918M178RUS      4     1.0  5700.0    Ford  Focus  2014       11479800.0   \n",
       "\n",
       "              Calculated_Iterrows  Calculated_Apply  Calculated_Series  \\\n",
       "CarNumber                                                                \n",
       "Y163O8161RUS            3182400.0         3182400.0          3182400.0   \n",
       "E432XX77RUS            12967500.0        12967500.0         12967500.0   \n",
       "7184TT36RUS             4166400.0         4166400.0          4166400.0   \n",
       "X582HE161RUS            2015000.0         2015000.0          2015000.0   \n",
       "92918M178RUS           11479800.0        11479800.0         11479800.0   \n",
       "\n",
       "              Calculated_Values  \n",
       "CarNumber                        \n",
       "Y163O8161RUS          3182400.0  \n",
       "E432XX77RUS          12967500.0  \n",
       "7184TT36RUS           4166400.0  \n",
       "X582HE161RUS          2015000.0  \n",
       "92918M178RUS         11479800.0  "
      ]
     },
     "execution_count": 30,
     "metadata": {},
     "output_type": "execute_result"
    }
   ],
   "source": [
    "fines_optimized = fines.copy()\n",
    "fines_optimized.head()"
   ]
  },
  {
   "cell_type": "code",
   "execution_count": null,
   "metadata": {},
   "outputs": [],
   "source": []
  },
  {
   "cell_type": "markdown",
   "metadata": {},
   "source": [
    "3)\n",
    "- downcast from float64 to float32 for all the columns\n",
    "- downcast from int64 to the smallest numerical dtype possible\n",
    "- run df.info(memory_usage=’deep’) for new dataframe, pay attention to the Dtype and the memory usage"
   ]
  },
  {
   "cell_type": "code",
   "execution_count": 31,
   "metadata": {},
   "outputs": [
    {
     "name": "stdout",
     "output_type": "stream",
     "text": [
      "<class 'pandas.core.frame.DataFrame'>\n",
      "Index: 930 entries, Y163O8161RUS to E567FG890RUS\n",
      "Data columns (total 11 columns):\n",
      " #   Column               Non-Null Count  Dtype  \n",
      "---  ------               --------------  -----  \n",
      " 0   index                930 non-null    uint16 \n",
      " 1   Refund               930 non-null    float32\n",
      " 2   Fines                930 non-null    float32\n",
      " 3   Make                 930 non-null    object \n",
      " 4   Model                919 non-null    object \n",
      " 5   Year                 930 non-null    uint16 \n",
      " 6   Calculated_Loop      930 non-null    float64\n",
      " 7   Calculated_Iterrows  930 non-null    float64\n",
      " 8   Calculated_Apply     930 non-null    float64\n",
      " 9   Calculated_Series    930 non-null    float64\n",
      " 10  Calculated_Values    930 non-null    float64\n",
      "dtypes: float32(2), float64(5), object(2), uint16(2)\n",
      "memory usage: 232.5 KB\n"
     ]
    }
   ],
   "source": [
    "for col in fines_optimized.select_dtypes(include='float64').columns:\n",
    "    fines_optimized[col] = pd.to_numeric(fines_optimized[col], downcast='float')\n",
    "    \n",
    "for col in fines_optimized.select_dtypes(include='integer').columns:\n",
    "    fines_optimized[col] = pd.to_numeric(fines_optimized[col], downcast='unsigned')\n",
    "fines_optimized.info(memory_usage='deep')"
   ]
  },
  {
   "cell_type": "markdown",
   "metadata": {},
   "source": [
    "### categories\n",
    "1) change the object type columns to type category\n",
    "2) check the memory usage, it probably has a decrease of 2-3 times compared to the initial df"
   ]
  },
  {
   "cell_type": "code",
   "execution_count": 32,
   "metadata": {},
   "outputs": [
    {
     "name": "stdout",
     "output_type": "stream",
     "text": [
      "<class 'pandas.core.frame.DataFrame'>\n",
      "Index: 930 entries, Y163O8161RUS to E567FG890RUS\n",
      "Data columns (total 11 columns):\n",
      " #   Column               Non-Null Count  Dtype   \n",
      "---  ------               --------------  -----   \n",
      " 0   index                930 non-null    uint16  \n",
      " 1   Refund               930 non-null    float32 \n",
      " 2   Fines                930 non-null    float32 \n",
      " 3   Make                 930 non-null    category\n",
      " 4   Model                919 non-null    category\n",
      " 5   Year                 930 non-null    uint16  \n",
      " 6   Calculated_Loop      930 non-null    float64 \n",
      " 7   Calculated_Iterrows  930 non-null    float64 \n",
      " 8   Calculated_Apply     930 non-null    float64 \n",
      " 9   Calculated_Series    930 non-null    float64 \n",
      " 10  Calculated_Values    930 non-null    float64 \n",
      "dtypes: category(2), float32(2), float64(5), uint16(2)\n",
      "memory usage: 138.3 KB\n"
     ]
    }
   ],
   "source": [
    "for col in fines_optimized.select_dtypes(include='object').columns:\n",
    "    fines_optimized[col] = fines_optimized[col].astype('category')\n",
    "fines_optimized.info(memory_usage='deep')"
   ]
  },
  {
   "cell_type": "markdown",
   "metadata": {},
   "source": [
    "### memory clean\n",
    "1) using %reset_selective and the library gc clean the memory of your initial dataframe only"
   ]
  },
  {
   "cell_type": "code",
   "execution_count": 33,
   "metadata": {},
   "outputs": [
    {
     "data": {
      "text/plain": [
       "510"
      ]
     },
     "execution_count": 33,
     "metadata": {},
     "output_type": "execute_result"
    }
   ],
   "source": [
    "%reset_selective -f fines\n",
    "gc.collect()"
   ]
  },
  {
   "cell_type": "code",
   "execution_count": 34,
   "metadata": {},
   "outputs": [
    {
     "ename": "NameError",
     "evalue": "name 'fines' is not defined",
     "output_type": "error",
     "traceback": [
      "\u001b[0;31m---------------------------------------------------------------------------\u001b[0m",
      "\u001b[0;31mNameError\u001b[0m                                 Traceback (most recent call last)",
      "Cell \u001b[0;32mIn[34], line 1\u001b[0m\n\u001b[0;32m----> 1\u001b[0m fines\n",
      "\u001b[0;31mNameError\u001b[0m: name 'fines' is not defined"
     ]
    }
   ],
   "source": [
    "fines"
   ]
  }
 ],
 "metadata": {
  "kernelspec": {
   "display_name": "base",
   "language": "python",
   "name": "python3"
  },
  "language_info": {
   "codemirror_mode": {
    "name": "ipython",
    "version": 3
   },
   "file_extension": ".py",
   "mimetype": "text/x-python",
   "name": "python",
   "nbconvert_exporter": "python",
   "pygments_lexer": "ipython3",
   "version": "3.12.7"
  }
 },
 "nbformat": 4,
 "nbformat_minor": 2
}
