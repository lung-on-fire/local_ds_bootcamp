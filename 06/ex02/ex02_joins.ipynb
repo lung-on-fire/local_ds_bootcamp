{
 "cells": [
  {
   "cell_type": "markdown",
   "metadata": {},
   "source": [
    "# Exercise 02 : Join"
   ]
  },
  {
   "cell_type": "code",
   "execution_count": 1,
   "metadata": {},
   "outputs": [],
   "source": [
    "import pandas as pd \n",
    "import sqlite3"
   ]
  },
  {
   "cell_type": "markdown",
   "metadata": {},
   "source": [
    "## create a connection to the database using the library sqlite3"
   ]
  },
  {
   "cell_type": "code",
   "execution_count": 2,
   "metadata": {},
   "outputs": [],
   "source": [
    "connection = sqlite3.connect('../../data/checking-logs.sqlite')\n",
    "cursor = connection.cursor()"
   ]
  },
  {
   "cell_type": "markdown",
   "metadata": {},
   "source": [
    "## create a new table datamart in the database by joining the tables pageviews and checker using only one query\n",
    "- the table should have the following columns: uid, labname, first_commit_ts, first_view_ts\n",
    "- first_commit_ts is just a new name of the column timestamp from the checker table, it shows the first commit from a particular lab and from a particular user\n",
    "- first_view_ts is the first visit of a user to the table pageviews, timestamp when a user visited the newsfeed\n",
    "- status = ’ready’ should still be a filter\n",
    "- numTrials = 1 should still be a filter\n",
    "- labnames should still be from the list: ’laba04’, ’laba04s’, ’laba05’, ’laba06’, ’laba06s’, ’project1’\n",
    "- the table should contain only the users (uids with user_*) and not the admins\n",
    "- first_commit_ts and first_view_ts should be parsed as datetime64[ns]"
   ]
  },
  {
   "cell_type": "code",
   "execution_count": 3,
   "metadata": {},
   "outputs": [],
   "source": [
    "drop_table_query = \"DROP TABLE IF EXISTS datamart;\"\n",
    "cursor.execute(drop_table_query)\n",
    "connection.commit()"
   ]
  },
  {
   "cell_type": "code",
   "execution_count": 4,
   "metadata": {},
   "outputs": [],
   "source": [
    "#checkers = pd.io.sql.read_sql(\"SELECT uid, labname, timestamp FROM checker WHERE status = 'ready' AND (uid NOT LIKE 'admin_%') AND numTrials = 1 AND labname in ('laba04', 'laba04s', 'laba05', 'laba06', 'laba06s', 'project1') ORDER BY uid ASC\", connection)\n",
    "#checkers"
   ]
  },
  {
   "cell_type": "code",
   "execution_count": 5,
   "metadata": {},
   "outputs": [
    {
     "data": {
      "text/html": [
       "<div>\n",
       "<style scoped>\n",
       "    .dataframe tbody tr th:only-of-type {\n",
       "        vertical-align: middle;\n",
       "    }\n",
       "\n",
       "    .dataframe tbody tr th {\n",
       "        vertical-align: top;\n",
       "    }\n",
       "\n",
       "    .dataframe thead th {\n",
       "        text-align: right;\n",
       "    }\n",
       "</style>\n",
       "<table border=\"1\" class=\"dataframe\">\n",
       "  <thead>\n",
       "    <tr style=\"text-align: right;\">\n",
       "      <th></th>\n",
       "      <th>uid</th>\n",
       "      <th>datetime</th>\n",
       "    </tr>\n",
       "  </thead>\n",
       "  <tbody>\n",
       "    <tr>\n",
       "      <th>0</th>\n",
       "      <td>user_1</td>\n",
       "      <td>2020-04-26 21:53:59.624136</td>\n",
       "    </tr>\n",
       "    <tr>\n",
       "      <th>1</th>\n",
       "      <td>user_10</td>\n",
       "      <td>2020-04-18 12:19:50.182714</td>\n",
       "    </tr>\n",
       "    <tr>\n",
       "      <th>2</th>\n",
       "      <td>user_14</td>\n",
       "      <td>2020-04-18 10:53:52.623447</td>\n",
       "    </tr>\n",
       "    <tr>\n",
       "      <th>3</th>\n",
       "      <td>user_17</td>\n",
       "      <td>2020-04-18 10:56:55.833899</td>\n",
       "    </tr>\n",
       "    <tr>\n",
       "      <th>4</th>\n",
       "      <td>user_18</td>\n",
       "      <td>2020-04-26 22:49:29.243278</td>\n",
       "    </tr>\n",
       "    <tr>\n",
       "      <th>5</th>\n",
       "      <td>user_19</td>\n",
       "      <td>2020-04-21 20:30:38.034966</td>\n",
       "    </tr>\n",
       "    <tr>\n",
       "      <th>6</th>\n",
       "      <td>user_21</td>\n",
       "      <td>2020-04-22 22:40:36.824081</td>\n",
       "    </tr>\n",
       "    <tr>\n",
       "      <th>7</th>\n",
       "      <td>user_25</td>\n",
       "      <td>2020-05-09 23:54:54.260791</td>\n",
       "    </tr>\n",
       "    <tr>\n",
       "      <th>8</th>\n",
       "      <td>user_28</td>\n",
       "      <td>2020-05-10 21:07:50.350946</td>\n",
       "    </tr>\n",
       "    <tr>\n",
       "      <th>9</th>\n",
       "      <td>user_3</td>\n",
       "      <td>2020-05-08 10:53:47.123832</td>\n",
       "    </tr>\n",
       "    <tr>\n",
       "      <th>10</th>\n",
       "      <td>user_30</td>\n",
       "      <td>2020-04-17 22:46:26.785035</td>\n",
       "    </tr>\n",
       "    <tr>\n",
       "      <th>11</th>\n",
       "      <td>user_5</td>\n",
       "      <td>2020-05-22 11:30:18.368990</td>\n",
       "    </tr>\n",
       "    <tr>\n",
       "      <th>12</th>\n",
       "      <td>user_9</td>\n",
       "      <td>2020-05-21 16:28:28.217529</td>\n",
       "    </tr>\n",
       "  </tbody>\n",
       "</table>\n",
       "</div>"
      ],
      "text/plain": [
       "        uid                    datetime\n",
       "0    user_1  2020-04-26 21:53:59.624136\n",
       "1   user_10  2020-04-18 12:19:50.182714\n",
       "2   user_14  2020-04-18 10:53:52.623447\n",
       "3   user_17  2020-04-18 10:56:55.833899\n",
       "4   user_18  2020-04-26 22:49:29.243278\n",
       "5   user_19  2020-04-21 20:30:38.034966\n",
       "6   user_21  2020-04-22 22:40:36.824081\n",
       "7   user_25  2020-05-09 23:54:54.260791\n",
       "8   user_28  2020-05-10 21:07:50.350946\n",
       "9    user_3  2020-05-08 10:53:47.123832\n",
       "10  user_30  2020-04-17 22:46:26.785035\n",
       "11   user_5  2020-05-22 11:30:18.368990\n",
       "12   user_9  2020-05-21 16:28:28.217529"
      ]
     },
     "execution_count": 5,
     "metadata": {},
     "output_type": "execute_result"
    }
   ],
   "source": [
    "PAGEVIEWS = pd.io.sql.read_sql(\"SELECT uid, MIN(datetime) AS datetime FROM pageviews WHERE (uid LIKE 'user_%') GROUP BY uid\", connection)\n",
    "PAGEVIEWS"
   ]
  },
  {
   "cell_type": "code",
   "execution_count": 6,
   "metadata": {},
   "outputs": [],
   "source": [
    "insert_data_query = \"\"\"\n",
    "CREATE TABLE datamart AS\n",
    "SELECT\n",
    "    c.uid,\n",
    "    c.labname,\n",
    "    MIN(c.timestamp) AS first_commit_ts,\n",
    "    MIN(p.datetime) AS first_view_ts\n",
    "FROM\n",
    "    checker c\n",
    "LEFT JOIN\n",
    "    pageviews p ON c.uid = p.uid\n",
    "    WHERE c.status = 'ready' \n",
    "    AND c.numTrials = 1 \n",
    "    AND c.labname in ('laba04', 'laba04s', 'laba05', 'laba06', 'laba06s', 'project1')\n",
    "    AND (c.uid LIKE 'user_%')\n",
    "\n",
    "GROUP BY \n",
    "    c.uid, \n",
    "    c.labname\n",
    "\n",
    "\"\"\"\n",
    "# OR c.uid IS NULL\n",
    "cursor.execute(insert_data_query)\n",
    "connection.commit()\n"
   ]
  },
  {
   "cell_type": "code",
   "execution_count": 7,
   "metadata": {},
   "outputs": [
    {
     "name": "stdout",
     "output_type": "stream",
     "text": [
      "<class 'pandas.core.frame.DataFrame'>\n",
      "RangeIndex: 140 entries, 0 to 139\n",
      "Data columns (total 4 columns):\n",
      " #   Column           Non-Null Count  Dtype         \n",
      "---  ------           --------------  -----         \n",
      " 0   uid              140 non-null    object        \n",
      " 1   labname          140 non-null    object        \n",
      " 2   first_commit_ts  140 non-null    datetime64[ns]\n",
      " 3   first_view_ts    59 non-null     datetime64[ns]\n",
      "dtypes: datetime64[ns](2), object(2)\n",
      "memory usage: 4.5+ KB\n"
     ]
    }
   ],
   "source": [
    "datamart = pd.io.sql.read_sql(\"SELECT * FROM datamart\", connection, parse_dates=['first_commit_ts', 'first_view_ts'])\n",
    "datamart.info()"
   ]
  },
  {
   "cell_type": "code",
   "execution_count": 8,
   "metadata": {},
   "outputs": [
    {
     "data": {
      "text/html": [
       "<div>\n",
       "<style scoped>\n",
       "    .dataframe tbody tr th:only-of-type {\n",
       "        vertical-align: middle;\n",
       "    }\n",
       "\n",
       "    .dataframe tbody tr th {\n",
       "        vertical-align: top;\n",
       "    }\n",
       "\n",
       "    .dataframe thead th {\n",
       "        text-align: right;\n",
       "    }\n",
       "</style>\n",
       "<table border=\"1\" class=\"dataframe\">\n",
       "  <thead>\n",
       "    <tr style=\"text-align: right;\">\n",
       "      <th></th>\n",
       "      <th>uid</th>\n",
       "      <th>labname</th>\n",
       "      <th>first_commit_ts</th>\n",
       "      <th>first_view_ts</th>\n",
       "    </tr>\n",
       "  </thead>\n",
       "  <tbody>\n",
       "    <tr>\n",
       "      <th>0</th>\n",
       "      <td>user_1</td>\n",
       "      <td>laba04</td>\n",
       "      <td>2020-04-26 17:06:18.462708</td>\n",
       "      <td>2020-04-26 21:53:59.624136</td>\n",
       "    </tr>\n",
       "    <tr>\n",
       "      <th>1</th>\n",
       "      <td>user_1</td>\n",
       "      <td>laba04s</td>\n",
       "      <td>2020-04-26 17:12:11.843671</td>\n",
       "      <td>2020-04-26 21:53:59.624136</td>\n",
       "    </tr>\n",
       "    <tr>\n",
       "      <th>2</th>\n",
       "      <td>user_1</td>\n",
       "      <td>laba05</td>\n",
       "      <td>2020-05-02 19:15:18.540185</td>\n",
       "      <td>2020-04-26 21:53:59.624136</td>\n",
       "    </tr>\n",
       "    <tr>\n",
       "      <th>3</th>\n",
       "      <td>user_1</td>\n",
       "      <td>laba06</td>\n",
       "      <td>2020-05-17 16:26:35.268534</td>\n",
       "      <td>2020-04-26 21:53:59.624136</td>\n",
       "    </tr>\n",
       "    <tr>\n",
       "      <th>4</th>\n",
       "      <td>user_1</td>\n",
       "      <td>laba06s</td>\n",
       "      <td>2020-05-20 12:23:37.289724</td>\n",
       "      <td>2020-04-26 21:53:59.624136</td>\n",
       "    </tr>\n",
       "    <tr>\n",
       "      <th>5</th>\n",
       "      <td>user_1</td>\n",
       "      <td>project1</td>\n",
       "      <td>2020-05-14 20:56:08.898880</td>\n",
       "      <td>2020-04-26 21:53:59.624136</td>\n",
       "    </tr>\n",
       "    <tr>\n",
       "      <th>6</th>\n",
       "      <td>user_10</td>\n",
       "      <td>laba04</td>\n",
       "      <td>2020-04-25 08:24:52.696624</td>\n",
       "      <td>2020-04-18 12:19:50.182714</td>\n",
       "    </tr>\n",
       "    <tr>\n",
       "      <th>7</th>\n",
       "      <td>user_10</td>\n",
       "      <td>laba04s</td>\n",
       "      <td>2020-04-25 08:37:54.604222</td>\n",
       "      <td>2020-04-18 12:19:50.182714</td>\n",
       "    </tr>\n",
       "    <tr>\n",
       "      <th>8</th>\n",
       "      <td>user_10</td>\n",
       "      <td>laba05</td>\n",
       "      <td>2020-05-01 19:27:26.063245</td>\n",
       "      <td>2020-04-18 12:19:50.182714</td>\n",
       "    </tr>\n",
       "    <tr>\n",
       "      <th>9</th>\n",
       "      <td>user_10</td>\n",
       "      <td>laba06</td>\n",
       "      <td>2020-05-19 11:39:28.885637</td>\n",
       "      <td>2020-04-18 12:19:50.182714</td>\n",
       "    </tr>\n",
       "    <tr>\n",
       "      <th>10</th>\n",
       "      <td>user_10</td>\n",
       "      <td>laba06s</td>\n",
       "      <td>2020-05-20 07:37:31.175817</td>\n",
       "      <td>2020-04-18 12:19:50.182714</td>\n",
       "    </tr>\n",
       "    <tr>\n",
       "      <th>11</th>\n",
       "      <td>user_10</td>\n",
       "      <td>project1</td>\n",
       "      <td>2020-05-12 20:12:28.056618</td>\n",
       "      <td>2020-04-18 12:19:50.182714</td>\n",
       "    </tr>\n",
       "    <tr>\n",
       "      <th>12</th>\n",
       "      <td>user_11</td>\n",
       "      <td>laba05</td>\n",
       "      <td>2020-05-03 21:06:55.970293</td>\n",
       "      <td>NaT</td>\n",
       "    </tr>\n",
       "    <tr>\n",
       "      <th>13</th>\n",
       "      <td>user_11</td>\n",
       "      <td>project1</td>\n",
       "      <td>2020-05-03 23:45:33.673409</td>\n",
       "      <td>NaT</td>\n",
       "    </tr>\n",
       "    <tr>\n",
       "      <th>14</th>\n",
       "      <td>user_12</td>\n",
       "      <td>laba04</td>\n",
       "      <td>2020-04-18 17:07:51.767358</td>\n",
       "      <td>NaT</td>\n",
       "    </tr>\n",
       "    <tr>\n",
       "      <th>15</th>\n",
       "      <td>user_12</td>\n",
       "      <td>laba04s</td>\n",
       "      <td>2020-04-26 15:42:38.070593</td>\n",
       "      <td>NaT</td>\n",
       "    </tr>\n",
       "    <tr>\n",
       "      <th>16</th>\n",
       "      <td>user_12</td>\n",
       "      <td>laba05</td>\n",
       "      <td>2020-05-03 08:39:25.174316</td>\n",
       "      <td>NaT</td>\n",
       "    </tr>\n",
       "    <tr>\n",
       "      <th>17</th>\n",
       "      <td>user_12</td>\n",
       "      <td>laba06</td>\n",
       "      <td>2020-05-19 08:41:51.082304</td>\n",
       "      <td>NaT</td>\n",
       "    </tr>\n",
       "    <tr>\n",
       "      <th>18</th>\n",
       "      <td>user_12</td>\n",
       "      <td>project1</td>\n",
       "      <td>2020-05-14 18:17:40.702024</td>\n",
       "      <td>NaT</td>\n",
       "    </tr>\n",
       "    <tr>\n",
       "      <th>19</th>\n",
       "      <td>user_13</td>\n",
       "      <td>laba04</td>\n",
       "      <td>2020-04-25 17:56:16.919886</td>\n",
       "      <td>NaT</td>\n",
       "    </tr>\n",
       "  </tbody>\n",
       "</table>\n",
       "</div>"
      ],
      "text/plain": [
       "        uid   labname            first_commit_ts              first_view_ts\n",
       "0    user_1    laba04 2020-04-26 17:06:18.462708 2020-04-26 21:53:59.624136\n",
       "1    user_1   laba04s 2020-04-26 17:12:11.843671 2020-04-26 21:53:59.624136\n",
       "2    user_1    laba05 2020-05-02 19:15:18.540185 2020-04-26 21:53:59.624136\n",
       "3    user_1    laba06 2020-05-17 16:26:35.268534 2020-04-26 21:53:59.624136\n",
       "4    user_1   laba06s 2020-05-20 12:23:37.289724 2020-04-26 21:53:59.624136\n",
       "5    user_1  project1 2020-05-14 20:56:08.898880 2020-04-26 21:53:59.624136\n",
       "6   user_10    laba04 2020-04-25 08:24:52.696624 2020-04-18 12:19:50.182714\n",
       "7   user_10   laba04s 2020-04-25 08:37:54.604222 2020-04-18 12:19:50.182714\n",
       "8   user_10    laba05 2020-05-01 19:27:26.063245 2020-04-18 12:19:50.182714\n",
       "9   user_10    laba06 2020-05-19 11:39:28.885637 2020-04-18 12:19:50.182714\n",
       "10  user_10   laba06s 2020-05-20 07:37:31.175817 2020-04-18 12:19:50.182714\n",
       "11  user_10  project1 2020-05-12 20:12:28.056618 2020-04-18 12:19:50.182714\n",
       "12  user_11    laba05 2020-05-03 21:06:55.970293                        NaT\n",
       "13  user_11  project1 2020-05-03 23:45:33.673409                        NaT\n",
       "14  user_12    laba04 2020-04-18 17:07:51.767358                        NaT\n",
       "15  user_12   laba04s 2020-04-26 15:42:38.070593                        NaT\n",
       "16  user_12    laba05 2020-05-03 08:39:25.174316                        NaT\n",
       "17  user_12    laba06 2020-05-19 08:41:51.082304                        NaT\n",
       "18  user_12  project1 2020-05-14 18:17:40.702024                        NaT\n",
       "19  user_13    laba04 2020-04-25 17:56:16.919886                        NaT"
      ]
     },
     "execution_count": 8,
     "metadata": {},
     "output_type": "execute_result"
    }
   ],
   "source": [
    "datamart.head(20)"
   ]
  },
  {
   "cell_type": "markdown",
   "metadata": {},
   "source": [
    "## using Pandas methods, create two dataframes: test and control\n",
    "- test should have the users that have the values in first_view_ts\n",
    "- control should have the users that have missing values in first_view_ts"
   ]
  },
  {
   "cell_type": "code",
   "execution_count": 9,
   "metadata": {},
   "outputs": [
    {
     "name": "stdout",
     "output_type": "stream",
     "text": [
      "<class 'pandas.core.frame.DataFrame'>\n",
      "Index: 59 entries, 0 to 114\n",
      "Data columns (total 4 columns):\n",
      " #   Column           Non-Null Count  Dtype         \n",
      "---  ------           --------------  -----         \n",
      " 0   uid              59 non-null     object        \n",
      " 1   labname          59 non-null     object        \n",
      " 2   first_commit_ts  59 non-null     datetime64[ns]\n",
      " 3   first_view_ts    59 non-null     datetime64[ns]\n",
      "dtypes: datetime64[ns](2), object(2)\n",
      "memory usage: 2.3+ KB\n"
     ]
    }
   ],
   "source": [
    "#test_df = (datamart.dropna(subset=['first_view_ts']).reset_index(drop=True))\n",
    "test_df = datamart.dropna(subset=['first_view_ts'])\n",
    "test_df.info()"
   ]
  },
  {
   "cell_type": "code",
   "execution_count": 10,
   "metadata": {},
   "outputs": [
    {
     "name": "stdout",
     "output_type": "stream",
     "text": [
      "<class 'pandas.core.frame.DataFrame'>\n",
      "Index: 81 entries, 12 to 139\n",
      "Data columns (total 4 columns):\n",
      " #   Column           Non-Null Count  Dtype         \n",
      "---  ------           --------------  -----         \n",
      " 0   uid              81 non-null     object        \n",
      " 1   labname          81 non-null     object        \n",
      " 2   first_commit_ts  81 non-null     datetime64[ns]\n",
      " 3   first_view_ts    0 non-null      datetime64[ns]\n",
      "dtypes: datetime64[ns](2), object(2)\n",
      "memory usage: 3.2+ KB\n"
     ]
    }
   ],
   "source": [
    "control_df = datamart[datamart['first_view_ts'].isna()]\n",
    "control_df.info()"
   ]
  },
  {
   "cell_type": "markdown",
   "metadata": {},
   "source": [
    "- replace the missing values in the control with the average first_view_ts of the test users, we will use this value for the future analysis\n",
    "- save both tables into the database, you will use them in the next exercises"
   ]
  },
  {
   "cell_type": "code",
   "execution_count": 11,
   "metadata": {},
   "outputs": [
    {
     "data": {
      "text/plain": [
       "Timestamp('2020-04-27 00:40:05.761783552')"
      ]
     },
     "execution_count": 11,
     "metadata": {},
     "output_type": "execute_result"
    }
   ],
   "source": [
    "average_test_first_view_ts = test_df['first_view_ts'].mean()\n",
    "average_test_first_view_ts"
   ]
  },
  {
   "cell_type": "code",
   "execution_count": 12,
   "metadata": {},
   "outputs": [
    {
     "name": "stdout",
     "output_type": "stream",
     "text": [
      "<class 'pandas.core.frame.DataFrame'>\n",
      "Index: 81 entries, 12 to 139\n",
      "Data columns (total 4 columns):\n",
      " #   Column           Non-Null Count  Dtype         \n",
      "---  ------           --------------  -----         \n",
      " 0   uid              81 non-null     object        \n",
      " 1   labname          81 non-null     object        \n",
      " 2   first_commit_ts  81 non-null     datetime64[ns]\n",
      " 3   first_view_ts    81 non-null     datetime64[ns]\n",
      "dtypes: datetime64[ns](2), object(2)\n",
      "memory usage: 3.2+ KB\n"
     ]
    }
   ],
   "source": [
    "control_df = control_df.copy()\n",
    "control_df['first_view_ts'] = control_df['first_view_ts'].fillna(average_test_first_view_ts)\n",
    "#control_df.reset_index(drop=True, inplace=True)\n",
    "control_df.info()"
   ]
  },
  {
   "cell_type": "code",
   "execution_count": 13,
   "metadata": {},
   "outputs": [
    {
     "data": {
      "text/plain": [
       "59"
      ]
     },
     "execution_count": 13,
     "metadata": {},
     "output_type": "execute_result"
    }
   ],
   "source": [
    "test_df.to_sql('test', connection, if_exists='replace', index=False)"
   ]
  },
  {
   "cell_type": "code",
   "execution_count": 14,
   "metadata": {},
   "outputs": [
    {
     "data": {
      "text/plain": [
       "81"
      ]
     },
     "execution_count": 14,
     "metadata": {},
     "output_type": "execute_result"
    }
   ],
   "source": [
    "control_df.to_sql('control', connection, if_exists='replace', index=False)"
   ]
  },
  {
   "cell_type": "code",
   "execution_count": 15,
   "metadata": {},
   "outputs": [],
   "source": [
    "connection.close()"
   ]
  }
 ],
 "metadata": {
  "kernelspec": {
   "display_name": "base",
   "language": "python",
   "name": "python3"
  },
  "language_info": {
   "codemirror_mode": {
    "name": "ipython",
    "version": 3
   },
   "file_extension": ".py",
   "mimetype": "text/x-python",
   "name": "python",
   "nbconvert_exporter": "python",
   "pygments_lexer": "ipython3",
   "version": "3.12.7"
  }
 },
 "nbformat": 4,
 "nbformat_minor": 2
}
