{
 "cells": [
  {
   "cell_type": "markdown",
   "id": "8935d762",
   "metadata": {},
   "source": [
    "# Exercise 04 : A/B-testing"
   ]
  },
  {
   "cell_type": "code",
   "execution_count": 1,
   "id": "707b0237",
   "metadata": {},
   "outputs": [],
   "source": [
    "import pandas as pd\n",
    "import sqlite3"
   ]
  },
  {
   "cell_type": "markdown",
   "id": "5a303ff7",
   "metadata": {},
   "source": [
    "## create a connection to the database using the library sqlite3"
   ]
  },
  {
   "cell_type": "code",
   "execution_count": 2,
   "id": "c7d35243",
   "metadata": {},
   "outputs": [],
   "source": [
    "connection = sqlite3.connect(\"../../data/checking-logs.sqlite\")\n",
    "cursor = connection.cursor()"
   ]
  },
  {
   "cell_type": "markdown",
   "id": "ecd17b6b",
   "metadata": {},
   "source": [
    "## using only one query for each of the groups, create two dataframes: test_results and control_results with the columns time and avg_diff and only two rows\n",
    "\n",
    "- time should have the values: after and before\n",
    "- avg_diff contains the average delta among all the users for the time period before each of them made their first visit to the page and afterward\n",
    "- only take into account the users that have observations before and after\n",
    "- we still are not using the lab ’project1’"
   ]
  },
  {
   "cell_type": "code",
   "execution_count": 3,
   "id": "ea3f3adf",
   "metadata": {},
   "outputs": [],
   "source": [
    "cursor.execute(\"DROP TABLE IF EXISTS test_results;\")\n",
    "connection.commit()"
   ]
  },
  {
   "cell_type": "code",
   "execution_count": 4,
   "id": "0b19cd14",
   "metadata": {},
   "outputs": [],
   "source": [
    "create_query = \"\"\"\n",
    "CREATE TABLE test_results (time TIMESTAMP CHECK(time IN ('before', 'after')), avg_diff FLOAT);\n",
    "\"\"\"  \n",
    "cursor.execute(create_query)\n",
    "connection.commit()"
   ]
  },
  {
   "cell_type": "code",
   "execution_count": 5,
   "id": "27ea2f5d",
   "metadata": {},
   "outputs": [],
   "source": [
    "# без CTE\n",
    "# insert_data_query = \"\"\"\n",
    "#INSERT INTO test_results(time, avg_diff)\n",
    "#SELECT \n",
    "#    time_periods.time,\n",
    "#    AVG(CAST((unixepoch(t.first_commit_ts) - d.deadlines)/3600 AS INTEGER)) AS avg_diff\n",
    "#FROM \n",
    "#    (SELECT 'before' AS time UNION ALL SELECT 'after') AS time_periods\n",
    "#JOIN test t ON\n",
    "#    (time_periods.time = 'before' AND t.first_commit_ts < t.first_view_ts) OR\n",
    "#    (time_periods.time = 'after' AND t.first_commit_ts >= t.first_view_ts)\n",
    "#JOIN deadlines d ON t.labname = d.labs\n",
    "#WHERE \n",
    "#    t.uid IN (\n",
    "#        SELECT t1.uid\n",
    "#        FROM test t1\n",
    "#        WHERE t1.labname IN ('laba04', 'laba04s', 'laba05', 'laba06', 'laba06s')\n",
    "#        GROUP BY t1.uid\n",
    "#        HAVING \n",
    "#            SUM(CASE WHEN t1.first_commit_ts < t1.first_view_ts THEN 1 ELSE 0 END) > 0 AND\n",
    "#            SUM(CASE WHEN t1.first_commit_ts >= t1.first_view_ts THEN 1 ELSE 0 END) > 0\n",
    "#    )\n",
    "#GROUP BY time_periods.time\n",
    "#ORDER BY time_periods.time = 'before' DESC\n",
    "#\"\"\"\n",
    "#cursor.execute(insert_data_query)\n",
    "#connection.commit()\n",
    "#test_results = pd.io.sql.read_sql(\"SELECT * FROM test_results\", connection)\n",
    "#test_results"
   ]
  },
  {
   "cell_type": "code",
   "execution_count": 6,
   "id": "5807e1a3",
   "metadata": {},
   "outputs": [],
   "source": [
    "#с СTE\n",
    "# insert_data_query = \"\"\"\n",
    "#WITH \n",
    "#    time_periods AS (\n",
    "#        SELECT 'before' AS time \n",
    "#        UNION ALL \n",
    "#        SELECT 'after' AS time\n",
    "#    ),\n",
    "#\n",
    "#    valid_users AS (\n",
    "#        SELECT t1.uid\n",
    "#        FROM test t1\n",
    "#        WHERE t1.labname IN ('laba04', 'laba04s', 'laba05', 'laba06', 'laba06s')\n",
    "#        GROUP BY t1.uid\n",
    "#        HAVING \n",
    "#            SUM(CASE WHEN t1.first_commit_ts < t1.first_view_ts THEN 1 ELSE 0 END) > 0 AND\n",
    "#            SUM(CASE WHEN t1.first_commit_ts >= t1.first_view_ts THEN 1 ELSE 0 END) > 0\n",
    "#    )\n",
    "#\n",
    "#INSERT INTO test_results(time, avg_diff)\n",
    "#SELECT \n",
    "#    tp.time,\n",
    "#    AVG(CAST((JULIANDAY(t.first_commit_ts) - JULIANDAY(datetime(d.deadlines, 'unixepoch'))) * 24 AS INTEGER)) AS avg_diff\n",
    "#FROM \n",
    "#    time_periods tp\n",
    "#JOIN \n",
    "#    test t ON (tp.time = 'before' AND t.first_commit_ts < t.first_view_ts) OR\n",
    "#              (tp.time = 'after' AND t.first_commit_ts >= t.first_view_ts)\n",
    "#JOIN \n",
    "#    deadlines d ON t.labname = d.labs\n",
    "#JOIN\n",
    "#    valid_users v ON t.uid = v.uid\n",
    "#GROUP BY \n",
    "#    tp.time\n",
    "#ORDER BY \n",
    "#    tp.time = 'before' DESC;\n",
    "#\"\"\"\n",
    "##AVG(CAST((strftime(\"%s\", t.first_commit_ts) - d.deadlines)/3600 AS INTEGER)) AS avg_diff\n",
    "##AVG(CAST((JULIANDAY(t.first_commit_ts) - JULIANDAY(datetime(d.deadlines, 'unixepoch'))) * 24 AS INTEGER)) \n",
    "##AVG((strftime('%s', t.first_commit_ts) - d.deadlines) / 3600.0) AS avg_diff\n",
    "##AVG((strftime('%s', t.first_commit_ts) - strftime('%s', datetime(d.deadlines, 'unixepoch', 'localtime')))/ 3600.0) AS avg_diff -80 -107\n",
    "##AVG((JULIANDAY(t.first_commit_ts) - JULIANDAY(datetime(d.deadlines, 'unixepoch', 'localtime'))) * 24) AS avg_diff -80 -107\n",
    "#cursor.execute(insert_data_query)\n",
    "#connection.commit()\n",
    "#test_results = pd.io.sql.read_sql(\"SELECT * FROM test_results\", connection)\n",
    "#test_results"
   ]
  },
  {
   "cell_type": "code",
   "execution_count": 7,
   "id": "ca5b3924",
   "metadata": {},
   "outputs": [
    {
     "data": {
      "text/html": [
       "<div>\n",
       "<style scoped>\n",
       "    .dataframe tbody tr th:only-of-type {\n",
       "        vertical-align: middle;\n",
       "    }\n",
       "\n",
       "    .dataframe tbody tr th {\n",
       "        vertical-align: top;\n",
       "    }\n",
       "\n",
       "    .dataframe thead th {\n",
       "        text-align: right;\n",
       "    }\n",
       "</style>\n",
       "<table border=\"1\" class=\"dataframe\">\n",
       "  <thead>\n",
       "    <tr style=\"text-align: right;\">\n",
       "      <th></th>\n",
       "      <th>time</th>\n",
       "      <th>avg_diff</th>\n",
       "    </tr>\n",
       "  </thead>\n",
       "  <tbody>\n",
       "    <tr>\n",
       "      <th>0</th>\n",
       "      <td>before</td>\n",
       "      <td>-60.5625</td>\n",
       "    </tr>\n",
       "    <tr>\n",
       "      <th>1</th>\n",
       "      <td>after</td>\n",
       "      <td>-104.6000</td>\n",
       "    </tr>\n",
       "  </tbody>\n",
       "</table>\n",
       "</div>"
      ],
      "text/plain": [
       "     time  avg_diff\n",
       "0  before  -60.5625\n",
       "1   after -104.6000"
      ]
     },
     "execution_count": 7,
     "metadata": {},
     "output_type": "execute_result"
    }
   ],
   "source": [
    "#отдельный подсчет разницы для каждого юзера\n",
    "insert_data_query = \"\"\"\n",
    "WITH \n",
    "valid_users AS (\n",
    "    SELECT t1.uid\n",
    "    FROM test t1\n",
    "    WHERE t1.labname IN ('laba04', 'laba04s', 'laba05', 'laba06', 'laba06s')\n",
    "    GROUP BY t1.uid\n",
    "    HAVING \n",
    "        SUM(CASE WHEN t1.first_commit_ts < t1.first_view_ts THEN 1 ELSE 0 END) > 0 AND\n",
    "        SUM(CASE WHEN t1.first_commit_ts >= t1.first_view_ts THEN 1 ELSE 0 END) > 0\n",
    "),\n",
    "\n",
    "\n",
    "time_differences AS (\n",
    "    SELECT \n",
    "        CASE \n",
    "            WHEN t.first_commit_ts < t.first_view_ts THEN 'before'\n",
    "            ELSE 'after'\n",
    "        END AS time_period,\n",
    "        CAST((JULIANDAY(t.first_commit_ts) - JULIANDAY(datetime(d.deadlines, 'unixepoch'))) * 24 AS INTEGER) AS hours_diff\n",
    "    FROM test t\n",
    "    JOIN deadlines d ON t.labname = d.labs\n",
    "    JOIN valid_users v ON t.uid = v.uid\n",
    "    WHERE t.labname IN ('laba04', 'laba04s', 'laba05', 'laba06', 'laba06s')\n",
    ")\n",
    "\n",
    "INSERT INTO test_results(time, avg_diff)\n",
    "SELECT \n",
    "    time_period AS time,\n",
    "    AVG(hours_diff) AS avg_diff\n",
    "FROM time_differences\n",
    "GROUP BY time_period\n",
    "ORDER BY time_period = 'before' DESC;\n",
    "\"\"\"\n",
    "cursor.execute(insert_data_query)\n",
    "connection.commit()\n",
    "test_results = pd.io.sql.read_sql(\"SELECT * FROM test_results\", connection)\n",
    "test_results"
   ]
  },
  {
   "cell_type": "code",
   "execution_count": 8,
   "id": "16d66400",
   "metadata": {},
   "outputs": [],
   "source": [
    "cursor.execute(\"DROP TABLE IF EXISTS control_results;\")\n",
    "connection.commit()"
   ]
  },
  {
   "cell_type": "code",
   "execution_count": 9,
   "id": "05b38755",
   "metadata": {},
   "outputs": [],
   "source": [
    "create_query = \"\"\"\n",
    "CREATE TABLE control_results (time TIMESTAMP CHECK(time IN ('before', 'after')), avg_diff INTEGER);\n",
    "\"\"\"  \n",
    "cursor.execute(create_query)\n",
    "connection.commit()"
   ]
  },
  {
   "cell_type": "code",
   "execution_count": 10,
   "id": "1dd1c081",
   "metadata": {},
   "outputs": [
    {
     "data": {
      "text/html": [
       "<div>\n",
       "<style scoped>\n",
       "    .dataframe tbody tr th:only-of-type {\n",
       "        vertical-align: middle;\n",
       "    }\n",
       "\n",
       "    .dataframe tbody tr th {\n",
       "        vertical-align: top;\n",
       "    }\n",
       "\n",
       "    .dataframe thead th {\n",
       "        text-align: right;\n",
       "    }\n",
       "</style>\n",
       "<table border=\"1\" class=\"dataframe\">\n",
       "  <thead>\n",
       "    <tr style=\"text-align: right;\">\n",
       "      <th></th>\n",
       "      <th>time</th>\n",
       "      <th>avg_diff</th>\n",
       "    </tr>\n",
       "  </thead>\n",
       "  <tbody>\n",
       "    <tr>\n",
       "      <th>0</th>\n",
       "      <td>before</td>\n",
       "      <td>-99.464286</td>\n",
       "    </tr>\n",
       "    <tr>\n",
       "      <th>1</th>\n",
       "      <td>after</td>\n",
       "      <td>-117.636364</td>\n",
       "    </tr>\n",
       "  </tbody>\n",
       "</table>\n",
       "</div>"
      ],
      "text/plain": [
       "     time    avg_diff\n",
       "0  before  -99.464286\n",
       "1   after -117.636364"
      ]
     },
     "execution_count": 10,
     "metadata": {},
     "output_type": "execute_result"
    }
   ],
   "source": [
    "# через отдельный подсчет\n",
    "insert_data_query = \"\"\"\n",
    "WITH \n",
    "valid_users AS (\n",
    "    SELECT c1.uid\n",
    "    FROM control c1\n",
    "    WHERE c1.labname IN ('laba04', 'laba04s', 'laba05', 'laba06', 'laba06s')\n",
    "    GROUP BY c1.uid\n",
    "    HAVING \n",
    "        SUM(CASE WHEN c1.first_commit_ts < c1.first_view_ts THEN 1 ELSE 0 END) > 0 AND\n",
    "        SUM(CASE WHEN c1.first_commit_ts >= c1.first_view_ts THEN 1 ELSE 0 END) > 0\n",
    "),\n",
    "\n",
    "\n",
    "time_differences_control AS (\n",
    "    SELECT \n",
    "        CASE \n",
    "            WHEN c.first_commit_ts < c.first_view_ts THEN 'before'\n",
    "            ELSE 'after'\n",
    "        END AS time_period,\n",
    "        CAST((JULIANDAY(c.first_commit_ts) - JULIANDAY(datetime(d.deadlines, 'unixepoch'))) * 24 AS INTEGER) AS hours_diff\n",
    "    FROM control c\n",
    "    JOIN deadlines d ON c.labname = d.labs\n",
    "    JOIN valid_users v ON c.uid = v.uid\n",
    "    WHERE c.labname IN ('laba04', 'laba04s', 'laba05', 'laba06', 'laba06s')\n",
    ")\n",
    "\n",
    "INSERT INTO control_results(time, avg_diff)\n",
    "SELECT \n",
    "    time_period AS time,\n",
    "    AVG(hours_diff) AS avg_diff\n",
    "FROM time_differences_control\n",
    "GROUP BY time_period\n",
    "ORDER BY time_period = 'before' DESC;\n",
    "\"\"\"\n",
    "cursor.execute(insert_data_query)\n",
    "connection.commit()\n",
    "control_results = pd.io.sql.read_sql(\"SELECT * FROM control_results\", connection)\n",
    "control_results"
   ]
  },
  {
   "cell_type": "markdown",
   "id": "0c6f6f5a",
   "metadata": {},
   "source": [
    "## close the connection"
   ]
  },
  {
   "cell_type": "code",
   "execution_count": 11,
   "id": "4baacc8f",
   "metadata": {},
   "outputs": [],
   "source": [
    "connection.close()"
   ]
  },
  {
   "cell_type": "markdown",
   "id": "3eefd15f",
   "metadata": {},
   "source": [
    "## have the answer: did the hypothesis turn out to be true and the page does affect the students’ behavior?"
   ]
  },
  {
   "cell_type": "markdown",
   "id": "81fdada4",
   "metadata": {},
   "source": [
    "## В тестовой группе: до просмотра страницы новостей среднее время от первого коммита до дедлайна - 60 часов, после - 104 часа (дельта 44 часа), то есть те юзеры, которые просмотрели страницу новостей, действительно стали начинать проекты раньше.\n",
    "## В контрольной группе выявлена похожая, но более слабая закономерность (99 часов и 117 часа, соответственно, дельта 18 часов). Это также может отражать естественную тенденцию пользователей делать первые коммиты ближе к дедлайну."
   ]
  }
 ],
 "metadata": {
  "kernelspec": {
   "display_name": "base",
   "language": "python",
   "name": "python3"
  },
  "language_info": {
   "codemirror_mode": {
    "name": "ipython",
    "version": 3
   },
   "file_extension": ".py",
   "mimetype": "text/x-python",
   "name": "python",
   "nbconvert_exporter": "python",
   "pygments_lexer": "ipython3",
   "version": "3.12.7"
  }
 },
 "nbformat": 4,
 "nbformat_minor": 5
}
